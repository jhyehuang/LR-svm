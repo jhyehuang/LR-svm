{
 "cells": [
  {
   "cell_type": "markdown",
   "metadata": {},
   "source": [
    "# Pima Indians Diabetes Data Set（皮马印第安人糖尿病数据集）进行分类"
   ]
  },
  {
   "cell_type": "code",
   "execution_count": 55,
   "metadata": {
    "collapsed": true
   },
   "outputs": [],
   "source": [
    "# 首先 import 必要的模块\n",
    "import pandas as pd \n",
    "import numpy as np\n",
    "\n",
    "from sklearn.model_selection import GridSearchCV\n",
    "\n",
    "#竞赛的评价指标为logloss\n",
    "from sklearn.metrics import log_loss  \n",
    "\n",
    "from matplotlib import pyplot as plt\n",
    "import seaborn as sns\n",
    "%matplotlib inline"
   ]
  },
  {
   "cell_type": "markdown",
   "metadata": {},
   "source": [
    "## 读取数据 & 数据探索"
   ]
  },
  {
   "cell_type": "code",
   "execution_count": 56,
   "metadata": {
    "scrolled": true
   },
   "outputs": [
    {
     "data": {
      "text/html": [
       "<div>\n",
       "<style>\n",
       "    .dataframe thead tr:only-child th {\n",
       "        text-align: right;\n",
       "    }\n",
       "\n",
       "    .dataframe thead th {\n",
       "        text-align: left;\n",
       "    }\n",
       "\n",
       "    .dataframe tbody tr th {\n",
       "        vertical-align: top;\n",
       "    }\n",
       "</style>\n",
       "<table border=\"1\" class=\"dataframe\">\n",
       "  <thead>\n",
       "    <tr style=\"text-align: right;\">\n",
       "      <th></th>\n",
       "      <th>Pregnancies</th>\n",
       "      <th>Glucose</th>\n",
       "      <th>BloodPressure</th>\n",
       "      <th>SkinThickness</th>\n",
       "      <th>Insulin</th>\n",
       "      <th>BMI</th>\n",
       "      <th>DiabetesPedigreeFunction</th>\n",
       "      <th>Age</th>\n",
       "      <th>Outcome</th>\n",
       "    </tr>\n",
       "  </thead>\n",
       "  <tbody>\n",
       "    <tr>\n",
       "      <th>0</th>\n",
       "      <td>6</td>\n",
       "      <td>148</td>\n",
       "      <td>72</td>\n",
       "      <td>35</td>\n",
       "      <td>0</td>\n",
       "      <td>33.6</td>\n",
       "      <td>0.627</td>\n",
       "      <td>50</td>\n",
       "      <td>1</td>\n",
       "    </tr>\n",
       "    <tr>\n",
       "      <th>1</th>\n",
       "      <td>1</td>\n",
       "      <td>85</td>\n",
       "      <td>66</td>\n",
       "      <td>29</td>\n",
       "      <td>0</td>\n",
       "      <td>26.6</td>\n",
       "      <td>0.351</td>\n",
       "      <td>31</td>\n",
       "      <td>0</td>\n",
       "    </tr>\n",
       "    <tr>\n",
       "      <th>2</th>\n",
       "      <td>8</td>\n",
       "      <td>183</td>\n",
       "      <td>64</td>\n",
       "      <td>0</td>\n",
       "      <td>0</td>\n",
       "      <td>23.3</td>\n",
       "      <td>0.672</td>\n",
       "      <td>32</td>\n",
       "      <td>1</td>\n",
       "    </tr>\n",
       "    <tr>\n",
       "      <th>3</th>\n",
       "      <td>1</td>\n",
       "      <td>89</td>\n",
       "      <td>66</td>\n",
       "      <td>23</td>\n",
       "      <td>94</td>\n",
       "      <td>28.1</td>\n",
       "      <td>0.167</td>\n",
       "      <td>21</td>\n",
       "      <td>0</td>\n",
       "    </tr>\n",
       "    <tr>\n",
       "      <th>4</th>\n",
       "      <td>0</td>\n",
       "      <td>137</td>\n",
       "      <td>40</td>\n",
       "      <td>35</td>\n",
       "      <td>168</td>\n",
       "      <td>43.1</td>\n",
       "      <td>2.288</td>\n",
       "      <td>33</td>\n",
       "      <td>1</td>\n",
       "    </tr>\n",
       "  </tbody>\n",
       "</table>\n",
       "</div>"
      ],
      "text/plain": [
       "   Pregnancies  Glucose  BloodPressure  SkinThickness  Insulin   BMI  \\\n",
       "0            6      148             72             35        0  33.6   \n",
       "1            1       85             66             29        0  26.6   \n",
       "2            8      183             64              0        0  23.3   \n",
       "3            1       89             66             23       94  28.1   \n",
       "4            0      137             40             35      168  43.1   \n",
       "\n",
       "   DiabetesPedigreeFunction  Age  Outcome  \n",
       "0                     0.627   50        1  \n",
       "1                     0.351   31        0  \n",
       "2                     0.672   32        1  \n",
       "3                     0.167   21        0  \n",
       "4                     2.288   33        1  "
      ]
     },
     "execution_count": 56,
     "metadata": {},
     "output_type": "execute_result"
    }
   ],
   "source": [
    "# 读取数据\n",
    "# path to where the data lies\n",
    "dpath = './'\n",
    "train = pd.read_csv(dpath +\"diabetes.csv\")\n",
    "train.head()"
   ]
  },
  {
   "cell_type": "code",
   "execution_count": 57,
   "metadata": {
    "scrolled": false
   },
   "outputs": [
    {
     "name": "stdout",
     "output_type": "stream",
     "text": [
      "<class 'pandas.core.frame.DataFrame'>\n",
      "RangeIndex: 768 entries, 0 to 767\n",
      "Data columns (total 9 columns):\n",
      "Pregnancies                 768 non-null int64\n",
      "Glucose                     768 non-null int64\n",
      "BloodPressure               768 non-null int64\n",
      "SkinThickness               768 non-null int64\n",
      "Insulin                     768 non-null int64\n",
      "BMI                         768 non-null float64\n",
      "DiabetesPedigreeFunction    768 non-null float64\n",
      "Age                         768 non-null int64\n",
      "Outcome                     768 non-null int64\n",
      "dtypes: float64(2), int64(7)\n",
      "memory usage: 54.1 KB\n"
     ]
    }
   ],
   "source": [
    "train.info()"
   ]
  },
  {
   "cell_type": "code",
   "execution_count": 58,
   "metadata": {},
   "outputs": [
    {
     "data": {
      "text/plain": [
       "Pregnancies                 0\n",
       "Glucose                     0\n",
       "BloodPressure               0\n",
       "SkinThickness               0\n",
       "Insulin                     0\n",
       "BMI                         0\n",
       "DiabetesPedigreeFunction    0\n",
       "Age                         0\n",
       "Outcome                     0\n",
       "dtype: int64"
      ]
     },
     "execution_count": 58,
     "metadata": {},
     "output_type": "execute_result"
    }
   ],
   "source": [
    "train.isnull().sum()"
   ]
  },
  {
   "cell_type": "code",
   "execution_count": 59,
   "metadata": {
    "scrolled": true
   },
   "outputs": [
    {
     "data": {
      "text/html": [
       "<div>\n",
       "<style>\n",
       "    .dataframe thead tr:only-child th {\n",
       "        text-align: right;\n",
       "    }\n",
       "\n",
       "    .dataframe thead th {\n",
       "        text-align: left;\n",
       "    }\n",
       "\n",
       "    .dataframe tbody tr th {\n",
       "        vertical-align: top;\n",
       "    }\n",
       "</style>\n",
       "<table border=\"1\" class=\"dataframe\">\n",
       "  <thead>\n",
       "    <tr style=\"text-align: right;\">\n",
       "      <th></th>\n",
       "      <th>Pregnancies</th>\n",
       "      <th>Glucose</th>\n",
       "      <th>BloodPressure</th>\n",
       "      <th>SkinThickness</th>\n",
       "      <th>Insulin</th>\n",
       "      <th>BMI</th>\n",
       "      <th>DiabetesPedigreeFunction</th>\n",
       "      <th>Age</th>\n",
       "      <th>Outcome</th>\n",
       "    </tr>\n",
       "  </thead>\n",
       "  <tbody>\n",
       "    <tr>\n",
       "      <th>count</th>\n",
       "      <td>768.000000</td>\n",
       "      <td>768.000000</td>\n",
       "      <td>768.000000</td>\n",
       "      <td>768.000000</td>\n",
       "      <td>768.000000</td>\n",
       "      <td>768.000000</td>\n",
       "      <td>768.000000</td>\n",
       "      <td>768.000000</td>\n",
       "      <td>768.000000</td>\n",
       "    </tr>\n",
       "    <tr>\n",
       "      <th>mean</th>\n",
       "      <td>3.845052</td>\n",
       "      <td>120.894531</td>\n",
       "      <td>69.105469</td>\n",
       "      <td>20.536458</td>\n",
       "      <td>79.799479</td>\n",
       "      <td>31.992578</td>\n",
       "      <td>0.471876</td>\n",
       "      <td>33.240885</td>\n",
       "      <td>0.348958</td>\n",
       "    </tr>\n",
       "    <tr>\n",
       "      <th>std</th>\n",
       "      <td>3.369578</td>\n",
       "      <td>31.972618</td>\n",
       "      <td>19.355807</td>\n",
       "      <td>15.952218</td>\n",
       "      <td>115.244002</td>\n",
       "      <td>7.884160</td>\n",
       "      <td>0.331329</td>\n",
       "      <td>11.760232</td>\n",
       "      <td>0.476951</td>\n",
       "    </tr>\n",
       "    <tr>\n",
       "      <th>min</th>\n",
       "      <td>0.000000</td>\n",
       "      <td>0.000000</td>\n",
       "      <td>0.000000</td>\n",
       "      <td>0.000000</td>\n",
       "      <td>0.000000</td>\n",
       "      <td>0.000000</td>\n",
       "      <td>0.078000</td>\n",
       "      <td>21.000000</td>\n",
       "      <td>0.000000</td>\n",
       "    </tr>\n",
       "    <tr>\n",
       "      <th>25%</th>\n",
       "      <td>1.000000</td>\n",
       "      <td>99.000000</td>\n",
       "      <td>62.000000</td>\n",
       "      <td>0.000000</td>\n",
       "      <td>0.000000</td>\n",
       "      <td>27.300000</td>\n",
       "      <td>0.243750</td>\n",
       "      <td>24.000000</td>\n",
       "      <td>0.000000</td>\n",
       "    </tr>\n",
       "    <tr>\n",
       "      <th>50%</th>\n",
       "      <td>3.000000</td>\n",
       "      <td>117.000000</td>\n",
       "      <td>72.000000</td>\n",
       "      <td>23.000000</td>\n",
       "      <td>30.500000</td>\n",
       "      <td>32.000000</td>\n",
       "      <td>0.372500</td>\n",
       "      <td>29.000000</td>\n",
       "      <td>0.000000</td>\n",
       "    </tr>\n",
       "    <tr>\n",
       "      <th>75%</th>\n",
       "      <td>6.000000</td>\n",
       "      <td>140.250000</td>\n",
       "      <td>80.000000</td>\n",
       "      <td>32.000000</td>\n",
       "      <td>127.250000</td>\n",
       "      <td>36.600000</td>\n",
       "      <td>0.626250</td>\n",
       "      <td>41.000000</td>\n",
       "      <td>1.000000</td>\n",
       "    </tr>\n",
       "    <tr>\n",
       "      <th>max</th>\n",
       "      <td>17.000000</td>\n",
       "      <td>199.000000</td>\n",
       "      <td>122.000000</td>\n",
       "      <td>99.000000</td>\n",
       "      <td>846.000000</td>\n",
       "      <td>67.100000</td>\n",
       "      <td>2.420000</td>\n",
       "      <td>81.000000</td>\n",
       "      <td>1.000000</td>\n",
       "    </tr>\n",
       "  </tbody>\n",
       "</table>\n",
       "</div>"
      ],
      "text/plain": [
       "       Pregnancies     Glucose  BloodPressure  SkinThickness     Insulin  \\\n",
       "count   768.000000  768.000000     768.000000     768.000000  768.000000   \n",
       "mean      3.845052  120.894531      69.105469      20.536458   79.799479   \n",
       "std       3.369578   31.972618      19.355807      15.952218  115.244002   \n",
       "min       0.000000    0.000000       0.000000       0.000000    0.000000   \n",
       "25%       1.000000   99.000000      62.000000       0.000000    0.000000   \n",
       "50%       3.000000  117.000000      72.000000      23.000000   30.500000   \n",
       "75%       6.000000  140.250000      80.000000      32.000000  127.250000   \n",
       "max      17.000000  199.000000     122.000000      99.000000  846.000000   \n",
       "\n",
       "              BMI  DiabetesPedigreeFunction         Age     Outcome  \n",
       "count  768.000000                768.000000  768.000000  768.000000  \n",
       "mean    31.992578                  0.471876   33.240885    0.348958  \n",
       "std      7.884160                  0.331329   11.760232    0.476951  \n",
       "min      0.000000                  0.078000   21.000000    0.000000  \n",
       "25%     27.300000                  0.243750   24.000000    0.000000  \n",
       "50%     32.000000                  0.372500   29.000000    0.000000  \n",
       "75%     36.600000                  0.626250   41.000000    1.000000  \n",
       "max     67.100000                  2.420000   81.000000    1.000000  "
      ]
     },
     "execution_count": 59,
     "metadata": {},
     "output_type": "execute_result"
    }
   ],
   "source": [
    "## 各属性的统计特性\n",
    "train.describe()"
   ]
  },
  {
   "cell_type": "markdown",
   "metadata": {},
   "source": [
    "# 离群点检查"
   ]
  },
  {
   "cell_type": "code",
   "execution_count": 60,
   "metadata": {},
   "outputs": [
    {
     "data": {
      "image/png": "[encoded data removed]",
      "text/plain": [
       "<matplotlib.figure.Figure at 0x147a2978>"
      ]
     },
     "metadata": {},
     "output_type": "display_data"
    },
    {
     "data": {
      "image/png": "[encoded data removed]",
      "text/plain": [
       "<matplotlib.figure.Figure at 0x1474fd30>"
      ]
     },
     "metadata": {},
     "output_type": "display_data"
    },
    {
     "data": {
      "image/png": "[encoded data removed]",
      "text/plain": [
       "<matplotlib.figure.Figure at 0x1474f550>"
      ]
     },
     "metadata": {},
     "output_type": "display_data"
    },
    {
     "data": {
      "image/png": "[encoded data removed]",
      "text/plain": [
       "<matplotlib.figure.Figure at 0x147f1550>"
      ]
     },
     "metadata": {},
     "output_type": "display_data"
    }
   ],
   "source": [
    "# 离群点检测（outliers）\n",
    "plt.scatter(train.SkinThickness, train.Outcome, c = \"blue\", marker = \"s\")\n",
    "plt.title(\"Looking for outliers\")\n",
    "plt.xlabel(\"SkinThickness\")\n",
    "plt.ylabel(\"Outcome\")\n",
    "plt.show()\n",
    "\n",
    "#剔除离群点\n",
    "train = train[train.SkinThickness < 70]\n",
    "temp = train.reindex()\n",
    "\n",
    "# 离群点检测（outliers）\n",
    "plt.scatter(train.Insulin, train.Outcome, c = \"blue\", marker = \"s\")\n",
    "plt.title(\"Looking for outliers\")\n",
    "plt.xlabel(\"Insulin\")\n",
    "plt.ylabel(\"Outcome\")\n",
    "plt.show()\n",
    "#剔除离群点\n",
    "train = train[train.Insulin < 680]\n",
    "temp = train.reindex()\n",
    "\n",
    "# 离群点检测（outliers）\n",
    "plt.scatter(train.BMI, train.Outcome, c = \"blue\", marker = \"s\")\n",
    "plt.title(\"Looking for outliers\")\n",
    "plt.xlabel(\"BMI\")\n",
    "plt.ylabel(\"Outcome\")\n",
    "plt.show()\n",
    "#剔除离群点\n",
    "train = train[train.BMI < 65]\n",
    "temp = train.reindex()\n",
    "\n",
    "# 离群点检测（outliers）\n",
    "plt.scatter(train.Age, train.Outcome, c = \"blue\", marker = \"s\")\n",
    "plt.title(\"Looking for outliers\")\n",
    "plt.xlabel(\"Age\")\n",
    "plt.ylabel(\"Outcome\")\n",
    "plt.show()\n",
    "#剔除离群点\n",
    "train = train[train.Age < 80]\n",
    "temp = train.reindex()"
   ]
  },
  {
   "cell_type": "markdown",
   "metadata": {},
   "source": [
    "## 特征工程"
   ]
  },
  {
   "cell_type": "code",
   "execution_count": 61,
   "metadata": {},
   "outputs": [
    {
     "data": {
      "text/html": [
       "<div>\n",
       "<style>\n",
       "    .dataframe thead tr:only-child th {\n",
       "        text-align: right;\n",
       "    }\n",
       "\n",
       "    .dataframe thead th {\n",
       "        text-align: left;\n",
       "    }\n",
       "\n",
       "    .dataframe tbody tr th {\n",
       "        vertical-align: top;\n",
       "    }\n",
       "</style>\n",
       "<table border=\"1\" class=\"dataframe\">\n",
       "  <thead>\n",
       "    <tr style=\"text-align: right;\">\n",
       "      <th></th>\n",
       "      <th>Pregnancies</th>\n",
       "      <th>Glucose</th>\n",
       "      <th>BloodPressure</th>\n",
       "      <th>SkinThickness</th>\n",
       "      <th>Insulin</th>\n",
       "      <th>BMI</th>\n",
       "      <th>DiabetesPedigreeFunction</th>\n",
       "      <th>Age</th>\n",
       "      <th>Outcome</th>\n",
       "    </tr>\n",
       "  </thead>\n",
       "  <tbody>\n",
       "    <tr>\n",
       "      <th>count</th>\n",
       "      <td>762.000000</td>\n",
       "      <td>762.000000</td>\n",
       "      <td>762.000000</td>\n",
       "      <td>762.000000</td>\n",
       "      <td>762.000000</td>\n",
       "      <td>762.000000</td>\n",
       "      <td>762.000000</td>\n",
       "      <td>762.000000</td>\n",
       "      <td>762.000000</td>\n",
       "    </tr>\n",
       "    <tr>\n",
       "      <th>mean</th>\n",
       "      <td>3.854331</td>\n",
       "      <td>120.519685</td>\n",
       "      <td>69.027559</td>\n",
       "      <td>20.339895</td>\n",
       "      <td>77.199475</td>\n",
       "      <td>31.920604</td>\n",
       "      <td>0.469676</td>\n",
       "      <td>33.132546</td>\n",
       "      <td>0.347769</td>\n",
       "    </tr>\n",
       "    <tr>\n",
       "      <th>std</th>\n",
       "      <td>3.369655</td>\n",
       "      <td>31.717217</td>\n",
       "      <td>19.356685</td>\n",
       "      <td>15.704606</td>\n",
       "      <td>107.435570</td>\n",
       "      <td>7.771173</td>\n",
       "      <td>0.325657</td>\n",
       "      <td>11.585006</td>\n",
       "      <td>0.476575</td>\n",
       "    </tr>\n",
       "    <tr>\n",
       "      <th>min</th>\n",
       "      <td>0.000000</td>\n",
       "      <td>0.000000</td>\n",
       "      <td>0.000000</td>\n",
       "      <td>0.000000</td>\n",
       "      <td>0.000000</td>\n",
       "      <td>0.000000</td>\n",
       "      <td>0.078000</td>\n",
       "      <td>21.000000</td>\n",
       "      <td>0.000000</td>\n",
       "    </tr>\n",
       "    <tr>\n",
       "      <th>25%</th>\n",
       "      <td>1.000000</td>\n",
       "      <td>99.000000</td>\n",
       "      <td>62.000000</td>\n",
       "      <td>0.000000</td>\n",
       "      <td>0.000000</td>\n",
       "      <td>27.300000</td>\n",
       "      <td>0.241500</td>\n",
       "      <td>24.000000</td>\n",
       "      <td>0.000000</td>\n",
       "    </tr>\n",
       "    <tr>\n",
       "      <th>50%</th>\n",
       "      <td>3.000000</td>\n",
       "      <td>117.000000</td>\n",
       "      <td>72.000000</td>\n",
       "      <td>23.000000</td>\n",
       "      <td>24.000000</td>\n",
       "      <td>32.000000</td>\n",
       "      <td>0.370000</td>\n",
       "      <td>29.000000</td>\n",
       "      <td>0.000000</td>\n",
       "    </tr>\n",
       "    <tr>\n",
       "      <th>75%</th>\n",
       "      <td>6.000000</td>\n",
       "      <td>140.000000</td>\n",
       "      <td>80.000000</td>\n",
       "      <td>32.000000</td>\n",
       "      <td>126.000000</td>\n",
       "      <td>36.500000</td>\n",
       "      <td>0.626750</td>\n",
       "      <td>40.750000</td>\n",
       "      <td>1.000000</td>\n",
       "    </tr>\n",
       "    <tr>\n",
       "      <th>max</th>\n",
       "      <td>17.000000</td>\n",
       "      <td>199.000000</td>\n",
       "      <td>122.000000</td>\n",
       "      <td>63.000000</td>\n",
       "      <td>600.000000</td>\n",
       "      <td>59.400000</td>\n",
       "      <td>2.420000</td>\n",
       "      <td>72.000000</td>\n",
       "      <td>1.000000</td>\n",
       "    </tr>\n",
       "  </tbody>\n",
       "</table>\n",
       "</div>"
      ],
      "text/plain": [
       "       Pregnancies     Glucose  BloodPressure  SkinThickness     Insulin  \\\n",
       "count   762.000000  762.000000     762.000000     762.000000  762.000000   \n",
       "mean      3.854331  120.519685      69.027559      20.339895   77.199475   \n",
       "std       3.369655   31.717217      19.356685      15.704606  107.435570   \n",
       "min       0.000000    0.000000       0.000000       0.000000    0.000000   \n",
       "25%       1.000000   99.000000      62.000000       0.000000    0.000000   \n",
       "50%       3.000000  117.000000      72.000000      23.000000   24.000000   \n",
       "75%       6.000000  140.000000      80.000000      32.000000  126.000000   \n",
       "max      17.000000  199.000000     122.000000      63.000000  600.000000   \n",
       "\n",
       "              BMI  DiabetesPedigreeFunction         Age     Outcome  \n",
       "count  762.000000                762.000000  762.000000  762.000000  \n",
       "mean    31.920604                  0.469676   33.132546    0.347769  \n",
       "std      7.771173                  0.325657   11.585006    0.476575  \n",
       "min      0.000000                  0.078000   21.000000    0.000000  \n",
       "25%     27.300000                  0.241500   24.000000    0.000000  \n",
       "50%     32.000000                  0.370000   29.000000    0.000000  \n",
       "75%     36.500000                  0.626750   40.750000    1.000000  \n",
       "max     59.400000                  2.420000   72.000000    1.000000  "
      ]
     },
     "execution_count": 61,
     "metadata": {},
     "output_type": "execute_result"
    }
   ],
   "source": [
    "train.describe()"
   ]
  },
  {
   "cell_type": "markdown",
   "metadata": {},
   "source": [
    "### 查看特征列中0元素的数量"
   ]
  },
  {
   "cell_type": "code",
   "execution_count": 62,
   "metadata": {},
   "outputs": [
    {
     "name": "stdout",
     "output_type": "stream",
     "text": [
      "Pregnancies = 109\n",
      "Glucose = 5\n",
      "BloodPressure = 35\n",
      "SkinThickness = 227\n",
      "Insulin = 373\n",
      "BMI = 11\n",
      "DiabetesPedigreeFunction = 0\n",
      "Age = 0\n",
      "Outcome = 497\n"
     ]
    }
   ],
   "source": [
    "for a in train.columns:\n",
    "    print('%s = %d'% (a ,len(train[train[a]==0])))\n",
    "    #m=train[a].mean\n",
    "    #train[a].replace({0:m},inplace = True)"
   ]
  },
  {
   "cell_type": "markdown",
   "metadata": {},
   "source": [
    "### 中位数填充0位置"
   ]
  },
  {
   "cell_type": "code",
   "execution_count": 63,
   "metadata": {
    "collapsed": true
   },
   "outputs": [],
   "source": [
    "a=117\n",
    "train.Glucose.replace({0:a},inplace = True)\n",
    "a=72\n",
    "train.BloodPressure.replace({0 : a},inplace = True)\n",
    "a=23\n",
    "train.SkinThickness.replace({0 : a},inplace = True)\n",
    "a=24\n",
    "train.Insulin.replace({0 : a},inplace = True)\n",
    "a=32\n",
    "train.BMI.replace({0 : a},inplace = True)"
   ]
  },
  {
   "cell_type": "code",
   "execution_count": 64,
   "metadata": {},
   "outputs": [
    {
     "name": "stdout",
     "output_type": "stream",
     "text": [
      "Pregnancies = 109\n",
      "Glucose = 0\n",
      "BloodPressure = 0\n",
      "SkinThickness = 0\n",
      "Insulin = 0\n",
      "BMI = 0\n",
      "DiabetesPedigreeFunction = 0\n",
      "Age = 0\n",
      "Outcome = 497\n"
     ]
    }
   ],
   "source": [
    "for a in train.columns:\n",
    "    print('%s = %d'% (a ,len(train[train[a]==0])))"
   ]
  },
  {
   "cell_type": "code",
   "execution_count": 65,
   "metadata": {},
   "outputs": [
    {
     "name": "stdout",
     "output_type": "stream",
     "text": [
      "<class 'pandas.core.frame.DataFrame'>\n",
      "Int64Index: 762 entries, 0 to 767\n",
      "Data columns (total 9 columns):\n",
      "Pregnancies                 762 non-null int64\n",
      "Glucose                     762 non-null int64\n",
      "BloodPressure               762 non-null int64\n",
      "SkinThickness               762 non-null int64\n",
      "Insulin                     762 non-null int64\n",
      "BMI                         762 non-null float64\n",
      "DiabetesPedigreeFunction    762 non-null float64\n",
      "Age                         762 non-null int64\n",
      "Outcome                     762 non-null int64\n",
      "dtypes: float64(2), int64(7)\n",
      "memory usage: 59.5 KB\n"
     ]
    }
   ],
   "source": [
    "train.info()\n",
    "#type(train)"
   ]
  },
  {
   "cell_type": "markdown",
   "metadata": {},
   "source": [
    "## 划分训练集"
   ]
  },
  {
   "cell_type": "code",
   "execution_count": 66,
   "metadata": {
    "collapsed": true
   },
   "outputs": [],
   "source": [
    "# 将类别字符串变成数字\n",
    "# drop ids and get labels\n",
    "Y = train['Outcome']   #形式为Class_x\n",
    "\n",
    "X = train.drop([\"Outcome\"], axis=1)\n",
    "X = np.array(X)\n",
    "\n",
    "#如果计算资源有限，也可只取少量样本，如取前1000个样本\n",
    "#（分类中其实还需要确保取出来的这部分样本各类样本的比例和总体一致）\n",
    "\n",
    "#或者考虑用train_test_split而不是交叉验证来验证模型性能"
   ]
  },
  {
   "cell_type": "markdown",
   "metadata": {},
   "source": [
    "## 数据集划分"
   ]
  },
  {
   "cell_type": "code",
   "execution_count": 1,
   "metadata": {
    "collapsed": true
   },
   "outputs": [],
   "source": [
    "def data_set_split(X,Y):\n",
    "    from sklearn.cross_validation import train_test_split\n",
    "    #random_state=42 保证每次分组一致，保证模型稳定\n",
    "    X_train, X_test, y_train,y_test = train_test_split(X, Y, test_size=0.2) \n",
    "    return X_train, X_test, y_train, y_test\n"
   ]
  },
  {
   "cell_type": "code",
   "execution_count": 68,
   "metadata": {
    "collapsed": true
   },
   "outputs": [],
   "source": [
    "X_train, X_test, y_train, y_test=data_set_split(X,Y)\n"
   ]
  },
  {
   "cell_type": "markdown",
   "metadata": {},
   "source": [
    "## 数据预处理"
   ]
  },
  {
   "cell_type": "code",
   "execution_count": 69,
   "metadata": {
    "collapsed": true
   },
   "outputs": [],
   "source": [
    "# 数据标准化\n",
    "from sklearn.preprocessing import StandardScaler\n",
    "\n",
    "# 初始化特征的标准化器\n",
    "ss_X = StandardScaler()\n",
    "\n",
    "# 分别对训练和测试数据的特征进行标准化处理\n",
    "X_train = ss_X.fit_transform(X_train)\n",
    "X_test = ss_X.transform(X_test)\n"
   ]
  },
  {
   "cell_type": "markdown",
   "metadata": {},
   "source": [
    "将0.2的数据作为测试集"
   ]
  },
  {
   "cell_type": "code",
   "execution_count": 70,
   "metadata": {
    "scrolled": true
   },
   "outputs": [
    {
     "name": "stdout",
     "output_type": "stream",
     "text": [
      "(609, 8) (153, 8)\n"
     ]
    }
   ],
   "source": [
    "print(X_train.shape,X_test.shape)"
   ]
  },
  {
   "cell_type": "code",
   "execution_count": 71,
   "metadata": {},
   "outputs": [
    {
     "data": {
      "image/png": "[encoded data removed]",
      "text/plain": [
       "<matplotlib.figure.Figure at 0x14175470>"
      ]
     },
     "metadata": {},
     "output_type": "display_data"
    }
   ],
   "source": [
    "# Target 分布，看看各类样本分布是否均衡\n",
    "sns.countplot(y_test);\n",
    "plt.xlabel('target');\n",
    "plt.ylabel('Number of occurrences');"
   ]
  },
  {
   "cell_type": "markdown",
   "metadata": {},
   "source": [
    "## 模型训练"
   ]
  },
  {
   "cell_type": "markdown",
   "metadata": {},
   "source": [
    "### default Logistic Regression"
   ]
  },
  {
   "cell_type": "code",
   "execution_count": 72,
   "metadata": {
    "collapsed": true
   },
   "outputs": [],
   "source": [
    "from sklearn.linear_model import LogisticRegression\n",
    "lr= LogisticRegression()"
   ]
  },
  {
   "cell_type": "code",
   "execution_count": 73,
   "metadata": {
    "collapsed": true,
    "scrolled": false
   },
   "outputs": [],
   "source": [
    "# 交叉验证用于评估模型性能和进行参数调优（模型选择）\n",
    "#分类任务中交叉验证缺省是采用StratifiedKFold\n",
    "from sklearn.cross_validation import cross_val_score\n",
    "loss = cross_val_score(lr, X_train, y_train, cv=5, scoring='neg_log_loss')"
   ]
  },
  {
   "cell_type": "code",
   "execution_count": 74,
   "metadata": {},
   "outputs": [
    {
     "name": "stdout",
     "output_type": "stream",
     "text": [
      "logloss of each fold is:  [0.54512894 0.46791974 0.47251922 0.4874715  0.42090136]\n",
      "cv logloss is: 0.4787881512559677\n"
     ]
    }
   ],
   "source": [
    "print ('logloss of each fold is: ',-loss)\n",
    "print ('cv logloss is:', -loss.mean())"
   ]
  },
  {
   "cell_type": "markdown",
   "metadata": {},
   "source": [
    "### 正则化的 Logistic Regression及参数调优"
   ]
  },
  {
   "cell_type": "markdown",
   "metadata": {},
   "source": [
    "logistic回归的需要调整超参数有：C（正则系数，一般在log域（取log后的值）均匀设置候选参数）和正则函数penalty（L2/L1） \n",
    "目标函数为：J = sum(logloss(f(xi), yi)) + C* penalty \n",
    "\n",
    "在sklearn框架下，不同学习器的参数调整步骤相同：\n",
    "设置候选参数集合\n",
    "调用GridSearchCV\n",
    "调用fit"
   ]
  },
  {
   "cell_type": "code",
   "execution_count": 75,
   "metadata": {
    "scrolled": false
   },
   "outputs": [
    {
     "data": {
      "text/plain": [
       "GridSearchCV(cv=5, error_score='raise',\n",
       "       estimator=LogisticRegression(C=1.0, class_weight=None, dual=False, fit_intercept=True,\n",
       "          intercept_scaling=1, max_iter=100, multi_class='ovr', n_jobs=1,\n",
       "          penalty='l2', random_state=None, solver='liblinear', tol=0.0001,\n",
       "          verbose=0, warm_start=False),\n",
       "       fit_params=None, iid=True, n_jobs=1,\n",
       "       param_grid={'penalty': ['l1', 'l2'], 'C': [0.001, 0.01, 0.1, 1, 10, 100, 1000]},\n",
       "       pre_dispatch='2*n_jobs', refit=True, return_train_score='warn',\n",
       "       scoring='neg_log_loss', verbose=0)"
      ]
     },
     "execution_count": 75,
     "metadata": {},
     "output_type": "execute_result"
    }
   ],
   "source": [
    "from sklearn.model_selection import GridSearchCV\n",
    "from sklearn.linear_model import LogisticRegression\n",
    "\n",
    "#需要调优的参数\n",
    "# 请尝试将L1正则和L2正则分开，并配合合适的优化求解算法（slover）\n",
    "#tuned_parameters = {'penalty':['l1','l2'],\n",
    "#                   'C': [0.001, 0.01, 0.1, 1, 10, 100, 1000]\n",
    "#                   }\n",
    "penaltys = ['l1','l2']\n",
    "Cs = [0.001, 0.01, 0.1, 1, 10, 100, 1000]\n",
    "\n",
    "tuned_parameters = dict(penalty = penaltys, C = Cs)\n",
    "\n",
    "lr_penalty= LogisticRegression()\n",
    "grid= GridSearchCV(lr_penalty, tuned_parameters,cv=5, scoring='neg_log_loss')\n",
    "grid.fit(X_train,y_train)"
   ]
  },
  {
   "cell_type": "code",
   "execution_count": 76,
   "metadata": {
    "scrolled": false
   },
   "outputs": [
    {
     "name": "stderr",
     "output_type": "stream",
     "text": [
      "C:\\ProgramData\\Anaconda3\\lib\\site-packages\\sklearn\\utils\\deprecation.py:122: FutureWarning: You are accessing a training score ('mean_train_score'), which will not be available by default any more in 0.21. If you need training scores, please set return_train_score=True\n",
      "  warnings.warn(*warn_args, **warn_kwargs)\n",
      "C:\\ProgramData\\Anaconda3\\lib\\site-packages\\sklearn\\utils\\deprecation.py:122: FutureWarning: You are accessing a training score ('split0_train_score'), which will not be available by default any more in 0.21. If you need training scores, please set return_train_score=True\n",
      "  warnings.warn(*warn_args, **warn_kwargs)\n",
      "C:\\ProgramData\\Anaconda3\\lib\\site-packages\\sklearn\\utils\\deprecation.py:122: FutureWarning: You are accessing a training score ('split1_train_score'), which will not be available by default any more in 0.21. If you need training scores, please set return_train_score=True\n",
      "  warnings.warn(*warn_args, **warn_kwargs)\n",
      "C:\\ProgramData\\Anaconda3\\lib\\site-packages\\sklearn\\utils\\deprecation.py:122: FutureWarning: You are accessing a training score ('split2_train_score'), which will not be available by default any more in 0.21. If you need training scores, please set return_train_score=True\n",
      "  warnings.warn(*warn_args, **warn_kwargs)\n",
      "C:\\ProgramData\\Anaconda3\\lib\\site-packages\\sklearn\\utils\\deprecation.py:122: FutureWarning: You are accessing a training score ('split3_train_score'), which will not be available by default any more in 0.21. If you need training scores, please set return_train_score=True\n",
      "  warnings.warn(*warn_args, **warn_kwargs)\n",
      "C:\\ProgramData\\Anaconda3\\lib\\site-packages\\sklearn\\utils\\deprecation.py:122: FutureWarning: You are accessing a training score ('split4_train_score'), which will not be available by default any more in 0.21. If you need training scores, please set return_train_score=True\n",
      "  warnings.warn(*warn_args, **warn_kwargs)\n",
      "C:\\ProgramData\\Anaconda3\\lib\\site-packages\\sklearn\\utils\\deprecation.py:122: FutureWarning: You are accessing a training score ('std_train_score'), which will not be available by default any more in 0.21. If you need training scores, please set return_train_score=True\n",
      "  warnings.warn(*warn_args, **warn_kwargs)\n"
     ]
    },
    {
     "data": {
      "text/plain": [
       "{'mean_fit_time': array([0.00079999, 0.00120006, 0.00060005, 0.00060005, 0.00039997,\n",
       "        0.        , 0.        , 0.00311999, 0.        , 0.        ,\n",
       "        0.        , 0.        , 0.        , 0.00020003]),\n",
       " 'mean_score_time': array([0.00100012, 0.00080009, 0.00100002, 0.0006    , 0.00040002,\n",
       "        0.        , 0.        , 0.        , 0.00311999, 0.        ,\n",
       "        0.        , 0.        , 0.00311999, 0.00312004]),\n",
       " 'mean_test_score': array([-0.69314718, -0.64140232, -0.67351257, -0.52911181, -0.48527473,\n",
       "        -0.48007377, -0.47919976, -0.47897788, -0.47947627, -0.47946991,\n",
       "        -0.47952869, -0.47953059, -0.4795328 , -0.47953662]),\n",
       " 'mean_train_score': array([-0.69314718, -0.64014666, -0.6728074 , -0.52435224, -0.47787944,\n",
       "        -0.46965385, -0.46537698, -0.46523335, -0.46515557, -0.4651541 ,\n",
       "        -0.46515326, -0.46515324, -0.46515323, -0.46515323]),\n",
       " 'param_C': masked_array(data=[0.001, 0.001, 0.01, 0.01, 0.1, 0.1, 1, 1, 10, 10, 100,\n",
       "                    100, 1000, 1000],\n",
       "              mask=[False, False, False, False, False, False, False, False,\n",
       "                    False, False, False, False, False, False],\n",
       "        fill_value='?',\n",
       "             dtype=object),\n",
       " 'param_penalty': masked_array(data=['l1', 'l2', 'l1', 'l2', 'l1', 'l2', 'l1', 'l2', 'l1',\n",
       "                    'l2', 'l1', 'l2', 'l1', 'l2'],\n",
       "              mask=[False, False, False, False, False, False, False, False,\n",
       "                    False, False, False, False, False, False],\n",
       "        fill_value='?',\n",
       "             dtype=object),\n",
       " 'params': [{'C': 0.001, 'penalty': 'l1'},\n",
       "  {'C': 0.001, 'penalty': 'l2'},\n",
       "  {'C': 0.01, 'penalty': 'l1'},\n",
       "  {'C': 0.01, 'penalty': 'l2'},\n",
       "  {'C': 0.1, 'penalty': 'l1'},\n",
       "  {'C': 0.1, 'penalty': 'l2'},\n",
       "  {'C': 1, 'penalty': 'l1'},\n",
       "  {'C': 1, 'penalty': 'l2'},\n",
       "  {'C': 10, 'penalty': 'l1'},\n",
       "  {'C': 10, 'penalty': 'l2'},\n",
       "  {'C': 100, 'penalty': 'l1'},\n",
       "  {'C': 100, 'penalty': 'l2'},\n",
       "  {'C': 1000, 'penalty': 'l1'},\n",
       "  {'C': 1000, 'penalty': 'l2'}],\n",
       " 'rank_test_score': array([14, 12, 13, 11, 10,  9,  2,  1,  4,  3,  5,  6,  7,  8]),\n",
       " 'split0_test_score': array([-0.69314718, -0.63852207, -0.67348477, -0.53085928, -0.51625497,\n",
       "        -0.52213248, -0.54365624, -0.54512894, -0.54940955, -0.54957849,\n",
       "        -0.55003341, -0.55006292, -0.55009414, -0.5501118 ]),\n",
       " 'split0_train_score': array([-0.69314718, -0.64155772, -0.67353923, -0.52027711, -0.46422351,\n",
       "        -0.4553345 , -0.44936869, -0.44922589, -0.4491079 , -0.44910642,\n",
       "        -0.44910513, -0.44910511, -0.4491051 , -0.44910509]),\n",
       " 'split1_test_score': array([-0.69314718, -0.64313232, -0.67019934, -0.53323282, -0.49258542,\n",
       "        -0.47504489, -0.46970169, -0.46791974, -0.46760249, -0.46744349,\n",
       "        -0.46741541, -0.4674009 , -0.46739825, -0.4673967 ]),\n",
       " 'split1_train_score': array([-0.69314718, -0.63938386, -0.6638873 , -0.52465661, -0.47971119,\n",
       "        -0.4732069 , -0.46942617, -0.46927278, -0.46920601, -0.46920442,\n",
       "        -0.4692037 , -0.46920368, -0.46920367, -0.46920367]),\n",
       " 'split2_test_score': array([-0.69314718, -0.64515276, -0.67205658, -0.53725593, -0.48460372,\n",
       "        -0.47950894, -0.47340242, -0.47251922, -0.47210127, -0.4720269 ,\n",
       "        -0.4719902 , -0.47198193, -0.47197777, -0.47197664]),\n",
       " 'split2_train_score': array([-0.69314718, -0.63826514, -0.6708104 , -0.52258289, -0.47847116,\n",
       "        -0.47014965, -0.46626205, -0.46611877, -0.46605052, -0.46604908,\n",
       "        -0.46604833, -0.46604832, -0.46604831, -0.46604831]),\n",
       " 'split3_test_score': array([-0.69314718, -0.64528241, -0.67784717, -0.54129636, -0.48888116,\n",
       "        -0.49143606, -0.48694541, -0.4874715 , -0.48734821, -0.48741468,\n",
       "        -0.48740794, -0.48741549, -0.48741516, -0.48741564]),\n",
       " 'split3_train_score': array([-0.69314718, -0.63803941, -0.68048941, -0.52063778, -0.47526118,\n",
       "        -0.46672304, -0.46264797, -0.46250653, -0.46243418, -0.46243276,\n",
       "        -0.46243199, -0.46243197, -0.46243196, -0.46243196]),\n",
       " 'split4_test_score': array([-0.69314718, -0.63492438, -0.67401484, -0.5027844 , -0.44348144,\n",
       "        -0.43159754, -0.42135406, -0.42090136, -0.41992297, -0.41988807,\n",
       "        -0.41979355, -0.41978853, -0.41977514, -0.4197786 ]),\n",
       " 'split4_train_score': array([-0.69314718, -0.64348716, -0.67531067, -0.53360682, -0.49173018,\n",
       "        -0.48285516, -0.47918002, -0.47904276, -0.47897923, -0.47897783,\n",
       "        -0.47897715, -0.47897713, -0.47897713, -0.47897713]),\n",
       " 'std_fit_time': array([0.00074835, 0.00040002, 0.00048994, 0.00048994, 0.00048986,\n",
       "        0.        , 0.        , 0.00623999, 0.        , 0.        ,\n",
       "        0.        , 0.        , 0.        , 0.00040007]),\n",
       " 'std_score_time': array([1.78416128e-07, 7.48442917e-04, 1.16800773e-07, 4.89901382e-04,\n",
       "        4.89920847e-04, 0.00000000e+00, 0.00000000e+00, 0.00000000e+00,\n",
       "        6.23998642e-03, 0.00000000e+00, 0.00000000e+00, 0.00000000e+00,\n",
       "        6.23998642e-03, 6.24008179e-03]),\n",
       " 'std_test_score': array([0.        , 0.00405237, 0.00253123, 0.0135838 , 0.02354291,\n",
       "        0.02923962, 0.03925136, 0.04001434, 0.04175981, 0.04184109,\n",
       "        0.04202454, 0.04203738, 0.04205202, 0.04205718]),\n",
       " 'std_train_score': array([0.        , 0.00208387, 0.00546574, 0.00488415, 0.00881916,\n",
       "        0.00895297, 0.00970995, 0.00971056, 0.00972866, 0.00972867,\n",
       "        0.00972888, 0.00972888, 0.00972888, 0.00972888])}"
      ]
     },
     "execution_count": 76,
     "metadata": {},
     "output_type": "execute_result"
    }
   ],
   "source": [
    "# view the complete results (list of named tuples)\n",
    "grid.cv_results_"
   ]
  },
  {
   "cell_type": "code",
   "execution_count": 77,
   "metadata": {
    "scrolled": true
   },
   "outputs": [
    {
     "name": "stdout",
     "output_type": "stream",
     "text": [
      "0.47897787907349854\n",
      "{'C': 1, 'penalty': 'l2'}\n"
     ]
    }
   ],
   "source": [
    "# examine the best model\n",
    "print(-grid.best_score_)\n",
    "print(grid.best_params_)"
   ]
  },
  {
   "cell_type": "markdown",
   "metadata": {},
   "source": [
    "如果最佳值在候选参数的边缘，最好再尝试更大的候选参数或更小的候选参数，直到找到拐点。\n",
    "l2, c=100"
   ]
  },
  {
   "cell_type": "code",
   "execution_count": 78,
   "metadata": {
    "scrolled": true
   },
   "outputs": [
    {
     "name": "stderr",
     "output_type": "stream",
     "text": [
      "C:\\ProgramData\\Anaconda3\\lib\\site-packages\\sklearn\\utils\\deprecation.py:122: FutureWarning: You are accessing a training score ('mean_train_score'), which will not be available by default any more in 0.21. If you need training scores, please set return_train_score=True\n",
      "  warnings.warn(*warn_args, **warn_kwargs)\n",
      "C:\\ProgramData\\Anaconda3\\lib\\site-packages\\sklearn\\utils\\deprecation.py:122: FutureWarning: You are accessing a training score ('std_train_score'), which will not be available by default any more in 0.21. If you need training scores, please set return_train_score=True\n",
      "  warnings.warn(*warn_args, **warn_kwargs)\n"
     ]
    },
    {
     "data": {
      "image/png": "[encoded data removed]",
      "text/plain": [
       "<matplotlib.figure.Figure at 0x147596d8>"
      ]
     },
     "metadata": {},
     "output_type": "display_data"
    }
   ],
   "source": [
    "# plot CV误差曲线\n",
    "test_means = grid.cv_results_[ 'mean_test_score' ]\n",
    "test_stds = grid.cv_results_[ 'std_test_score' ]\n",
    "train_means = grid.cv_results_[ 'mean_train_score' ]\n",
    "train_stds = grid.cv_results_[ 'std_train_score' ]\n",
    "\n",
    "\n",
    "# plot results\n",
    "n_Cs = len(Cs)\n",
    "number_penaltys = len(penaltys)\n",
    "test_scores = np.array(test_means).reshape(n_Cs,number_penaltys)\n",
    "train_scores = np.array(train_means).reshape(n_Cs,number_penaltys)\n",
    "test_stds = np.array(test_stds).reshape(n_Cs,number_penaltys)\n",
    "train_stds = np.array(train_stds).reshape(n_Cs,number_penaltys)\n",
    "\n",
    "x_axis = np.log10(Cs)\n",
    "for i, value in enumerate(penaltys):\n",
    "    #pyplot.plot(log(Cs), test_scores[i], label= 'penalty:'   + str(value))\n",
    "    plt.errorbar(x_axis, test_scores[:,i], yerr=test_stds[:,i] ,label = penaltys[i] +' Test')\n",
    "    plt.errorbar(x_axis, train_scores[:,i], yerr=train_stds[:,i] ,label = penaltys[i] +' Train')\n",
    "    \n",
    "plt.legend()\n",
    "plt.xlabel( 'log(C)' )                                                                                                      \n",
    "plt.ylabel( 'neg-logloss' )\n",
    "plt.savefig('LogisticGridSearchCV_C.png' )\n",
    "\n",
    "plt.show()"
   ]
  },
  {
   "cell_type": "markdown",
   "metadata": {},
   "source": [
    "上图给出了L1正则和L2正则下、不同正则参数C对应的模型在训练集上测试集上的正确率（score）。可以看出在训练集上C越大（正则越少）的模型性能越好；但在测试集上当C=100时性能最好（L1正则和L2正则均是）"
   ]
  },
  {
   "cell_type": "markdown",
   "metadata": {},
   "source": [
    "### 用LogisticRegressionCV实现正则化的 Logistic Regression"
   ]
  },
  {
   "cell_type": "markdown",
   "metadata": {},
   "source": [
    "### L1正则"
   ]
  },
  {
   "cell_type": "code",
   "execution_count": 79,
   "metadata": {
    "scrolled": true
   },
   "outputs": [
    {
     "data": {
      "text/plain": [
       "LogisticRegressionCV(Cs=[0.1, 0.2, 0.3, 0.4, 0.5, 0.6, 0.7, 0.8, 0.9, 1.0, 1.1, 1.2, 1.3, 1.4, 1.5, 1.6, 1.7, 1.8, 1.9, 2.0, 2.1, 2.2, 2.3, 2.4, 2.5, 2.6, 2.7, 2.8, 2.9, 3.0, 3.1, 3.2, 3.3, 3.4, 3.5, 3.6, 3.7, 3.8, 3.9, 4.0, 4.1, 4.2, 4.3, 4.4, 4.5, 4.6, 4.7, 4.8, 4.9, 5.0, 5.1, 5.2, 5.3, 5.4, 5.5, 5.6, 5.7, 5.8, 5.9, 6.0, 6.1, 6.2, 6.3, 6.4, 6.5, 6.6, 6.7, 6.8, 6.9, 7.0, 7.1, 7.2, 7.3, 7.4, 7.5, 7.6, 7.7, 7.8, 7.9, 8.0, 8.1, 8.2, 8.3, 8.4, 8.5, 8.6, 8.7, 8.8, 8.9, 9.0, 9.1, 9.2, 9.3, 9.4, 9.5, 9.6, 9.7, 9.8, 9.9],\n",
       "           class_weight=None, cv=5, dual=False, fit_intercept=True,\n",
       "           intercept_scaling=1.0, max_iter=100, multi_class='ovr',\n",
       "           n_jobs=1, penalty='l1', random_state=None, refit=True,\n",
       "           scoring='neg_log_loss', solver='liblinear', tol=0.0001,\n",
       "           verbose=0)"
      ]
     },
     "execution_count": 79,
     "metadata": {},
     "output_type": "execute_result"
    }
   ],
   "source": [
    "from sklearn.linear_model import LogisticRegressionCV\n",
    "\n",
    "#Cs = [1e-06, 1e-05, 0.0001, 0.001, 0.01, 0.1,1,10,100,1000]\n",
    "Cs=[i/10 for i in range(1,100)]\n",
    "# LogisticRegressionCV比GridSearchCV快\n",
    "lrcv_L1 = LogisticRegressionCV(Cs=Cs, cv = 5, scoring='neg_log_loss', penalty='l1', solver='liblinear')\n",
    "lrcv_L1.fit(X_train, y_train)    "
   ]
  },
  {
   "cell_type": "code",
   "execution_count": 80,
   "metadata": {
    "scrolled": true
   },
   "outputs": [
    {
     "data": {
      "text/plain": [
       "{1: array([[-0.51625396, -0.52646867, -0.53270669, -0.53644476, -0.53873574,\n",
       "         -0.54029789, -0.54145358, -0.54235322, -0.54307242, -0.5436578 ,\n",
       "         -0.54413776, -0.54460259, -0.54499888, -0.54534916, -0.54565312,\n",
       "         -0.54591682, -0.54615688, -0.5463634 , -0.5465542 , -0.54672729,\n",
       "         -0.54687968, -0.54701573, -0.54714846, -0.54726912, -0.54738774,\n",
       "         -0.54748737, -0.54757121, -0.54766765, -0.5477511 , -0.54782393,\n",
       "         -0.54789099, -0.54796587, -0.54803026, -0.54808736, -0.54814855,\n",
       "         -0.5481986 , -0.54824926, -0.5482913 , -0.54833977, -0.54838822,\n",
       "         -0.54842953, -0.5484693 , -0.54850244, -0.54854005, -0.54857054,\n",
       "         -0.548597  , -0.54863305, -0.54866959, -0.54869864, -0.54872408,\n",
       "         -0.54876054, -0.54877099, -0.54880573, -0.54882755, -0.54884599,\n",
       "         -0.54887208, -0.54889364, -0.54891334, -0.54893575, -0.54895386,\n",
       "         -0.54896095, -0.5489937 , -0.54901399, -0.54903102, -0.54903859,\n",
       "         -0.54906206, -0.54907455, -0.54908667, -0.54909656, -0.54911538,\n",
       "         -0.54912417, -0.5491466 , -0.54915499, -0.54917527, -0.54918559,\n",
       "         -0.54919401, -0.54920626, -0.54920919, -0.54923394, -0.54923819,\n",
       "         -0.54924676, -0.54925844, -0.54926591, -0.54927024, -0.5492879 ,\n",
       "         -0.54929626, -0.54930413, -0.54931851, -0.54932106, -0.54932701,\n",
       "         -0.54934696, -0.54934965, -0.54935445, -0.5493657 , -0.54936335,\n",
       "         -0.54937943, -0.54938118, -0.54939417, -0.54940139],\n",
       "        [-0.49258757, -0.48294691, -0.47703938, -0.47412406, -0.47253248,\n",
       "         -0.4715302 , -0.47085283, -0.47036363, -0.46998955, -0.46969927,\n",
       "         -0.46947178, -0.46928516, -0.46911976, -0.46899039, -0.46887542,\n",
       "         -0.4687805 , -0.4686915 , -0.46861168, -0.46854159, -0.46848078,\n",
       "         -0.46842015, -0.46838318, -0.46833012, -0.46828953, -0.46825691,\n",
       "         -0.46821578, -0.46818621, -0.46815779, -0.46812858, -0.46810138,\n",
       "         -0.46808076, -0.46805825, -0.46803643, -0.46801751, -0.46799964,\n",
       "         -0.46798353, -0.4679673 , -0.46795067, -0.46793404, -0.46792287,\n",
       "         -0.46790796, -0.46789515, -0.467883  , -0.46787598, -0.46786044,\n",
       "         -0.46784751, -0.46783644, -0.46783279, -0.46781928, -0.46781206,\n",
       "         -0.46780625, -0.46779838, -0.46779001, -0.46778009, -0.46777781,\n",
       "         -0.46776649, -0.46776003, -0.46775174, -0.46774843, -0.4677463 ,\n",
       "         -0.46773611, -0.46772967, -0.46772877, -0.4677188 , -0.46771492,\n",
       "         -0.46770589, -0.46770409, -0.46769705, -0.46769482, -0.46769658,\n",
       "         -0.46768402, -0.46768523, -0.46769131, -0.46767576, -0.46767198,\n",
       "         -0.46766587, -0.46766349, -0.46766055, -0.46765696, -0.46765332,\n",
       "         -0.46765333, -0.46764424, -0.46764661, -0.46764279, -0.46763989,\n",
       "         -0.46763707, -0.46763213, -0.4676301 , -0.46762766, -0.46762869,\n",
       "         -0.46762087, -0.46762174, -0.46762096, -0.46761651, -0.46761142,\n",
       "         -0.46761776, -0.46760706, -0.46760695, -0.46760557],\n",
       "        [-0.48459815, -0.47665631, -0.47498648, -0.47436952, -0.47407393,\n",
       "         -0.4739094 , -0.47381088, -0.47374431, -0.47358471, -0.47340173,\n",
       "         -0.47325526, -0.47313724, -0.47303903, -0.47295572, -0.47288234,\n",
       "         -0.47282075, -0.47276809, -0.47272092, -0.4726801 , -0.47264295,\n",
       "         -0.47260603, -0.47257641, -0.47254813, -0.47252318, -0.47249849,\n",
       "         -0.47247777, -0.47245758, -0.472444  , -0.47242415, -0.47240695,\n",
       "         -0.47239252, -0.47237836, -0.47236811, -0.47235437, -0.47234241,\n",
       "         -0.47233452, -0.47232178, -0.47231318, -0.47230427, -0.47229531,\n",
       "         -0.47228959, -0.47228021, -0.4722732 , -0.47226548, -0.47225989,\n",
       "         -0.47225053, -0.47224884, -0.47224121, -0.47223669, -0.47223414,\n",
       "         -0.47222815, -0.47222006, -0.47221533, -0.47221116, -0.47220644,\n",
       "         -0.47220554, -0.47219757, -0.47219442, -0.47218944, -0.47218562,\n",
       "         -0.47218488, -0.47218031, -0.47217596, -0.47217474, -0.47217027,\n",
       "         -0.47216764, -0.47216395, -0.47216316, -0.47216193, -0.47215823,\n",
       "         -0.47215625, -0.47215324, -0.47215195, -0.47214434, -0.47214406,\n",
       "         -0.47214246, -0.47214191, -0.47213674, -0.47213687, -0.47213486,\n",
       "         -0.47212909, -0.47213242, -0.47213121, -0.47212465, -0.47212363,\n",
       "         -0.4721222 , -0.47212189, -0.47211656, -0.47211669, -0.47211612,\n",
       "         -0.47211502, -0.4721135 , -0.47211415, -0.47211335, -0.47210829,\n",
       "         -0.47210905, -0.47210387, -0.47210494, -0.4721033 ],\n",
       "        [-0.48888232, -0.48613786, -0.48639047, -0.4867797 , -0.48687964,\n",
       "         -0.48685461, -0.48686761, -0.48689026, -0.48691956, -0.48694153,\n",
       "         -0.48696773, -0.48699296, -0.4870177 , -0.48703288, -0.48705422,\n",
       "         -0.48707045, -0.48708543, -0.48709847, -0.48711308, -0.48712473,\n",
       "         -0.48713585, -0.48714313, -0.48715638, -0.4871651 , -0.48717507,\n",
       "         -0.48718251, -0.48719057, -0.48719779, -0.48720343, -0.48721009,\n",
       "         -0.48721861, -0.48722231, -0.48722655, -0.48723056, -0.48723524,\n",
       "         -0.48724174, -0.48724579, -0.48724843, -0.48725543, -0.48725601,\n",
       "         -0.4872589 , -0.48726422, -0.48726945, -0.48727182, -0.48727484,\n",
       "         -0.48727391, -0.48727898, -0.48728142, -0.48728316, -0.48728522,\n",
       "         -0.48728832, -0.48729106, -0.4872889 , -0.48729334, -0.48729699,\n",
       "         -0.48729931, -0.48730136, -0.48730354, -0.48730371, -0.48730785,\n",
       "         -0.48730885, -0.48731045, -0.48731136, -0.48731353, -0.48731443,\n",
       "         -0.48731038, -0.48731837, -0.48731753, -0.48731892, -0.48732094,\n",
       "         -0.48732189, -0.48732129, -0.48732585, -0.48732885, -0.48732851,\n",
       "         -0.48733108, -0.48732958, -0.48732864, -0.48733093, -0.48733363,\n",
       "         -0.48733388, -0.48733489, -0.48733538, -0.48733564, -0.48733798,\n",
       "         -0.48733817, -0.48733912, -0.48734149, -0.48734098, -0.48734266,\n",
       "         -0.48734309, -0.48734109, -0.48734254, -0.48734123, -0.48734534,\n",
       "         -0.48734592, -0.48734526, -0.48734944, -0.48734698],\n",
       "        [-0.44347412, -0.42973959, -0.42593232, -0.42421791, -0.42320425,\n",
       "         -0.42255774, -0.4221212 , -0.42179602, -0.42155378, -0.42135117,\n",
       "         -0.42120553, -0.42107935, -0.42097369, -0.42088002, -0.42080048,\n",
       "         -0.42073362, -0.42067313, -0.42062231, -0.42057596, -0.42053187,\n",
       "         -0.42049696, -0.42046338, -0.42043114, -0.42040328, -0.42037311,\n",
       "         -0.42035299, -0.42033166, -0.42031252, -0.4202931 , -0.42027695,\n",
       "         -0.42025859, -0.42023586, -0.42022535, -0.4202143 , -0.42020125,\n",
       "         -0.42018894, -0.42017757, -0.42016493, -0.42015598, -0.42014485,\n",
       "         -0.420137  , -0.4201259 , -0.42011859, -0.42011591, -0.4201013 ,\n",
       "         -0.42009144, -0.42009103, -0.42008516, -0.42007807, -0.42007233,\n",
       "         -0.42006896, -0.42005886, -0.42005124, -0.42004842, -0.42004063,\n",
       "         -0.42004136, -0.42003776, -0.42003247, -0.42002621, -0.42002228,\n",
       "         -0.42001618, -0.42001334, -0.42000921, -0.42000904, -0.42000261,\n",
       "         -0.42000077, -0.41999636, -0.4199906 , -0.41999063, -0.41998916,\n",
       "         -0.41998277, -0.41997996, -0.41998196, -0.41997765, -0.41997509,\n",
       "         -0.41997017, -0.41996602, -0.41996624, -0.41996578, -0.41996371,\n",
       "         -0.41995526, -0.41995577, -0.41995588, -0.41995416, -0.41994937,\n",
       "         -0.41994447, -0.4199455 , -0.41994442, -0.41994214, -0.41993849,\n",
       "         -0.41993683, -0.41993637, -0.4199347 , -0.41993297, -0.41993191,\n",
       "         -0.4199331 , -0.41992991, -0.41992425, -0.41992521]])}"
      ]
     },
     "execution_count": 80,
     "metadata": {},
     "output_type": "execute_result"
    }
   ],
   "source": [
    "lrcv_L1.scores_"
   ]
  },
  {
   "cell_type": "code",
   "execution_count": 81,
   "metadata": {},
   "outputs": [
    {
     "name": "stdout",
     "output_type": "stream",
     "text": [
      "[-0.48515922 -0.48038987 -0.47941107 -0.47918719 -0.47908521 -0.47902997\n",
      " -0.47902122 -0.47902949 -0.479024   -0.4790103  -0.47900761 -0.47901946\n",
      " -0.47902981 -0.47904163 -0.47905312 -0.47906443 -0.479075   -0.47908336\n",
      " -0.47909299 -0.47910152 -0.47910773 -0.47911637 -0.47912285 -0.47913004\n",
      " -0.47913826 -0.47914328 -0.47914745 -0.47915595 -0.47916007 -0.47916386\n",
      " -0.47916829 -0.47917213 -0.47917734 -0.47918082 -0.47918542 -0.47918947\n",
      " -0.47919234 -0.4791937  -0.4791979  -0.47920145 -0.4792046  -0.47920696\n",
      " -0.47920934 -0.47921385 -0.4792134  -0.47921208 -0.47921767 -0.47922204\n",
      " -0.47922317 -0.47922557 -0.47923045 -0.47922787 -0.47923024 -0.47923211\n",
      " -0.47923357 -0.47923696 -0.47923807 -0.4792391  -0.47924071 -0.47924318\n",
      " -0.47924139 -0.47924549 -0.47924786 -0.47924943 -0.47924816 -0.47924935\n",
      " -0.47925146 -0.479251   -0.47925257 -0.47925606 -0.47925382 -0.47925727\n",
      " -0.47926121 -0.47926037 -0.47926104 -0.47926072 -0.47926145 -0.47926027\n",
      " -0.47926489 -0.47926474 -0.47926366 -0.47926515 -0.479267   -0.4792655\n",
      " -0.47926775 -0.47926764 -0.47926855 -0.47927022 -0.47926971 -0.47927059\n",
      " -0.47927256 -0.47927247 -0.47927336 -0.47927395 -0.47927206 -0.47927705\n",
      " -0.47927346 -0.47927595 -0.47927649]\n"
     ]
    },
    {
     "data": {
      "image/png": "[encoded data removed]",
      "text/plain": [
       "<matplotlib.figure.Figure at 0x142436d8>"
      ]
     },
     "metadata": {},
     "output_type": "display_data"
    }
   ],
   "source": [
    "# dict with classes as the keys, and the values as the grid of scores obtained during cross-validating each fold,\n",
    "# Each dict value has shape (n_folds, len(Cs))\n",
    "n_Cs = len(Cs)\n",
    "n_classes = 1\n",
    "scores =  np.zeros((n_classes,n_Cs))\n",
    "print(np.mean(lrcv_L1.scores_[1],axis = 0))\n",
    "\n",
    "scores[0][:] = np.mean(lrcv_L1.scores_[1],axis = 0)\n",
    "    \n",
    "mse_mean = np.mean(scores, axis = 0)\n",
    "plt.plot(np.log10(Cs), mse_mean.reshape(n_Cs,1)) \n",
    "#plt.plot(np.log10(reg.Cs)*np.ones(3), [0.28, 0.29, 0.30])\n",
    "plt.xlabel('log(C)')\n",
    "plt.ylabel('neg-logloss')\n",
    "plt.show()\n",
    "\n",
    "#print ('C is:',lr_cv.C_)  #对多类分类问题，每个类别的分类器有一个C"
   ]
  },
  {
   "cell_type": "code",
   "execution_count": 82,
   "metadata": {
    "scrolled": true
   },
   "outputs": [
    {
     "data": {
      "text/plain": [
       "array([[ 0.44755728,  1.12809827, -0.24050707,  0.03115452, -0.0763311 ,\n",
       "         0.61425104,  0.37697351,  0.11844018]])"
      ]
     },
     "execution_count": 82,
     "metadata": {},
     "output_type": "execute_result"
    }
   ],
   "source": [
    "lrcv_L1.coef_"
   ]
  },
  {
   "cell_type": "code",
   "execution_count": 83,
   "metadata": {},
   "outputs": [
    {
     "name": "stdout",
     "output_type": "stream",
     "text": [
      "best C  is: [1.1]\n"
     ]
    }
   ],
   "source": [
    "print ('best C  is:',lrcv_L1.C_)"
   ]
  },
  {
   "cell_type": "markdown",
   "metadata": {},
   "source": [
    "LogisticRegressionCV + L1正则 最优C选择"
   ]
  },
  {
   "cell_type": "code",
   "execution_count": 84,
   "metadata": {
    "scrolled": true
   },
   "outputs": [
    {
     "name": "stdout",
     "output_type": "stream",
     "text": [
      "Classification report for classifier LogisticRegressionCV(Cs=[0.1, 0.2, 0.3, 0.4, 0.5, 0.6, 0.7, 0.8, 0.9, 1.0, 1.1, 1.2, 1.3, 1.4, 1.5, 1.6, 1.7, 1.8, 1.9, 2.0, 2.1, 2.2, 2.3, 2.4, 2.5, 2.6, 2.7, 2.8, 2.9, 3.0, 3.1, 3.2, 3.3, 3.4, 3.5, 3.6, 3.7, 3.8, 3.9, 4.0, 4.1, 4.2, 4.3, 4.4, 4.5, 4.6, 4.7, 4.8, 4.9, 5.0, 5.1, 5.2, 5.3, 5.4, 5.5, 5.6, 5.7, 5.8, 5.9, 6.0, 6.1, 6.2, 6.3, 6.4, 6.5, 6.6, 6.7, 6.8, 6.9, 7.0, 7.1, 7.2, 7.3, 7.4, 7.5, 7.6, 7.7, 7.8, 7.9, 8.0, 8.1, 8.2, 8.3, 8.4, 8.5, 8.6, 8.7, 8.8, 8.9, 9.0, 9.1, 9.2, 9.3, 9.4, 9.5, 9.6, 9.7, 9.8, 9.9],\n",
      "           class_weight=None, cv=5, dual=False, fit_intercept=True,\n",
      "           intercept_scaling=1.0, max_iter=100, multi_class='ovr',\n",
      "           n_jobs=1, penalty='l1', random_state=None, refit=True,\n",
      "           scoring='neg_log_loss', solver='liblinear', tol=0.0001,\n",
      "           verbose=0):\n",
      "             precision    recall  f1-score   support\n",
      "\n",
      "          0       0.80      0.87      0.83       101\n",
      "          1       0.70      0.58      0.63        52\n",
      "\n",
      "avg / total       0.77      0.77      0.77       153\n",
      "\n",
      "\n",
      "Confusion matrix:\n",
      "[[88 13]\n",
      " [22 30]]\n"
     ]
    },
    {
     "name": "stderr",
     "output_type": "stream",
     "text": [
      "C:\\ProgramData\\Anaconda3\\lib\\site-packages\\sklearn\\grid_search.py:42: DeprecationWarning: This module was deprecated in version 0.18 in favor of the model_selection module into which all the refactored classes and functions are moved. This module will be removed in 0.20.\n",
      "  DeprecationWarning)\n",
      "C:\\ProgramData\\Anaconda3\\lib\\site-packages\\sklearn\\learning_curve.py:22: DeprecationWarning: This module was deprecated in version 0.18 in favor of the model_selection module into which all the functions are moved. This module will be removed in 0.20\n",
      "  DeprecationWarning)\n"
     ]
    }
   ],
   "source": [
    "#使用测试集对模型进行预测\n",
    "from sklearn import *\n",
    "pre_test_logis_L1=lrcv_L1.predict(X_test)\n",
    "print(\"Classification report for classifier %s:\\n%s\\n\"\n",
    "      % (lrcv_L1, metrics.classification_report(y_test, pre_test_logis_L1)))\n",
    "print(\"Confusion matrix:\\n%s\" % metrics.confusion_matrix(y_test, pre_test_logis_L1))"
   ]
  },
  {
   "cell_type": "markdown",
   "metadata": {},
   "source": [
    "### L2正则"
   ]
  },
  {
   "cell_type": "code",
   "execution_count": 85,
   "metadata": {
    "scrolled": false
   },
   "outputs": [
    {
     "data": {
      "text/plain": [
       "LogisticRegressionCV(Cs=[0.01, 0.02, 0.03, 0.04, 0.05, 0.06, 0.07, 0.08, 0.09, 0.1, 0.11, 0.12, 0.13, 0.14, 0.15, 0.16, 0.17, 0.18, 0.19, 0.2, 0.21, 0.22, 0.23, 0.24, 0.25, 0.26, 0.27, 0.28, 0.29, 0.3, 0.31, 0.32, 0.33, 0.34, 0.35, 0.36, 0.37, 0.38, 0.39, 0.4, 0.41, 0.42, 0.43, 0.44, 0.45, 0.46, 0.47, 0.48, 0.49, 0.5, 0...85, 99.86, 99.87, 99.88, 99.89, 99.9, 99.91, 99.92, 99.93, 99.94, 99.95, 99.96, 99.97, 99.98, 99.99],\n",
       "           class_weight=None, cv=5, dual=False, fit_intercept=True,\n",
       "           intercept_scaling=1.0, max_iter=100, multi_class='ovr',\n",
       "           n_jobs=1, penalty='l2', random_state=None, refit=True,\n",
       "           scoring='neg_log_loss', solver='liblinear', tol=0.0001,\n",
       "           verbose=0)"
      ]
     },
     "execution_count": 85,
     "metadata": {},
     "output_type": "execute_result"
    }
   ],
   "source": [
    "from sklearn.linear_model import LogisticRegressionCV\n",
    "\n",
    "#Cs = [1, 10,100,1000]\n",
    "Cs=[i/100 for i in range(1,10000)]\n",
    "\n",
    "# 大量样本（6W+）、高维度（93），L2正则 --> 缺省用lbfgs，为了和GridSeachCV比较，也用liblinear\n",
    "\n",
    "lr_cv_L2 = LogisticRegressionCV(Cs=Cs, cv = 5, scoring='neg_log_loss', penalty='l2', solver='liblinear', multi_class='ovr')\n",
    "lr_cv_L2.fit(X_train, y_train)    "
   ]
  },
  {
   "cell_type": "code",
   "execution_count": 86,
   "metadata": {},
   "outputs": [
    {
     "data": {
      "text/plain": [
       "{1: array([[-0.53085928, -0.5154448 , -0.51263002, ..., -0.55006291,\n",
       "         -0.55006291, -0.55006292],\n",
       "        [-0.53323282, -0.50655638, -0.4947712 , ..., -0.46740091,\n",
       "         -0.4674009 , -0.4674009 ],\n",
       "        [-0.53725593, -0.51061104, -0.49889471, ..., -0.47198193,\n",
       "         -0.47198193, -0.47198193],\n",
       "        [-0.54129636, -0.51715397, -0.50696413, ..., -0.48741549,\n",
       "         -0.48741549, -0.48741549],\n",
       "        [-0.5027844 , -0.47052038, -0.45624181, ..., -0.41978853,\n",
       "         -0.41978853, -0.41978853]])}"
      ]
     },
     "execution_count": 86,
     "metadata": {},
     "output_type": "execute_result"
    }
   ],
   "source": [
    "lr_cv_L2.scores_"
   ]
  },
  {
   "cell_type": "code",
   "execution_count": 87,
   "metadata": {
    "scrolled": false
   },
   "outputs": [
    {
     "name": "stdout",
     "output_type": "stream",
     "text": [
      "[-0.52908576 -0.50405731 -0.49390037 ... -0.47932995 -0.47932995\n",
      " -0.47932995]\n"
     ]
    },
    {
     "data": {
      "image/png": "[encoded data removed]",
      "text/plain": [
       "<matplotlib.figure.Figure at 0x14f35748>"
      ]
     },
     "metadata": {},
     "output_type": "display_data"
    },
    {
     "name": "stdout",
     "output_type": "stream",
     "text": [
      "best C  is: [0.28]\n"
     ]
    }
   ],
   "source": [
    "# dict with classes as the keys, and the values as the grid of scores obtained during cross-validating each fold,\n",
    "# Each dict value has shape (n_folds, len(Cs))\n",
    "n_Cs = len(Cs)\n",
    "n_classes = 1\n",
    "scores =  np.zeros((n_classes,n_Cs))\n",
    "print(np.mean(lr_cv_L2.scores_[1],axis = 0))\n",
    "\n",
    "scores[0][:] = np.mean(lr_cv_L2.scores_[1],axis = 0)\n",
    "    \n",
    "mse_mean = np.mean(scores, axis = 0)\n",
    "plt.plot(np.log10(Cs), mse_mean.reshape(n_Cs,1)) \n",
    "#plt.plot(np.log10(reg.Cs)*np.ones(3), [0.28, 0.29, 0.30])\n",
    "plt.xlabel('log(C)')\n",
    "plt.ylabel('neg-logloss')\n",
    "plt.show()\n",
    "\n",
    "print ('best C  is:',lr_cv_L2.C_)  #对多类分类问题，每个类别的分类器有一个C"
   ]
  },
  {
   "cell_type": "code",
   "execution_count": 91,
   "metadata": {
    "scrolled": false
   },
   "outputs": [
    {
     "name": "stdout",
     "output_type": "stream",
     "text": [
      "Classification report for classifier LogisticRegressionCV(Cs=[0.01, 0.02, 0.03, 0.04, 0.05, 0.06, 0.07, 0.08, 0.09, 0.1, 0.11, 0.12, 0.13, 0.14, 0.15, 0.16, 0.17, 0.18, 0.19, 0.2, 0.21, 0.22, 0.23, 0.24, 0.25, 0.26, 0.27, 0.28, 0.29, 0.3, 0.31, 0.32, 0.33, 0.34, 0.35, 0.36, 0.37, 0.38, 0.39, 0.4, 0.41, 0.42, 0.43, 0.44, 0.45, 0.46, 0.47, 0.48, 0.49, 0.5, 0...85, 99.86, 99.87, 99.88, 99.89, 99.9, 99.91, 99.92, 99.93, 99.94, 99.95, 99.96, 99.97, 99.98, 99.99],\n",
      "           class_weight=None, cv=5, dual=False, fit_intercept=True,\n",
      "           intercept_scaling=1.0, max_iter=100, multi_class='ovr',\n",
      "           n_jobs=1, penalty='l2', random_state=None, refit=True,\n",
      "           scoring='neg_log_loss', solver='liblinear', tol=0.0001,\n",
      "           verbose=0):\n",
      "             precision    recall  f1-score   support\n",
      "\n",
      "          0       0.80      0.87      0.83       101\n",
      "          1       0.70      0.58      0.63        52\n",
      "\n",
      "avg / total       0.77      0.77      0.77       153\n",
      "\n",
      "\n",
      "Confusion matrix:\n",
      "[[88 13]\n",
      " [22 30]]\n"
     ]
    }
   ],
   "source": [
    "#对测试集进行预测\n",
    "from sklearn import metrics\n",
    "pre_test_logis_L2=lr_cv_L2.predict(X_test)\n",
    "print(\"Classification report for classifier %s:\\n%s\\n\"\n",
    "      % (lr_cv_L2, metrics.classification_report(y_test, pre_test_logis_L2)))\n",
    "print(\"Confusion matrix:\\n%s\" % metrics.confusion_matrix(y_test, pre_test_logis_L2))"
   ]
  },
  {
   "cell_type": "markdown",
   "metadata": {},
   "source": [
    "# 支持向量机分类回归问题"
   ]
  },
  {
   "cell_type": "code",
   "execution_count": 92,
   "metadata": {
    "collapsed": true
   },
   "outputs": [],
   "source": [
    "#LinearSVC不能得到每类的概率，在Otto数据集要求输出每类的概率，这里只是示意SVM的使用方法\n",
    "#https://xacecask2.gitbooks.io/scikit-learn-user-guide-chinese-version/content/sec1.4.html\n",
    "#1.4.1.2. 得分与概率\n",
    "from sklearn.svm import LinearSVC\n",
    "from sklearn.metrics import accuracy_score\n",
    "\n",
    "SVC1 = LinearSVC().fit(X_train, y_train)"
   ]
  },
  {
   "cell_type": "code",
   "execution_count": 93,
   "metadata": {
    "scrolled": true
   },
   "outputs": [
    {
     "name": "stdout",
     "output_type": "stream",
     "text": [
      "Classification report for classifier LinearSVC(C=1.0, class_weight=None, dual=True, fit_intercept=True,\n",
      "     intercept_scaling=1, loss='squared_hinge', max_iter=1000,\n",
      "     multi_class='ovr', penalty='l2', random_state=None, tol=0.0001,\n",
      "     verbose=0):\n",
      "             precision    recall  f1-score   support\n",
      "\n",
      "          0       0.79      0.87      0.83       101\n",
      "          1       0.69      0.56      0.62        52\n",
      "\n",
      "avg / total       0.76      0.76      0.76       153\n",
      "\n",
      "\n",
      "Confusion matrix:\n",
      "[[88 13]\n",
      " [23 29]]\n"
     ]
    }
   ],
   "source": [
    "#在校验集上测试，估计模型性能\n",
    "y_predict = SVC1.predict(X_test)\n",
    "\n",
    "print(\"Classification report for classifier %s:\\n%s\\n\"\n",
    "      % (SVC1, metrics.classification_report(y_test, y_predict)))\n",
    "print(\"Confusion matrix:\\n%s\" % metrics.confusion_matrix(y_test, y_predict))"
   ]
  },
  {
   "cell_type": "markdown",
   "metadata": {},
   "source": [
    "### 线性SVM正则参数调优"
   ]
  },
  {
   "cell_type": "markdown",
   "metadata": {},
   "source": [
    "线性SVM LinearSVC的需要调整正则超参数包括C（正则系数，一般在log域（取log后的值）均匀设置候选参数）和正则函数penalty（L2/L1） \n",
    "\n",
    "采用交叉验证，网格搜索步骤与Logistic回归正则参数处理类似，在此略。\n",
    "\n",
    "这里我们用校验集（X_val、y_val）来估计模型性能"
   ]
  },
  {
   "cell_type": "code",
   "execution_count": 94,
   "metadata": {
    "collapsed": true
   },
   "outputs": [],
   "source": [
    "def fit_grid_point_Linear(C, X_train, y_train, X_val, y_val):\n",
    "    \n",
    "    # 在训练集是那个利用SVC训练\n",
    "    SVC2 =  LinearSVC( C = C,penalty='l2')\n",
    "    SVC2 = SVC2.fit(X_train, y_train)\n",
    "    \n",
    "    # 在校验集上返回accuracy\n",
    "    accuracy = SVC2.score(X_val, y_val)\n",
    "    \n",
    "    print(\"accuracy: {}\".format(accuracy),\"C=%f\"%(C))\n",
    "    return accuracy"
   ]
  },
  {
   "cell_type": "code",
   "execution_count": 95,
   "metadata": {},
   "outputs": [
    {
     "name": "stdout",
     "output_type": "stream",
     "text": [
      "accuracy: 0.7777777777777778 C=0.010000\n",
      "accuracy: 0.7777777777777778 C=0.021544\n",
      "accuracy: 0.7777777777777778 C=0.046416\n",
      "accuracy: 0.7647058823529411 C=0.100000\n",
      "accuracy: 0.7647058823529411 C=0.215443\n",
      "accuracy: 0.7647058823529411 C=0.464159\n",
      "accuracy: 0.7647058823529411 C=1.000000\n",
      "accuracy: 0.7647058823529411 C=2.154435\n",
      "accuracy: 0.7712418300653595 C=4.641589\n",
      "accuracy: 0.7712418300653595 C=10.000000\n"
     ]
    },
    {
     "data": {
      "image/png": "[encoded data removed]",
      "text/plain": [
       "<matplotlib.figure.Figure at 0x150d5860>"
      ]
     },
     "metadata": {},
     "output_type": "display_data"
    }
   ],
   "source": [
    "#需要调优的参数\n",
    "C_s = np.logspace(-2, 1, 10)# logspace(a,b,N)把10的a次方到10的b次方区间分成N份  \n",
    "#penalty_s = ['l1','l2']\n",
    "\n",
    "accuracy_s = []\n",
    "for i, oneC in enumerate(C_s):\n",
    "#    for j, penalty in enumerate(penalty_s):\n",
    "    tmp = fit_grid_point_Linear(oneC, X_train, y_train, X_test, y_test)\n",
    "    accuracy_s.append(tmp)\n",
    "\n",
    "x_axis = np.log10(C_s)\n",
    "#for j, penalty in enumerate(penalty_s):\n",
    "plt.plot(x_axis, np.array(accuracy_s), 'b-')\n",
    "    \n",
    "plt.legend()\n",
    "plt.xlabel( 'log(C)' )                                                                                                      \n",
    "plt.ylabel( 'accuracy' )\n",
    "plt.savefig('SVM_Otto.png' )\n",
    "\n",
    "plt.show()"
   ]
  },
  {
   "cell_type": "markdown",
   "metadata": {},
   "source": [
    "### RBF核SVM正则参数调优\n",
    "\n",
    "RBF核是SVM最常用的核函数。\n",
    "RBF核SVM 的需要调整正则超参数包括C（正则系数，一般在log域（取log后的值）均匀设置候选参数）和核函数的宽度gamma\n",
    "C越小，决策边界越平滑； \n",
    "gamma越小，决策边界越平滑。\n",
    "\n",
    "采用交叉验证，网格搜索步骤与Logistic回归正则参数处理类似，在此略。\n",
    "\n",
    "这里我们用校验集（X_val、y_val）来估计模型性能"
   ]
  },
  {
   "cell_type": "code",
   "execution_count": 96,
   "metadata": {
    "collapsed": true
   },
   "outputs": [],
   "source": [
    "from sklearn.svm import SVC"
   ]
  },
  {
   "cell_type": "code",
   "execution_count": 97,
   "metadata": {
    "collapsed": true
   },
   "outputs": [],
   "source": [
    "def fit_grid_point_RBF(C, gamma, X_train, y_train, X_val, y_val):\n",
    "    \n",
    "    # 在训练集是那个利用SVC训练\n",
    "    SVC3 =  SVC( C = C, kernel='rbf', gamma = gamma)\n",
    "    SVC3 = SVC3.fit(X_train, y_train)\n",
    "    \n",
    "    # 在校验集上返回accuracy\n",
    "    accuracy = SVC3.score(X_val, y_val)\n",
    "    \n",
    "    print(\"accuracy: {}\".format(accuracy),\"C=%f\"%(C),\"gamma=%f\"%(gamma))\n",
    "    return accuracy"
   ]
  },
  {
   "cell_type": "code",
   "execution_count": 98,
   "metadata": {},
   "outputs": [
    {
     "name": "stdout",
     "output_type": "stream",
     "text": [
      "accuracy: 0.6601307189542484 C=0.010000 gamma=0.010000\n",
      "accuracy: 0.6601307189542484 C=0.010000 gamma=0.100000\n",
      "accuracy: 0.6601307189542484 C=0.010000 gamma=1.000000\n",
      "accuracy: 0.6601307189542484 C=0.010000 gamma=10.000000\n",
      "accuracy: 0.6601307189542484 C=0.010000 gamma=100.000000\n",
      "accuracy: 0.6601307189542484 C=0.021544 gamma=0.010000\n",
      "accuracy: 0.6601307189542484 C=0.021544 gamma=0.100000\n",
      "accuracy: 0.6601307189542484 C=0.021544 gamma=1.000000\n",
      "accuracy: 0.6601307189542484 C=0.021544 gamma=10.000000\n",
      "accuracy: 0.6601307189542484 C=0.021544 gamma=100.000000\n",
      "accuracy: 0.6601307189542484 C=0.046416 gamma=0.010000\n",
      "accuracy: 0.6666666666666666 C=0.046416 gamma=0.100000\n",
      "accuracy: 0.6601307189542484 C=0.046416 gamma=1.000000\n",
      "accuracy: 0.6601307189542484 C=0.046416 gamma=10.000000\n",
      "accuracy: 0.6601307189542484 C=0.046416 gamma=100.000000\n",
      "accuracy: 0.6601307189542484 C=0.100000 gamma=0.010000\n",
      "accuracy: 0.7581699346405228 C=0.100000 gamma=0.100000\n",
      "accuracy: 0.6601307189542484 C=0.100000 gamma=1.000000\n",
      "accuracy: 0.6601307189542484 C=0.100000 gamma=10.000000\n",
      "accuracy: 0.6601307189542484 C=0.100000 gamma=100.000000\n",
      "accuracy: 0.7581699346405228 C=0.215443 gamma=0.010000\n",
      "accuracy: 0.7712418300653595 C=0.215443 gamma=0.100000\n",
      "accuracy: 0.6601307189542484 C=0.215443 gamma=1.000000\n",
      "accuracy: 0.6601307189542484 C=0.215443 gamma=10.000000\n",
      "accuracy: 0.6601307189542484 C=0.215443 gamma=100.000000\n",
      "accuracy: 0.7712418300653595 C=0.464159 gamma=0.010000\n",
      "accuracy: 0.7712418300653595 C=0.464159 gamma=0.100000\n",
      "accuracy: 0.6601307189542484 C=0.464159 gamma=1.000000\n",
      "accuracy: 0.6601307189542484 C=0.464159 gamma=10.000000\n",
      "accuracy: 0.6601307189542484 C=0.464159 gamma=100.000000\n",
      "accuracy: 0.7647058823529411 C=1.000000 gamma=0.010000\n",
      "accuracy: 0.7581699346405228 C=1.000000 gamma=0.100000\n",
      "accuracy: 0.6797385620915033 C=1.000000 gamma=1.000000\n",
      "accuracy: 0.6601307189542484 C=1.000000 gamma=10.000000\n",
      "accuracy: 0.6601307189542484 C=1.000000 gamma=100.000000\n",
      "accuracy: 0.7712418300653595 C=2.154435 gamma=0.010000\n",
      "accuracy: 0.7581699346405228 C=2.154435 gamma=0.100000\n",
      "accuracy: 0.673202614379085 C=2.154435 gamma=1.000000\n",
      "accuracy: 0.6601307189542484 C=2.154435 gamma=10.000000\n",
      "accuracy: 0.6601307189542484 C=2.154435 gamma=100.000000\n",
      "accuracy: 0.7777777777777778 C=4.641589 gamma=0.010000\n",
      "accuracy: 0.7777777777777778 C=4.641589 gamma=0.100000\n",
      "accuracy: 0.6797385620915033 C=4.641589 gamma=1.000000\n",
      "accuracy: 0.6601307189542484 C=4.641589 gamma=10.000000\n",
      "accuracy: 0.6601307189542484 C=4.641589 gamma=100.000000\n",
      "accuracy: 0.7843137254901961 C=10.000000 gamma=0.010000\n",
      "accuracy: 0.7712418300653595 C=10.000000 gamma=0.100000\n",
      "accuracy: 0.6797385620915033 C=10.000000 gamma=1.000000\n",
      "accuracy: 0.6601307189542484 C=10.000000 gamma=10.000000\n",
      "accuracy: 0.6601307189542484 C=10.000000 gamma=100.000000\n"
     ]
    }
   ],
   "source": [
    "#需要调优的参数\n",
    "C_s = np.logspace(-2, 1, 10)# logspace(a,b,N)把10的a次方到10的b次方区间分成N份 \n",
    "gamma_s = np.logspace(-2, 2, 5)    \n",
    "\n",
    "accuracy_s = []\n",
    "for i, oneC in enumerate(C_s):\n",
    "    for j, gamma in enumerate(gamma_s):\n",
    "        tmp = fit_grid_point_RBF(oneC, gamma, X_train, y_train, X_test, y_test)\n",
    "        accuracy_s.append(tmp)"
   ]
  },
  {
   "cell_type": "markdown",
   "metadata": {},
   "source": [
    "从上述部分运行结果来看，gamma参数设置不合适（gamma越大，对应RBF核的sigma越小，决策边界更复杂，可能发生了过拟合）\n",
    "所以调小gamma值"
   ]
  },
  {
   "cell_type": "code",
   "execution_count": 99,
   "metadata": {},
   "outputs": [
    {
     "name": "stdout",
     "output_type": "stream",
     "text": [
      "accuracy: 0.6601307189542484 C=0.010000 gamma=0.010000\n",
      "accuracy: 0.6601307189542484 C=0.010000 gamma=0.017783\n",
      "accuracy: 0.6601307189542484 C=0.010000 gamma=0.031623\n",
      "accuracy: 0.6601307189542484 C=0.010000 gamma=0.056234\n",
      "accuracy: 0.6601307189542484 C=0.010000 gamma=0.100000\n",
      "accuracy: 0.6601307189542484 C=0.021544 gamma=0.010000\n",
      "accuracy: 0.6601307189542484 C=0.021544 gamma=0.017783\n",
      "accuracy: 0.6601307189542484 C=0.021544 gamma=0.031623\n",
      "accuracy: 0.6601307189542484 C=0.021544 gamma=0.056234\n",
      "accuracy: 0.6601307189542484 C=0.021544 gamma=0.100000\n",
      "accuracy: 0.6601307189542484 C=0.046416 gamma=0.010000\n",
      "accuracy: 0.6601307189542484 C=0.046416 gamma=0.017783\n",
      "accuracy: 0.6601307189542484 C=0.046416 gamma=0.031623\n",
      "accuracy: 0.673202614379085 C=0.046416 gamma=0.056234\n",
      "accuracy: 0.6666666666666666 C=0.046416 gamma=0.100000\n",
      "accuracy: 0.6601307189542484 C=0.100000 gamma=0.010000\n",
      "accuracy: 0.738562091503268 C=0.100000 gamma=0.017783\n",
      "accuracy: 0.7647058823529411 C=0.100000 gamma=0.031623\n",
      "accuracy: 0.7712418300653595 C=0.100000 gamma=0.056234\n",
      "accuracy: 0.7581699346405228 C=0.100000 gamma=0.100000\n",
      "accuracy: 0.7581699346405228 C=0.215443 gamma=0.010000\n",
      "accuracy: 0.7777777777777778 C=0.215443 gamma=0.017783\n",
      "accuracy: 0.7712418300653595 C=0.215443 gamma=0.031623\n",
      "accuracy: 0.7712418300653595 C=0.215443 gamma=0.056234\n",
      "accuracy: 0.7712418300653595 C=0.215443 gamma=0.100000\n",
      "accuracy: 0.7712418300653595 C=0.464159 gamma=0.010000\n",
      "accuracy: 0.7777777777777778 C=0.464159 gamma=0.017783\n",
      "accuracy: 0.7843137254901961 C=0.464159 gamma=0.031623\n",
      "accuracy: 0.7843137254901961 C=0.464159 gamma=0.056234\n",
      "accuracy: 0.7712418300653595 C=0.464159 gamma=0.100000\n",
      "accuracy: 0.7647058823529411 C=1.000000 gamma=0.010000\n",
      "accuracy: 0.7843137254901961 C=1.000000 gamma=0.017783\n",
      "accuracy: 0.7843137254901961 C=1.000000 gamma=0.031623\n",
      "accuracy: 0.7777777777777778 C=1.000000 gamma=0.056234\n",
      "accuracy: 0.7581699346405228 C=1.000000 gamma=0.100000\n",
      "accuracy: 0.7712418300653595 C=2.154435 gamma=0.010000\n",
      "accuracy: 0.7777777777777778 C=2.154435 gamma=0.017783\n",
      "accuracy: 0.7777777777777778 C=2.154435 gamma=0.031623\n",
      "accuracy: 0.7712418300653595 C=2.154435 gamma=0.056234\n",
      "accuracy: 0.7581699346405228 C=2.154435 gamma=0.100000\n",
      "accuracy: 0.7777777777777778 C=4.641589 gamma=0.010000\n",
      "accuracy: 0.7777777777777778 C=4.641589 gamma=0.017783\n",
      "accuracy: 0.7712418300653595 C=4.641589 gamma=0.031623\n",
      "accuracy: 0.7843137254901961 C=4.641589 gamma=0.056234\n",
      "accuracy: 0.7777777777777778 C=4.641589 gamma=0.100000\n",
      "accuracy: 0.7843137254901961 C=10.000000 gamma=0.010000\n",
      "accuracy: 0.7647058823529411 C=10.000000 gamma=0.017783\n",
      "accuracy: 0.7908496732026143 C=10.000000 gamma=0.031623\n",
      "accuracy: 0.7712418300653595 C=10.000000 gamma=0.056234\n",
      "accuracy: 0.7712418300653595 C=10.000000 gamma=0.100000\n"
     ]
    }
   ],
   "source": [
    "#需要调优的参数\n",
    "C_s = np.logspace(-2, 1, 10)# logspace(a,b,N)把10的a次方到10的b次方区间分成N份 \n",
    "gamma_s = np.logspace(-2, -1, 5)  \n",
    "\n",
    "accuracy_s = []\n",
    "for i, oneC in enumerate(C_s):\n",
    "    for j, gamma in enumerate(gamma_s):\n",
    "        tmp = fit_grid_point_RBF(oneC, gamma, X_train, y_train, X_test, y_test)\n",
    "        accuracy_s.append(tmp)"
   ]
  },
  {
   "cell_type": "code",
   "execution_count": 100,
   "metadata": {
    "scrolled": true
   },
   "outputs": [
    {
     "data": {
      "image/png": "[encoded data removed]",
      "text/plain": [
       "<matplotlib.figure.Figure at 0x14c0f320>"
      ]
     },
     "metadata": {},
     "output_type": "display_data"
    }
   ],
   "source": [
    "accuracy_s1 =np.array(accuracy_s).reshape(len(C_s),len(gamma_s))\n",
    "x_axis = np.log10(C_s)\n",
    "for j, gamma in enumerate(gamma_s):\n",
    "    plt.plot(x_axis, np.array(accuracy_s1[:,j]), label = ' Test - log(gamma)' + str(np.log10(gamma)))\n",
    "\n",
    "plt.legend()\n",
    "plt.xlabel( 'log(C)' )                                                                                                      \n",
    "plt.ylabel( 'accuracy' )\n",
    "plt.savefig('RBF_SVM_Otto.png' )\n",
    "\n",
    "plt.show()"
   ]
  },
  {
   "cell_type": "markdown",
   "metadata": {
    "collapsed": true
   },
   "source": [
    "accuracy: 0.7973856209150327 C=0.215443 gamma=0.100000 这个时候结果比较理想一点"
   ]
  },
  {
   "cell_type": "markdown",
   "metadata": {
    "collapsed": true
   },
   "source": [
    "现在将分割数据集改为随机，测试结果可能会发生差异"
   ]
  },
  {
   "cell_type": "code",
   "execution_count": null,
   "metadata": {
    "collapsed": true
   },
   "outputs": [],
   "source": []
  }
 ],
 "metadata": {
  "kernelspec": {
   "display_name": "Python 3",
   "language": "python",
   "name": "python3"
  },
  "language_info": {
   "codemirror_mode": {
    "name": "ipython",
    "version": 3
   },
   "file_extension": ".py",
   "mimetype": "text/x-python",
   "name": "python",
   "nbconvert_exporter": "python",
   "pygments_lexer": "ipython3",
   "version": "3.6.3"
  }
 },
 "nbformat": 4,
 "nbformat_minor": 2
}
