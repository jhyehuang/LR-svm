{
 "cells": [
  {
   "cell_type": "markdown",
   "metadata": {},
   "source": [
    "# 在 Rental Listing Inquiries 数据上练习分类方法"
   ]
  },
  {
   "cell_type": "code",
   "execution_count": 1,
   "metadata": {
    "collapsed": true
   },
   "outputs": [],
   "source": [
    "# 首先 import 必要的模块\n",
    "import pandas as pd \n",
    "import numpy as np\n",
    "\n",
    "from sklearn.model_selection import GridSearchCV\n",
    "\n",
    "#竞赛的评价指标为logloss\n",
    "from sklearn.metrics import log_loss  \n",
    "\n",
    "from matplotlib import pyplot as plt\n",
    "import seaborn as sns\n",
    "%matplotlib inline"
   ]
  },
  {
   "cell_type": "markdown",
   "metadata": {},
   "source": [
    "## 读取数据 & 数据探索"
   ]
  },
  {
   "cell_type": "code",
   "execution_count": 2,
   "metadata": {
    "scrolled": true
   },
   "outputs": [
    {
     "data": {
      "text/html": [
       "<div>\n",
       "<style>\n",
       "    .dataframe thead tr:only-child th {\n",
       "        text-align: right;\n",
       "    }\n",
       "\n",
       "    .dataframe thead th {\n",
       "        text-align: left;\n",
       "    }\n",
       "\n",
       "    .dataframe tbody tr th {\n",
       "        vertical-align: top;\n",
       "    }\n",
       "</style>\n",
       "<table border=\"1\" class=\"dataframe\">\n",
       "  <thead>\n",
       "    <tr style=\"text-align: right;\">\n",
       "      <th></th>\n",
       "      <th>bathrooms</th>\n",
       "      <th>bedrooms</th>\n",
       "      <th>building_id</th>\n",
       "      <th>created</th>\n",
       "      <th>description</th>\n",
       "      <th>display_address</th>\n",
       "      <th>features</th>\n",
       "      <th>interest_level</th>\n",
       "      <th>latitude</th>\n",
       "      <th>listing_id</th>\n",
       "      <th>longitude</th>\n",
       "      <th>manager_id</th>\n",
       "      <th>photos</th>\n",
       "      <th>price</th>\n",
       "      <th>street_address</th>\n",
       "    </tr>\n",
       "  </thead>\n",
       "  <tbody>\n",
       "    <tr>\n",
       "      <th>10</th>\n",
       "      <td>1.5</td>\n",
       "      <td>3</td>\n",
       "      <td>53a5b119ba8f7b61d4e010512e0dfc85</td>\n",
       "      <td>2016-06-24 07:54:24</td>\n",
       "      <td>A Brand New 3 Bedroom 1.5 bath ApartmentEnjoy ...</td>\n",
       "      <td>Metropolitan Avenue</td>\n",
       "      <td>[]</td>\n",
       "      <td>medium</td>\n",
       "      <td>40.7145</td>\n",
       "      <td>7211212</td>\n",
       "      <td>-73.9425</td>\n",
       "      <td>5ba989232d0489da1b5f2c45f6688adc</td>\n",
       "      <td>[https://photos.renthop.com/2/7211212_1ed4542e...</td>\n",
       "      <td>3000</td>\n",
       "      <td>792 Metropolitan Avenue</td>\n",
       "    </tr>\n",
       "    <tr>\n",
       "      <th>10000</th>\n",
       "      <td>1.0</td>\n",
       "      <td>2</td>\n",
       "      <td>c5c8a357cba207596b04d1afd1e4f130</td>\n",
       "      <td>2016-06-12 12:19:27</td>\n",
       "      <td></td>\n",
       "      <td>Columbus Avenue</td>\n",
       "      <td>[Doorman, Elevator, Fitness Center, Cats Allow...</td>\n",
       "      <td>low</td>\n",
       "      <td>40.7947</td>\n",
       "      <td>7150865</td>\n",
       "      <td>-73.9667</td>\n",
       "      <td>7533621a882f71e25173b27e3139d83d</td>\n",
       "      <td>[https://photos.renthop.com/2/7150865_be3306c5...</td>\n",
       "      <td>5465</td>\n",
       "      <td>808 Columbus Avenue</td>\n",
       "    </tr>\n",
       "    <tr>\n",
       "      <th>100004</th>\n",
       "      <td>1.0</td>\n",
       "      <td>1</td>\n",
       "      <td>c3ba40552e2120b0acfc3cb5730bb2aa</td>\n",
       "      <td>2016-04-17 03:26:41</td>\n",
       "      <td>Top Top West Village location, beautiful Pre-w...</td>\n",
       "      <td>W 13 Street</td>\n",
       "      <td>[Laundry In Building, Dishwasher, Hardwood Flo...</td>\n",
       "      <td>high</td>\n",
       "      <td>40.7388</td>\n",
       "      <td>6887163</td>\n",
       "      <td>-74.0018</td>\n",
       "      <td>d9039c43983f6e564b1482b273bd7b01</td>\n",
       "      <td>[https://photos.renthop.com/2/6887163_de85c427...</td>\n",
       "      <td>2850</td>\n",
       "      <td>241 W 13 Street</td>\n",
       "    </tr>\n",
       "    <tr>\n",
       "      <th>100007</th>\n",
       "      <td>1.0</td>\n",
       "      <td>1</td>\n",
       "      <td>28d9ad350afeaab8027513a3e52ac8d5</td>\n",
       "      <td>2016-04-18 02:22:02</td>\n",
       "      <td>Building Amenities - Garage - Garden - fitness...</td>\n",
       "      <td>East 49th Street</td>\n",
       "      <td>[Hardwood Floors, No Fee]</td>\n",
       "      <td>low</td>\n",
       "      <td>40.7539</td>\n",
       "      <td>6888711</td>\n",
       "      <td>-73.9677</td>\n",
       "      <td>1067e078446a7897d2da493d2f741316</td>\n",
       "      <td>[https://photos.renthop.com/2/6888711_6e660cee...</td>\n",
       "      <td>3275</td>\n",
       "      <td>333 East 49th Street</td>\n",
       "    </tr>\n",
       "    <tr>\n",
       "      <th>100013</th>\n",
       "      <td>1.0</td>\n",
       "      <td>4</td>\n",
       "      <td>0</td>\n",
       "      <td>2016-04-28 01:32:41</td>\n",
       "      <td>Beautifully renovated 3 bedroom flex 4 bedroom...</td>\n",
       "      <td>West 143rd Street</td>\n",
       "      <td>[Pre-War]</td>\n",
       "      <td>low</td>\n",
       "      <td>40.8241</td>\n",
       "      <td>6934781</td>\n",
       "      <td>-73.9493</td>\n",
       "      <td>98e13ad4b495b9613cef886d79a6291f</td>\n",
       "      <td>[https://photos.renthop.com/2/6934781_1fa4b41a...</td>\n",
       "      <td>3350</td>\n",
       "      <td>500 West 143rd Street</td>\n",
       "    </tr>\n",
       "  </tbody>\n",
       "</table>\n",
       "</div>"
      ],
      "text/plain": [
       "        bathrooms  bedrooms                       building_id  \\\n",
       "10            1.5         3  53a5b119ba8f7b61d4e010512e0dfc85   \n",
       "10000         1.0         2  c5c8a357cba207596b04d1afd1e4f130   \n",
       "100004        1.0         1  c3ba40552e2120b0acfc3cb5730bb2aa   \n",
       "100007        1.0         1  28d9ad350afeaab8027513a3e52ac8d5   \n",
       "100013        1.0         4                                 0   \n",
       "\n",
       "                    created  \\\n",
       "10      2016-06-24 07:54:24   \n",
       "10000   2016-06-12 12:19:27   \n",
       "100004  2016-04-17 03:26:41   \n",
       "100007  2016-04-18 02:22:02   \n",
       "100013  2016-04-28 01:32:41   \n",
       "\n",
       "                                              description  \\\n",
       "10      A Brand New 3 Bedroom 1.5 bath ApartmentEnjoy ...   \n",
       "10000                                                       \n",
       "100004  Top Top West Village location, beautiful Pre-w...   \n",
       "100007  Building Amenities - Garage - Garden - fitness...   \n",
       "100013  Beautifully renovated 3 bedroom flex 4 bedroom...   \n",
       "\n",
       "            display_address  \\\n",
       "10      Metropolitan Avenue   \n",
       "10000       Columbus Avenue   \n",
       "100004          W 13 Street   \n",
       "100007     East 49th Street   \n",
       "100013    West 143rd Street   \n",
       "\n",
       "                                                 features interest_level  \\\n",
       "10                                                     []         medium   \n",
       "10000   [Doorman, Elevator, Fitness Center, Cats Allow...            low   \n",
       "100004  [Laundry In Building, Dishwasher, Hardwood Flo...           high   \n",
       "100007                          [Hardwood Floors, No Fee]            low   \n",
       "100013                                          [Pre-War]            low   \n",
       "\n",
       "        latitude  listing_id  longitude                        manager_id  \\\n",
       "10       40.7145     7211212   -73.9425  5ba989232d0489da1b5f2c45f6688adc   \n",
       "10000    40.7947     7150865   -73.9667  7533621a882f71e25173b27e3139d83d   \n",
       "100004   40.7388     6887163   -74.0018  d9039c43983f6e564b1482b273bd7b01   \n",
       "100007   40.7539     6888711   -73.9677  1067e078446a7897d2da493d2f741316   \n",
       "100013   40.8241     6934781   -73.9493  98e13ad4b495b9613cef886d79a6291f   \n",
       "\n",
       "                                                   photos  price  \\\n",
       "10      [https://photos.renthop.com/2/7211212_1ed4542e...   3000   \n",
       "10000   [https://photos.renthop.com/2/7150865_be3306c5...   5465   \n",
       "100004  [https://photos.renthop.com/2/6887163_de85c427...   2850   \n",
       "100007  [https://photos.renthop.com/2/6888711_6e660cee...   3275   \n",
       "100013  [https://photos.renthop.com/2/6934781_1fa4b41a...   3350   \n",
       "\n",
       "                 street_address  \n",
       "10      792 Metropolitan Avenue  \n",
       "10000       808 Columbus Avenue  \n",
       "100004          241 W 13 Street  \n",
       "100007     333 East 49th Street  \n",
       "100013    500 West 143rd Street  "
      ]
     },
     "execution_count": 2,
     "metadata": {},
     "output_type": "execute_result"
    }
   ],
   "source": [
    "# 读取训练数据\n",
    "# path to where the data lies\n",
    "dpath = '../../data/'\n",
    "train = pd.read_json(dpath +\"RentListingInquries_train.json\")\n",
    "train.head()"
   ]
  },
  {
   "cell_type": "code",
   "execution_count": 3,
   "metadata": {
    "scrolled": true
   },
   "outputs": [
    {
     "name": "stdout",
     "output_type": "stream",
     "text": [
      "<class 'pandas.core.frame.DataFrame'>\n",
      "Int64Index: 49352 entries, 10 to 99994\n",
      "Data columns (total 15 columns):\n",
      "bathrooms          49352 non-null float64\n",
      "bedrooms           49352 non-null int64\n",
      "building_id        49352 non-null object\n",
      "created            49352 non-null object\n",
      "description        49352 non-null object\n",
      "display_address    49352 non-null object\n",
      "features           49352 non-null object\n",
      "interest_level     49352 non-null object\n",
      "latitude           49352 non-null float64\n",
      "listing_id         49352 non-null int64\n",
      "longitude          49352 non-null float64\n",
      "manager_id         49352 non-null object\n",
      "photos             49352 non-null object\n",
      "price              49352 non-null int64\n",
      "street_address     49352 non-null object\n",
      "dtypes: float64(3), int64(3), object(9)\n",
      "memory usage: 6.0+ MB\n"
     ]
    }
   ],
   "source": [
    "train.info()"
   ]
  },
  {
   "cell_type": "markdown",
   "metadata": {},
   "source": [
    "### 特征含义\n",
    "bathrooms: 浴室的数量\n",
    "\n",
    "bedrooms: 卧室的数量\n",
    "\n",
    "building_id：\n",
    "\n",
    "created：发布时间\n",
    "\n",
    "description：一些描述\n",
    "\n",
    "display_address：展出地址\n",
    "\n",
    "features: 公寓的一些特征\n",
    "\n",
    "latitude：纬度\n",
    "\n",
    "listing_id\n",
    "\n",
    "longitude：经度\n",
    "\n",
    "manager_id：管理ID\n",
    "\n",
    "photos: 租房图片集\n",
    "\n",
    "price: 美元\n",
    "\n",
    "street_address：街道地址\n",
    "\n",
    "interest_level: 目标变量，受欢迎程度. 有三个类: ‘high’, ‘medium’, ‘low’"
   ]
  },
  {
   "cell_type": "code",
   "execution_count": 4,
   "metadata": {},
   "outputs": [
    {
     "data": {
      "text/plain": [
       "bathrooms          0\n",
       "bedrooms           0\n",
       "building_id        0\n",
       "created            0\n",
       "description        0\n",
       "display_address    0\n",
       "features           0\n",
       "interest_level     0\n",
       "latitude           0\n",
       "listing_id         0\n",
       "longitude          0\n",
       "manager_id         0\n",
       "photos             0\n",
       "price              0\n",
       "street_address     0\n",
       "dtype: int64"
      ]
     },
     "execution_count": 4,
     "metadata": {},
     "output_type": "execute_result"
    }
   ],
   "source": [
    "train.isnull().sum()"
   ]
  },
  {
   "cell_type": "code",
   "execution_count": 5,
   "metadata": {},
   "outputs": [
    {
     "name": "stdout",
     "output_type": "stream",
     "text": [
      "bathrooms = 313\n",
      "bedrooms = 9475\n",
      "building_id = 0\n",
      "created = 0\n",
      "description = 0\n",
      "display_address = 0\n",
      "features = 0\n",
      "interest_level = 0\n",
      "latitude = 12\n",
      "listing_id = 0\n",
      "longitude = 12\n",
      "manager_id = 0\n",
      "photos = 0\n",
      "price = 0\n",
      "street_address = 0\n"
     ]
    }
   ],
   "source": [
    "for a in train.columns:\n",
    "    print('%s = %d'% (a ,len(train[train[a]==0])))"
   ]
  },
  {
   "cell_type": "code",
   "execution_count": 7,
   "metadata": {
    "scrolled": false
   },
   "outputs": [
    {
     "data": {
      "text/html": [
       "<div>\n",
       "<style>\n",
       "    .dataframe thead tr:only-child th {\n",
       "        text-align: right;\n",
       "    }\n",
       "\n",
       "    .dataframe thead th {\n",
       "        text-align: left;\n",
       "    }\n",
       "\n",
       "    .dataframe tbody tr th {\n",
       "        vertical-align: top;\n",
       "    }\n",
       "</style>\n",
       "<table border=\"1\" class=\"dataframe\">\n",
       "  <thead>\n",
       "    <tr style=\"text-align: right;\">\n",
       "      <th></th>\n",
       "      <th>bathrooms</th>\n",
       "      <th>bedrooms</th>\n",
       "      <th>latitude</th>\n",
       "      <th>listing_id</th>\n",
       "      <th>longitude</th>\n",
       "      <th>price</th>\n",
       "    </tr>\n",
       "  </thead>\n",
       "  <tbody>\n",
       "    <tr>\n",
       "      <th>count</th>\n",
       "      <td>49352.00000</td>\n",
       "      <td>49352.000000</td>\n",
       "      <td>49352.000000</td>\n",
       "      <td>4.935200e+04</td>\n",
       "      <td>49352.000000</td>\n",
       "      <td>4.935200e+04</td>\n",
       "    </tr>\n",
       "    <tr>\n",
       "      <th>mean</th>\n",
       "      <td>1.21218</td>\n",
       "      <td>1.541640</td>\n",
       "      <td>40.741545</td>\n",
       "      <td>7.024055e+06</td>\n",
       "      <td>-73.955716</td>\n",
       "      <td>3.830174e+03</td>\n",
       "    </tr>\n",
       "    <tr>\n",
       "      <th>std</th>\n",
       "      <td>0.50142</td>\n",
       "      <td>1.115018</td>\n",
       "      <td>0.638535</td>\n",
       "      <td>1.262746e+05</td>\n",
       "      <td>1.177912</td>\n",
       "      <td>2.206687e+04</td>\n",
       "    </tr>\n",
       "    <tr>\n",
       "      <th>min</th>\n",
       "      <td>0.00000</td>\n",
       "      <td>0.000000</td>\n",
       "      <td>0.000000</td>\n",
       "      <td>6.811957e+06</td>\n",
       "      <td>-118.271000</td>\n",
       "      <td>4.300000e+01</td>\n",
       "    </tr>\n",
       "    <tr>\n",
       "      <th>25%</th>\n",
       "      <td>1.00000</td>\n",
       "      <td>1.000000</td>\n",
       "      <td>40.728300</td>\n",
       "      <td>6.915888e+06</td>\n",
       "      <td>-73.991700</td>\n",
       "      <td>2.500000e+03</td>\n",
       "    </tr>\n",
       "    <tr>\n",
       "      <th>50%</th>\n",
       "      <td>1.00000</td>\n",
       "      <td>1.000000</td>\n",
       "      <td>40.751800</td>\n",
       "      <td>7.021070e+06</td>\n",
       "      <td>-73.977900</td>\n",
       "      <td>3.150000e+03</td>\n",
       "    </tr>\n",
       "    <tr>\n",
       "      <th>75%</th>\n",
       "      <td>1.00000</td>\n",
       "      <td>2.000000</td>\n",
       "      <td>40.774300</td>\n",
       "      <td>7.128733e+06</td>\n",
       "      <td>-73.954800</td>\n",
       "      <td>4.100000e+03</td>\n",
       "    </tr>\n",
       "    <tr>\n",
       "      <th>max</th>\n",
       "      <td>10.00000</td>\n",
       "      <td>8.000000</td>\n",
       "      <td>44.883500</td>\n",
       "      <td>7.753784e+06</td>\n",
       "      <td>0.000000</td>\n",
       "      <td>4.490000e+06</td>\n",
       "    </tr>\n",
       "  </tbody>\n",
       "</table>\n",
       "</div>"
      ],
      "text/plain": [
       "         bathrooms      bedrooms      latitude    listing_id     longitude  \\\n",
       "count  49352.00000  49352.000000  49352.000000  4.935200e+04  49352.000000   \n",
       "mean       1.21218      1.541640     40.741545  7.024055e+06    -73.955716   \n",
       "std        0.50142      1.115018      0.638535  1.262746e+05      1.177912   \n",
       "min        0.00000      0.000000      0.000000  6.811957e+06   -118.271000   \n",
       "25%        1.00000      1.000000     40.728300  6.915888e+06    -73.991700   \n",
       "50%        1.00000      1.000000     40.751800  7.021070e+06    -73.977900   \n",
       "75%        1.00000      2.000000     40.774300  7.128733e+06    -73.954800   \n",
       "max       10.00000      8.000000     44.883500  7.753784e+06      0.000000   \n",
       "\n",
       "              price  \n",
       "count  4.935200e+04  \n",
       "mean   3.830174e+03  \n",
       "std    2.206687e+04  \n",
       "min    4.300000e+01  \n",
       "25%    2.500000e+03  \n",
       "50%    3.150000e+03  \n",
       "75%    4.100000e+03  \n",
       "max    4.490000e+06  "
      ]
     },
     "execution_count": 7,
     "metadata": {},
     "output_type": "execute_result"
    }
   ],
   "source": [
    "## 各属性的统计特性\n",
    "train.describe()"
   ]
  },
  {
   "cell_type": "code",
   "execution_count": 8,
   "metadata": {},
   "outputs": [
    {
     "data": {
      "text/html": [
       "<div>\n",
       "<style>\n",
       "    .dataframe thead tr:only-child th {\n",
       "        text-align: right;\n",
       "    }\n",
       "\n",
       "    .dataframe thead th {\n",
       "        text-align: left;\n",
       "    }\n",
       "\n",
       "    .dataframe tbody tr th {\n",
       "        vertical-align: top;\n",
       "    }\n",
       "</style>\n",
       "<table border=\"1\" class=\"dataframe\">\n",
       "  <thead>\n",
       "    <tr style=\"text-align: right;\">\n",
       "      <th></th>\n",
       "      <th>bathrooms</th>\n",
       "      <th>bedrooms</th>\n",
       "      <th>building_id</th>\n",
       "      <th>created</th>\n",
       "      <th>description</th>\n",
       "      <th>display_address</th>\n",
       "      <th>features</th>\n",
       "      <th>latitude</th>\n",
       "      <th>listing_id</th>\n",
       "      <th>longitude</th>\n",
       "      <th>manager_id</th>\n",
       "      <th>photos</th>\n",
       "      <th>price</th>\n",
       "      <th>street_address</th>\n",
       "    </tr>\n",
       "  </thead>\n",
       "  <tbody>\n",
       "    <tr>\n",
       "      <th>0</th>\n",
       "      <td>1.0</td>\n",
       "      <td>1</td>\n",
       "      <td>79780be1514f645d7e6be99a3de696c5</td>\n",
       "      <td>2016-06-11 05:29:41</td>\n",
       "      <td>Large with awesome terrace--accessible via bed...</td>\n",
       "      <td>Suffolk Street</td>\n",
       "      <td>[Elevator, Laundry in Building, Laundry in Uni...</td>\n",
       "      <td>40.7185</td>\n",
       "      <td>7142618</td>\n",
       "      <td>-73.9865</td>\n",
       "      <td>b1b1852c416d78d7765d746cb1b8921f</td>\n",
       "      <td>[https://photos.renthop.com/2/7142618_1c45a2c8...</td>\n",
       "      <td>2950</td>\n",
       "      <td>99 Suffolk Street</td>\n",
       "    </tr>\n",
       "    <tr>\n",
       "      <th>1</th>\n",
       "      <td>1.0</td>\n",
       "      <td>2</td>\n",
       "      <td>0</td>\n",
       "      <td>2016-06-24 06:36:34</td>\n",
       "      <td>Prime Soho - between Bleecker and Houston - Ne...</td>\n",
       "      <td>Thompson Street</td>\n",
       "      <td>[Pre-War, Dogs Allowed, Cats Allowed]</td>\n",
       "      <td>40.7278</td>\n",
       "      <td>7210040</td>\n",
       "      <td>-74.0000</td>\n",
       "      <td>d0b5648017832b2427eeb9956d966a14</td>\n",
       "      <td>[https://photos.renthop.com/2/7210040_d824cc71...</td>\n",
       "      <td>2850</td>\n",
       "      <td>176 Thompson Street</td>\n",
       "    </tr>\n",
       "    <tr>\n",
       "      <th>100</th>\n",
       "      <td>1.0</td>\n",
       "      <td>1</td>\n",
       "      <td>3dbbb69fd52e0d25131aa1cd459c87eb</td>\n",
       "      <td>2016-06-03 04:29:40</td>\n",
       "      <td>New York chic has reached a new level ...</td>\n",
       "      <td>101 East 10th Street</td>\n",
       "      <td>[Doorman, Elevator, No Fee]</td>\n",
       "      <td>40.7306</td>\n",
       "      <td>7103890</td>\n",
       "      <td>-73.9890</td>\n",
       "      <td>9ca6f3baa475c37a3b3521a394d65467</td>\n",
       "      <td>[https://photos.renthop.com/2/7103890_85b33077...</td>\n",
       "      <td>3758</td>\n",
       "      <td>101 East 10th Street</td>\n",
       "    </tr>\n",
       "    <tr>\n",
       "      <th>1000</th>\n",
       "      <td>1.0</td>\n",
       "      <td>2</td>\n",
       "      <td>783d21d013a7e655bddc4ed0d461cc5e</td>\n",
       "      <td>2016-06-11 06:17:35</td>\n",
       "      <td>Step into this fantastic new Construction in t...</td>\n",
       "      <td>South Third Street\\r</td>\n",
       "      <td>[Roof Deck, Balcony, Elevator, Laundry in Buil...</td>\n",
       "      <td>40.7109</td>\n",
       "      <td>7143442</td>\n",
       "      <td>-73.9571</td>\n",
       "      <td>0b9d5db96db8472d7aeb67c67338c4d2</td>\n",
       "      <td>[https://photos.renthop.com/2/7143442_0879e9e0...</td>\n",
       "      <td>3300</td>\n",
       "      <td>251  South Third Street\\r</td>\n",
       "    </tr>\n",
       "    <tr>\n",
       "      <th>100000</th>\n",
       "      <td>2.0</td>\n",
       "      <td>2</td>\n",
       "      <td>6134e7c4dd1a98d9aee36623c9872b49</td>\n",
       "      <td>2016-04-12 05:24:17</td>\n",
       "      <td>~Take a stroll in Central Park, enjoy the ente...</td>\n",
       "      <td>Midtown West, 8th Ave</td>\n",
       "      <td>[Common Outdoor Space, Cats Allowed, Dogs Allo...</td>\n",
       "      <td>40.7650</td>\n",
       "      <td>6860601</td>\n",
       "      <td>-73.9845</td>\n",
       "      <td>b5eda0eb31b042ce2124fd9e9fcfce2f</td>\n",
       "      <td>[https://photos.renthop.com/2/6860601_c96164d8...</td>\n",
       "      <td>4900</td>\n",
       "      <td>260 West 54th Street</td>\n",
       "    </tr>\n",
       "  </tbody>\n",
       "</table>\n",
       "</div>"
      ],
      "text/plain": [
       "        bathrooms  bedrooms                       building_id  \\\n",
       "0             1.0         1  79780be1514f645d7e6be99a3de696c5   \n",
       "1             1.0         2                                 0   \n",
       "100           1.0         1  3dbbb69fd52e0d25131aa1cd459c87eb   \n",
       "1000          1.0         2  783d21d013a7e655bddc4ed0d461cc5e   \n",
       "100000        2.0         2  6134e7c4dd1a98d9aee36623c9872b49   \n",
       "\n",
       "                    created  \\\n",
       "0       2016-06-11 05:29:41   \n",
       "1       2016-06-24 06:36:34   \n",
       "100     2016-06-03 04:29:40   \n",
       "1000    2016-06-11 06:17:35   \n",
       "100000  2016-04-12 05:24:17   \n",
       "\n",
       "                                              description  \\\n",
       "0       Large with awesome terrace--accessible via bed...   \n",
       "1       Prime Soho - between Bleecker and Houston - Ne...   \n",
       "100             New York chic has reached a new level ...   \n",
       "1000    Step into this fantastic new Construction in t...   \n",
       "100000  ~Take a stroll in Central Park, enjoy the ente...   \n",
       "\n",
       "              display_address  \\\n",
       "0              Suffolk Street   \n",
       "1             Thompson Street   \n",
       "100      101 East 10th Street   \n",
       "1000     South Third Street\\r   \n",
       "100000  Midtown West, 8th Ave   \n",
       "\n",
       "                                                 features  latitude  \\\n",
       "0       [Elevator, Laundry in Building, Laundry in Uni...   40.7185   \n",
       "1                   [Pre-War, Dogs Allowed, Cats Allowed]   40.7278   \n",
       "100                           [Doorman, Elevator, No Fee]   40.7306   \n",
       "1000    [Roof Deck, Balcony, Elevator, Laundry in Buil...   40.7109   \n",
       "100000  [Common Outdoor Space, Cats Allowed, Dogs Allo...   40.7650   \n",
       "\n",
       "        listing_id  longitude                        manager_id  \\\n",
       "0          7142618   -73.9865  b1b1852c416d78d7765d746cb1b8921f   \n",
       "1          7210040   -74.0000  d0b5648017832b2427eeb9956d966a14   \n",
       "100        7103890   -73.9890  9ca6f3baa475c37a3b3521a394d65467   \n",
       "1000       7143442   -73.9571  0b9d5db96db8472d7aeb67c67338c4d2   \n",
       "100000     6860601   -73.9845  b5eda0eb31b042ce2124fd9e9fcfce2f   \n",
       "\n",
       "                                                   photos  price  \\\n",
       "0       [https://photos.renthop.com/2/7142618_1c45a2c8...   2950   \n",
       "1       [https://photos.renthop.com/2/7210040_d824cc71...   2850   \n",
       "100     [https://photos.renthop.com/2/7103890_85b33077...   3758   \n",
       "1000    [https://photos.renthop.com/2/7143442_0879e9e0...   3300   \n",
       "100000  [https://photos.renthop.com/2/6860601_c96164d8...   4900   \n",
       "\n",
       "                   street_address  \n",
       "0               99 Suffolk Street  \n",
       "1             176 Thompson Street  \n",
       "100          101 East 10th Street  \n",
       "1000    251  South Third Street\\r  \n",
       "100000       260 West 54th Street  "
      ]
     },
     "execution_count": 8,
     "metadata": {},
     "output_type": "execute_result"
    }
   ],
   "source": [
    "# 读取测试数据\n",
    "# path to where the data lies\n",
    "dpath = '../../data/'\n",
    "test = pd.read_json(dpath +\"RentListingInquries_test.json\")\n",
    "test.head()"
   ]
  },
  {
   "cell_type": "code",
   "execution_count": 9,
   "metadata": {},
   "outputs": [
    {
     "name": "stdout",
     "output_type": "stream",
     "text": [
      "<class 'pandas.core.frame.DataFrame'>\n",
      "Int64Index: 74659 entries, 0 to 99999\n",
      "Data columns (total 14 columns):\n",
      "bathrooms          74659 non-null float64\n",
      "bedrooms           74659 non-null int64\n",
      "building_id        74659 non-null object\n",
      "created            74659 non-null object\n",
      "description        74659 non-null object\n",
      "display_address    74659 non-null object\n",
      "features           74659 non-null object\n",
      "latitude           74659 non-null float64\n",
      "listing_id         74659 non-null int64\n",
      "longitude          74659 non-null float64\n",
      "manager_id         74659 non-null object\n",
      "photos             74659 non-null object\n",
      "price              74659 non-null int64\n",
      "street_address     74659 non-null object\n",
      "dtypes: float64(3), int64(3), object(8)\n",
      "memory usage: 8.5+ MB\n"
     ]
    }
   ],
   "source": [
    "test.info()"
   ]
  },
  {
   "cell_type": "markdown",
   "metadata": {},
   "source": [
    "## 计算资源原因，只取500个样本进行试验"
   ]
  },
  {
   "cell_type": "code",
   "execution_count": 10,
   "metadata": {},
   "outputs": [],
   "source": [
    "train=train[0:500]\n",
    "test=test[0:500]"
   ]
  },
  {
   "cell_type": "code",
   "execution_count": 11,
   "metadata": {},
   "outputs": [],
   "source": [
    "from scipy import sparse\n",
    "from sklearn import preprocessing\n",
    "from sklearn.feature_extraction.text import CountVectorizer"
   ]
  },
  {
   "cell_type": "code",
   "execution_count": 12,
   "metadata": {
    "collapsed": true
   },
   "outputs": [],
   "source": [
    "features_to_use = [\"bathrooms\",\"bedrooms\",\"latitude\",\"longitude\",\"price\"]"
   ]
  },
  {
   "cell_type": "code",
   "execution_count": 13,
   "metadata": {},
   "outputs": [],
   "source": [
    "# 照片数量(num_photos)\n",
    "train['num_photos']=train['photos'].apply(len)\n",
    "test['num_photos']=test['photos'].apply(len)\n",
    "# 特征数量\n",
    "train['num_features']=train['features'].apply(len)\n",
    "test['num_features']=test['features'].apply(len)\n",
    "# 描述词汇数量\n",
    "train['num_description_words'] = train['description'].apply(lambda x: len(x.split(\" \")))\n",
    "test['num_description_words'] = test['description'].apply(lambda x: len(x.split(\" \")))\n",
    "#把创建的时间分解为多个特征        \n",
    "train['created']=pd.to_datetime(train['created'])\n",
    "test['created']=pd.to_datetime(test['created'])\n",
    " \n",
    "#让我们从时间中分解出一些特征，比如年，月，日，时\n",
    "#年\n",
    "train['created_year'] = train['created'].dt.year\n",
    "test['created_year'] = test['created'].dt.year\n",
    "#月\n",
    "train['created_month'] = train['created'].dt.month\n",
    "test['created_month'] = test['created'].dt.month\n",
    "#日\n",
    "train['created_day'] = train['created'].dt.day\n",
    "test['created_day'] = test['created'].dt.day\n",
    "#时\n",
    "train['created_hour'] = train['created'].dt.hour\n",
    "test['created_hour'] = test['created'].dt.hour\n",
    "#把这些特征都放到所需特征列表中（上面已经创建，并加入了数值型特征） \n",
    "features_to_use.extend([\"num_photos\",\"num_features\",\"num_description_words\",\"created_year\",\"created_month\",\"created_day\",\"created_hour\",\"listing_id\"])\n"
   ]
  },
  {
   "cell_type": "markdown",
   "metadata": {},
   "source": [
    "### 对字符串这类变量先做类别编码，后续考虑做独热编码"
   ]
  },
  {
   "cell_type": "code",
   "execution_count": 14,
   "metadata": {
    "collapsed": true
   },
   "outputs": [],
   "source": [
    "categorical = [\"display_address\",\"manager_id\",'building_id',\"street_address\"]\n",
    "for f in categorical:\n",
    "    if train[f].dtype == 'object':\n",
    "        lbl = preprocessing.LabelEncoder()\n",
    "        lbl.fit(list(train[f].values)+list(test[f].values))\n",
    "        train[f] = lbl.transform(list(train[f].values))\n",
    "        test[f] = lbl.transform(list(test[f].values))\n",
    "        features_to_use.append(f)"
   ]
  },
  {
   "cell_type": "markdown",
   "metadata": {},
   "source": [
    "### 将对房源的描述变为词库，进一步转化为词向量"
   ]
  },
  {
   "cell_type": "code",
   "execution_count": 15,
   "metadata": {},
   "outputs": [
    {
     "name": "stdout",
     "output_type": "stream",
     "text": [
      "10                                                        \n",
      "10000    Doorman Elevator Fitness_Center Cats_Allowed D...\n",
      "Name: features, dtype: object\n",
      "0    Elevator Laundry_in_Building Laundry_in_Unit D...\n",
      "1                    Pre-War Dogs_Allowed Cats_Allowed\n",
      "Name: features, dtype: object\n"
     ]
    }
   ],
   "source": [
    "\n",
    "train[\"features\"] = train[\"features\"].apply(lambda x:\" \".join([\"_\".join(i.split(\" \"))for i in x]))\n",
    "print (train['features'].head(2))\n",
    "test['features'] = test[\"features\"].apply(lambda x: \" \".join([\"_\".join(i.split(\" \"))for i in x]))\n",
    "print (test['features'].head(2))"
   ]
  },
  {
   "cell_type": "code",
   "execution_count": 16,
   "metadata": {},
   "outputs": [],
   "source": [
    "tfidf = CountVectorizer(stop_words =\"english\",max_features=200)\n",
    "tr_sparse = tfidf.fit_transform(train[\"features\"])\n",
    "te_sparse = tfidf.transform(test[\"features\"])"
   ]
  },
  {
   "cell_type": "code",
   "execution_count": 17,
   "metadata": {},
   "outputs": [],
   "source": [
    "X_train = sparse.hstack([train[features_to_use],tr_sparse]).tocsr()\n",
    "test = sparse.hstack([test[features_to_use],te_sparse]).tocsr()"
   ]
  },
  {
   "cell_type": "code",
   "execution_count": 19,
   "metadata": {},
   "outputs": [
    {
     "name": "stdout",
     "output_type": "stream",
     "text": [
      "(500, 140) (500, 140) (500,)\n"
     ]
    }
   ],
   "source": [
    "target_num_map = {'high':0 , 'medium':1 , 'low':2}\n",
    "y_train = np.array(train['interest_level'].apply(lambda x: target_num_map[x]))\n",
    "print (X_train.shape,test.shape,y_train.shape)"
   ]
  },
  {
   "cell_type": "markdown",
   "metadata": {},
   "source": [
    "## 数据集划分"
   ]
  },
  {
   "cell_type": "code",
   "execution_count": 20,
   "metadata": {
    "collapsed": true
   },
   "outputs": [],
   "source": [
    "def data_set_split(X,Y):\n",
    "    from sklearn.cross_validation import train_test_split\n",
    "    #random_state=42 保证每次分组一致，保证模型稳定\n",
    "    X_train, X_test, y_train,y_test = train_test_split(X, Y, test_size=0.2) \n",
    "    return X_train, X_test, y_train, y_test\n"
   ]
  },
  {
   "cell_type": "code",
   "execution_count": 21,
   "metadata": {},
   "outputs": [
    {
     "name": "stderr",
     "output_type": "stream",
     "text": [
      "C:\\ProgramData\\Anaconda3\\lib\\site-packages\\sklearn\\cross_validation.py:41: DeprecationWarning: This module was deprecated in version 0.18 in favor of the model_selection module into which all the refactored classes and functions are moved. Also note that the interface of the new CV iterators are different from that of this module. This module will be removed in 0.20.\n",
      "  \"This module will be removed in 0.20.\", DeprecationWarning)\n"
     ]
    }
   ],
   "source": [
    "X_train, X_test, y_train, y_test=data_set_split(X_train,y_train)\n"
   ]
  },
  {
   "cell_type": "markdown",
   "metadata": {},
   "source": [
    "## 数据预处理"
   ]
  },
  {
   "cell_type": "code",
   "execution_count": 22,
   "metadata": {
    "collapsed": true
   },
   "outputs": [],
   "source": [
    "# 数据标准化\n",
    "#from sklearn.preprocessing import StandardScaler\n",
    "\n",
    "# 初始化特征的标准化器\n",
    "#ss_X = StandardScaler()\n",
    "\n",
    "# 分别对训练和测试数据的特征进行标准化处理\n",
    "#X_train = ss_X.fit_transform(X_train)\n",
    "#X_test = ss_X.transform(X_test)\n"
   ]
  },
  {
   "cell_type": "markdown",
   "metadata": {},
   "source": [
    "将0.2的数据作为测试集"
   ]
  },
  {
   "cell_type": "code",
   "execution_count": 23,
   "metadata": {
    "scrolled": true
   },
   "outputs": [
    {
     "name": "stdout",
     "output_type": "stream",
     "text": [
      "(400, 140) (100, 140)\n"
     ]
    }
   ],
   "source": [
    "print(X_train.shape,X_test.shape)"
   ]
  },
  {
   "cell_type": "markdown",
   "metadata": {},
   "source": [
    "## 模型训练"
   ]
  },
  {
   "cell_type": "markdown",
   "metadata": {},
   "source": [
    "### default Logistic Regression"
   ]
  },
  {
   "cell_type": "code",
   "execution_count": 24,
   "metadata": {
    "collapsed": true
   },
   "outputs": [],
   "source": [
    "from sklearn.linear_model import LogisticRegression\n",
    "lr= LogisticRegression()"
   ]
  },
  {
   "cell_type": "code",
   "execution_count": 25,
   "metadata": {
    "collapsed": true,
    "scrolled": false
   },
   "outputs": [],
   "source": [
    "# 交叉验证用于评估模型性能和进行参数调优（模型选择）\n",
    "#分类任务中交叉验证缺省是采用StratifiedKFold\n",
    "from sklearn.cross_validation import cross_val_score\n",
    "loss = cross_val_score(lr, X_train, y_train, cv=5, scoring='neg_log_loss')"
   ]
  },
  {
   "cell_type": "code",
   "execution_count": 28,
   "metadata": {},
   "outputs": [
    {
     "name": "stdout",
     "output_type": "stream",
     "text": [
      "logloss of each fold is:  [0.80527974 0.7671725  0.80183464 0.77380223 0.77206277]\n",
      "cv logloss is: 0.7840303752329437\n"
     ]
    }
   ],
   "source": [
    "print ('logloss of each fold is: ',-loss)\n",
    "print ('cv logloss is:', -loss.mean())"
   ]
  },
  {
   "cell_type": "markdown",
   "metadata": {},
   "source": [
    "### 正则化的 Logistic Regression及参数调优"
   ]
  },
  {
   "cell_type": "markdown",
   "metadata": {},
   "source": [
    "logistic回归的需要调整超参数有：C（正则系数，一般在log域（取log后的值）均匀设置候选参数）和正则函数penalty（L2/L1） \n",
    "目标函数为：J = sum(logloss(f(xi), yi)) + C* penalty \n",
    "\n",
    "在sklearn框架下，不同学习器的参数调整步骤相同：\n",
    "设置候选参数集合\n",
    "调用GridSearchCV\n",
    "调用fit"
   ]
  },
  {
   "cell_type": "markdown",
   "metadata": {},
   "source": [
    "### 用LogisticRegressionCV实现正则化的 Logistic Regression"
   ]
  },
  {
   "cell_type": "markdown",
   "metadata": {},
   "source": [
    "### L1正则"
   ]
  },
  {
   "cell_type": "code",
   "execution_count": 30,
   "metadata": {
    "scrolled": true
   },
   "outputs": [
    {
     "data": {
      "text/plain": [
       "LogisticRegressionCV(Cs=[0.1, 0.2, 0.3, 0.4, 0.5, 0.6, 0.7, 0.8, 0.9, 1.0, 1.1, 1.2, 1.3, 1.4, 1.5, 1.6, 1.7, 1.8, 1.9, 2.0, 2.1, 2.2, 2.3, 2.4, 2.5, 2.6, 2.7, 2.8, 2.9, 3.0, 3.1, 3.2, 3.3, 3.4, 3.5, 3.6, 3.7, 3.8, 3.9, 4.0, 4.1, 4.2, 4.3, 4.4, 4.5, 4.6, 4.7, 4.8, 4.9, 5.0, 5.1, 5.2, 5.3, 5.4, 5.5, 5.6, 5.7, 5.8, 5.9, 6.0, 6.1, 6.2, 6.3, 6.4, 6.5, 6.6, 6.7, 6.8, 6.9, 7.0, 7.1, 7.2, 7.3, 7.4, 7.5, 7.6, 7.7, 7.8, 7.9, 8.0, 8.1, 8.2, 8.3, 8.4, 8.5, 8.6, 8.7, 8.8, 8.9, 9.0, 9.1, 9.2, 9.3, 9.4, 9.5, 9.6, 9.7, 9.8, 9.9],\n",
       "           class_weight=None, cv=5, dual=False, fit_intercept=True,\n",
       "           intercept_scaling=1.0, max_iter=100, multi_class='ovr',\n",
       "           n_jobs=1, penalty='l1', random_state=None, refit=True,\n",
       "           scoring='neg_log_loss', solver='liblinear', tol=0.0001,\n",
       "           verbose=0)"
      ]
     },
     "execution_count": 30,
     "metadata": {},
     "output_type": "execute_result"
    }
   ],
   "source": [
    "from sklearn.linear_model import LogisticRegressionCV\n",
    "\n",
    "#Cs = [1e-06, 1e-05, 0.0001, 0.001, 0.01, 0.1,1,10,100,1000]\n",
    "Cs=[i/10 for i in range(1,100)]\n",
    "# LogisticRegressionCV比GridSearchCV快\n",
    "lrcv_L1 = LogisticRegressionCV(Cs=Cs, cv = 5, scoring='neg_log_loss', penalty='l1', solver='liblinear')\n",
    "lrcv_L1.fit(X_train, y_train)    "
   ]
  },
  {
   "cell_type": "code",
   "execution_count": 31,
   "metadata": {
    "scrolled": true
   },
   "outputs": [
    {
     "data": {
      "text/plain": [
       "{0: array([[-0.28315036, -0.27677367, -0.28224789, -0.27943279, -0.27476398,\n",
       "         -0.27362478, -0.27350612, -0.27473198, -0.274424  , -0.27466628,\n",
       "         -0.28224883, -0.27722101, -0.27923827, -0.28113695, -0.2839096 ,\n",
       "         -0.28627463, -0.288545  , -0.29107023, -0.29437894, -0.29892599,\n",
       "         -0.29814703, -0.30190568, -0.30305868, -0.3050048 , -0.30719139,\n",
       "         -0.30915226, -0.31113706, -0.31320841, -0.31557381, -0.31706089,\n",
       "         -0.31874583, -0.32109725, -0.325404  , -0.32541969, -0.32846674,\n",
       "         -0.32980726, -0.33263749, -0.33564118, -0.33651302, -0.33926974,\n",
       "         -0.34004291, -0.3423762 , -0.34685097, -0.3467379 , -0.34839428,\n",
       "         -0.35054321, -0.35169222, -0.35372974, -0.35704471, -0.35559512,\n",
       "         -0.35960838, -0.36074846, -0.36005359, -0.36144918, -0.36310097,\n",
       "         -0.36748456, -0.36883973, -0.36998209, -0.37102039, -0.3732604 ,\n",
       "         -0.37145319, -0.37628108, -0.37779057, -0.37576302, -0.37802428,\n",
       "         -0.38062148, -0.3829548 , -0.3810021 , -0.38590266, -0.38754155,\n",
       "         -0.38804605, -0.38945847, -0.38644622, -0.39247835, -0.39284655,\n",
       "         -0.39411467, -0.39324282, -0.39604119, -0.39474635, -0.39495302,\n",
       "         -0.39421001, -0.40072096, -0.40046623, -0.39703468, -0.40439839,\n",
       "         -0.40536117, -0.4055359 , -0.40158867, -0.40656635, -0.40969652,\n",
       "         -0.4031565 , -0.41109019, -0.41163626, -0.40658454, -0.40801057,\n",
       "         -0.4120122 , -0.41004558, -0.41648391, -0.41111911],\n",
       "        [-0.25481018, -0.24994667, -0.24462168, -0.24532092, -0.2488165 ,\n",
       "         -0.2530207 , -0.25675449, -0.26008722, -0.26315777, -0.26551039,\n",
       "         -0.26619715, -0.27015163, -0.26999936, -0.26950939, -0.27134022,\n",
       "         -0.27645309, -0.27608015, -0.28105366, -0.2829492 , -0.28289444,\n",
       "         -0.28590486, -0.28887864, -0.29017077, -0.29144668, -0.28876074,\n",
       "         -0.29481572, -0.29471889, -0.29561265, -0.29714764, -0.29785283,\n",
       "         -0.29870925, -0.29557164, -0.30006912, -0.30027767, -0.29211863,\n",
       "         -0.30229859, -0.30249502, -0.30336884, -0.29360502, -0.30420815,\n",
       "         -0.30514773, -0.2981852 , -0.29656016, -0.30612513, -0.30681656,\n",
       "         -0.30212845, -0.29929238, -0.3079245 , -0.30813893, -0.30869396,\n",
       "         -0.30901226, -0.30937763, -0.30987547, -0.31029346, -0.31072568,\n",
       "         -0.302908  , -0.31181476, -0.31241803, -0.31323417, -0.3138871 ,\n",
       "         -0.31465844, -0.31539054, -0.31607376, -0.30624464, -0.3079476 ,\n",
       "         -0.30772132, -0.31871003, -0.31087167, -0.32025628, -0.3093947 ,\n",
       "         -0.31506513, -0.3221978 , -0.31065167, -0.3233942 , -0.32404661,\n",
       "         -0.3155403 , -0.32522556, -0.31606168, -0.32641871, -0.32693479,\n",
       "         -0.32752487, -0.32816275, -0.32873369, -0.32006057, -0.31797288,\n",
       "         -0.33030702, -0.33016229, -0.33136628, -0.33174698, -0.33229086,\n",
       "         -0.3327839 , -0.3333557 , -0.33373717, -0.3342314 , -0.33474324,\n",
       "         -0.32445696, -0.32619115, -0.33617238, -0.3365869 ],\n",
       "        [-0.34017798, -0.33521977, -0.33490695, -0.33245509, -0.33186197,\n",
       "         -0.33437742, -0.33714631, -0.3382799 , -0.33668396, -0.33865295,\n",
       "         -0.34310094, -0.3390631 , -0.34469039, -0.34159727, -0.34695077,\n",
       "         -0.34736025, -0.34842554, -0.35190002, -0.3541051 , -0.35348699,\n",
       "         -0.35440313, -0.35847739, -0.35224755, -0.35148668, -0.3647181 ,\n",
       "         -0.36487768, -0.3670071 , -0.37218324, -0.35780153, -0.37603149,\n",
       "         -0.37455689, -0.3758396 , -0.37854637, -0.37914096, -0.3845513 ,\n",
       "         -0.38461957, -0.38373379, -0.38473351, -0.38850811, -0.38624835,\n",
       "         -0.34140581, -0.3906929 , -0.3889556 , -0.39725972, -0.39175347,\n",
       "         -0.40042062, -0.36221309, -0.38312334, -0.39662288, -0.40032865,\n",
       "         -0.40493099, -0.3768033 , -0.40144507, -0.40311347, -0.35374371,\n",
       "         -0.41590473, -0.41274308, -0.41160705, -0.41963553, -0.39999703,\n",
       "         -0.41737334, -0.41426737, -0.42107621, -0.41797393, -0.40895139,\n",
       "         -0.38566832, -0.41171084, -0.41347557, -0.43068137, -0.42820254,\n",
       "         -0.42557687, -0.43154403, -0.43061809, -0.4344018 , -0.42722799,\n",
       "         -0.43546064, -0.43023913, -0.40776814, -0.43860035, -0.43919773,\n",
       "         -0.42148481, -0.37969604, -0.42555502, -0.44015659, -0.42242339,\n",
       "         -0.44213816, -0.43122288, -0.44078084, -0.43618178, -0.43774308,\n",
       "         -0.44608998, -0.44782791, -0.40841729, -0.43414989, -0.44431989,\n",
       "         -0.44498768, -0.45092171, -0.43831709, -0.44624956],\n",
       "        [-0.24576902, -0.24379236, -0.24861833, -0.25221955, -0.25214908,\n",
       "         -0.25056735, -0.25101839, -0.25395973, -0.25313273, -0.25261395,\n",
       "         -0.25453487, -0.25718499, -0.25803065, -0.25868559, -0.25689506,\n",
       "         -0.25772996, -0.26084798, -0.2627925 , -0.26116697, -0.25976119,\n",
       "         -0.26561373, -0.2674126 , -0.26652507, -0.26718738, -0.27069766,\n",
       "         -0.26735663, -0.2696334 , -0.27389902, -0.27432216, -0.27422384,\n",
       "         -0.27523451, -0.27513629, -0.27488396, -0.27627231, -0.277276  ,\n",
       "         -0.27568674, -0.27577361, -0.27824371, -0.27319629, -0.27945746,\n",
       "         -0.27852699, -0.28058829, -0.2813593 , -0.25335054, -0.28189879,\n",
       "         -0.28289092, -0.28322414, -0.28357506, -0.2842789 , -0.2842362 ,\n",
       "         -0.28527998, -0.28555546, -0.28549641, -0.28511183, -0.28621624,\n",
       "         -0.28777136, -0.28633811, -0.28824143, -0.28891275, -0.28863928,\n",
       "         -0.28988445, -0.26958504, -0.2901794 , -0.29054494, -0.2904246 ,\n",
       "         -0.29050485, -0.28824098, -0.29257465, -0.29273104, -0.29292057,\n",
       "         -0.29344333, -0.28607915, -0.29405369, -0.29235047, -0.29551664,\n",
       "         -0.29622254, -0.29294811, -0.29177196, -0.29415155, -0.29604616,\n",
       "         -0.29373769, -0.2979251 , -0.29847077, -0.26897361, -0.29490269,\n",
       "         -0.29922805, -0.29613498, -0.26369853, -0.2937418 , -0.29806892,\n",
       "         -0.30054393, -0.2972431 , -0.29591986, -0.2973175 , -0.30076253,\n",
       "         -0.30235146, -0.29811538, -0.30261519, -0.30284385],\n",
       "        [-0.2798611 , -0.27341841, -0.26767281, -0.26892227, -0.259979  ,\n",
       "         -0.25714066, -0.2552753 , -0.25522745, -0.25787834, -0.25854032,\n",
       "         -0.2557522 , -0.2588949 , -0.25547326, -0.25832711, -0.25446945,\n",
       "         -0.25292701, -0.25561295, -0.2540503 , -0.25436794, -0.24960894,\n",
       "         -0.25042305, -0.24954165, -0.2526872 , -0.24961056, -0.24946046,\n",
       "         -0.24936946, -0.25274135, -0.24879148, -0.25112675, -0.25287252,\n",
       "         -0.24722913, -0.25229257, -0.25267085, -0.2509407 , -0.24846977,\n",
       "         -0.25218524, -0.24876503, -0.24867258, -0.24870742, -0.2509007 ,\n",
       "         -0.25082899, -0.24829477, -0.25085091, -0.24986733, -0.24892905,\n",
       "         -0.2486719 , -0.24882692, -0.24914133, -0.25167038, -0.25042299,\n",
       "         -0.24871505, -0.25224862, -0.24852605, -0.24870498, -0.25080638,\n",
       "         -0.25004204, -0.24901071, -0.24762335, -0.25303405, -0.25314404,\n",
       "         -0.25024014, -0.2518866 , -0.25351392, -0.24835814, -0.2502275 ,\n",
       "         -0.25370151, -0.25320002, -0.25047476, -0.25390514, -0.25403224,\n",
       "         -0.25410361, -0.25108527, -0.25248237, -0.25436026, -0.2544262 ,\n",
       "         -0.25277912, -0.25445051, -0.25134959, -0.25103929, -0.25023775,\n",
       "         -0.25156038, -0.25339121, -0.25296341, -0.25129618, -0.25020331,\n",
       "         -0.25365219, -0.25527327, -0.25536522, -0.24989519, -0.25416908,\n",
       "         -0.25002199, -0.25568243, -0.25231078, -0.2522064 , -0.25212322,\n",
       "         -0.25045053, -0.25477154, -0.25558699, -0.2555456 ]]),\n",
       " 1: array([[-0.56869168, -0.56332562, -0.55954445, -0.56179402, -0.551609  ,\n",
       "         -0.54417388, -0.54002274, -0.53661405, -0.53189742, -0.53241151,\n",
       "         -0.52451589, -0.53197765, -0.52735798, -0.53047514, -0.526453  ,\n",
       "         -0.52409072, -0.52625563, -0.52130838, -0.52392931, -0.52368177,\n",
       "         -0.52178895, -0.51245472, -0.5253627 , -0.51662139, -0.5133003 ,\n",
       "         -0.52221214, -0.51253776, -0.51479784, -0.52057029, -0.52032578,\n",
       "         -0.522239  , -0.51572218, -0.5253216 , -0.52558787, -0.5089367 ,\n",
       "         -0.4967176 , -0.52436977, -0.5160194 , -0.50932592, -0.51299528,\n",
       "         -0.51621513, -0.52768016, -0.48924164, -0.53314038, -0.52058233,\n",
       "         -0.52900642, -0.52148464, -0.50458663, -0.5328178 , -0.52564908,\n",
       "         -0.5227798 , -0.49519693, -0.52283206, -0.5296947 , -0.5228111 ,\n",
       "         -0.52499134, -0.5233679 , -0.52180646, -0.53382496, -0.51746787,\n",
       "         -0.52809919, -0.53546442, -0.52289231, -0.50868068, -0.53457686,\n",
       "         -0.5266706 , -0.52432535, -0.54600019, -0.51389583, -0.53928753,\n",
       "         -0.53871593, -0.52494634, -0.50825971, -0.52638551, -0.5316579 ,\n",
       "         -0.52765807, -0.54067357, -0.50493799, -0.52813197, -0.52470466,\n",
       "         -0.55324068, -0.53209432, -0.53723254, -0.50602137, -0.54286351,\n",
       "         -0.52988038, -0.53264792, -0.55210997, -0.54720823, -0.50975604,\n",
       "         -0.51879649, -0.55108583, -0.5533322 , -0.5268826 , -0.51437777,\n",
       "         -0.55000146, -0.51319504, -0.51400692, -0.51357919],\n",
       "        [-0.57230178, -0.57449733, -0.579524  , -0.58092574, -0.57947524,\n",
       "         -0.58200051, -0.585532  , -0.59010332, -0.59505269, -0.59940385,\n",
       "         -0.60366855, -0.60908192, -0.61474612, -0.62032305, -0.62580958,\n",
       "         -0.61751166, -0.63846383, -0.64585944, -0.6528461 , -0.65849169,\n",
       "         -0.66385622, -0.66772205, -0.67350839, -0.67731205, -0.68228567,\n",
       "         -0.68599033, -0.68938499, -0.69157415, -0.6958761 , -0.69907267,\n",
       "         -0.70090267, -0.70368648, -0.70761612, -0.70863335, -0.71201211,\n",
       "         -0.7125547 , -0.71454906, -0.6835332 , -0.71669616, -0.71934199,\n",
       "         -0.7212338 , -0.72306115, -0.72441417, -0.7257098 , -0.71943281,\n",
       "         -0.70835414, -0.71693155, -0.70621694, -0.7242059 , -0.73381299,\n",
       "         -0.73295473, -0.72586798, -0.73634968, -0.7296146 , -0.72904463,\n",
       "         -0.73821115, -0.73941484, -0.74209283, -0.74283045, -0.74129223,\n",
       "         -0.74219382, -0.74398497, -0.74310862, -0.74576461, -0.74525058,\n",
       "         -0.74683609, -0.74771821, -0.74760712, -0.74717939, -0.7487777 ,\n",
       "         -0.7495348 , -0.75025044, -0.75129217, -0.74836702, -0.75229554,\n",
       "         -0.7523635 , -0.7498688 , -0.75534913, -0.75391574, -0.75453974,\n",
       "         -0.7458419 , -0.75139074, -0.75825442, -0.75889384, -0.75908827,\n",
       "         -0.75747255, -0.75754438, -0.69961466, -0.75685007, -0.76016132,\n",
       "         -0.75933529, -0.76050519, -0.75585586, -0.75760743, -0.76151184,\n",
       "         -0.7618032 , -0.76207571, -0.7622966 , -0.76301351],\n",
       "        [-0.49824406, -0.50129684, -0.50457011, -0.50513425, -0.50496868,\n",
       "         -0.50573413, -0.50755979, -0.50879464, -0.5137196 , -0.5150366 ,\n",
       "         -0.5143868 , -0.51755676, -0.52385704, -0.52865532, -0.52614773,\n",
       "         -0.53098662, -0.53508195, -0.53427668, -0.53248987, -0.54029571,\n",
       "         -0.53983284, -0.54467464, -0.54492229, -0.54233571, -0.55005165,\n",
       "         -0.54783132, -0.55069954, -0.55641197, -0.55826446, -0.5568225 ,\n",
       "         -0.56291273, -0.567474  , -0.5643183 , -0.56787736, -0.5652885 ,\n",
       "         -0.57138018, -0.56399176, -0.56900677, -0.57214123, -0.57245231,\n",
       "         -0.57153945, -0.57644766, -0.57099268, -0.57497197, -0.57834563,\n",
       "         -0.58307684, -0.59059354, -0.58866784, -0.58218329, -0.5829413 ,\n",
       "         -0.58828321, -0.58897921, -0.59033499, -0.59193264, -0.5915419 ,\n",
       "         -0.59077937, -0.59479947, -0.6037797 , -0.596444  , -0.59364169,\n",
       "         -0.60321734, -0.59622655, -0.60037679, -0.59276618, -0.59767861,\n",
       "         -0.59673132, -0.59678551, -0.59530695, -0.59875519, -0.6150656 ,\n",
       "         -0.60627172, -0.60067939, -0.60518239, -0.60065566, -0.60079337,\n",
       "         -0.60505666, -0.61802891, -0.60341404, -0.61041574, -0.60912282,\n",
       "         -0.61212035, -0.61474366, -0.61253593, -0.60769575, -0.60186696,\n",
       "         -0.60613843, -0.61040485, -0.62349544, -0.61311828, -0.62846829,\n",
       "         -0.61112341, -0.61377991, -0.62030888, -0.6228917 , -0.61418276,\n",
       "         -0.62942548, -0.61358383, -0.61209894, -0.62335617],\n",
       "        [-0.51390046, -0.51414584, -0.51627193, -0.51770292, -0.52680038,\n",
       "         -0.53626471, -0.54665271, -0.5554369 , -0.56511466, -0.57294485,\n",
       "         -0.58305318, -0.59087497, -0.59709391, -0.60496202, -0.61089658,\n",
       "         -0.61718497, -0.61898031, -0.62635098, -0.63024916, -0.63382261,\n",
       "         -0.63761534, -0.64101344, -0.64268178, -0.64735529, -0.64893099,\n",
       "         -0.6519914 , -0.65682167, -0.65821264, -0.6623901 , -0.66539356,\n",
       "         -0.66785443, -0.67072186, -0.6728932 , -0.67753997, -0.67805652,\n",
       "         -0.68064312, -0.68203689, -0.68429865, -0.68471665, -0.68952709,\n",
       "         -0.69167858, -0.69377716, -0.69419735, -0.6958511 , -0.69693801,\n",
       "         -0.69959013, -0.70215944, -0.70501264, -0.70649126, -0.70641415,\n",
       "         -0.70797026, -0.71083803, -0.71367668, -0.71483332, -0.71711865,\n",
       "         -0.71890106, -0.72109592, -0.72214112, -0.72388952, -0.72147379,\n",
       "         -0.72602942, -0.72832827, -0.72972172, -0.72998976, -0.73271731,\n",
       "         -0.73248966, -0.7335577 , -0.73686385, -0.73817184, -0.73872939,\n",
       "         -0.74068588, -0.74228158, -0.74134587, -0.74273444, -0.7454737 ,\n",
       "         -0.7441943 , -0.74779227, -0.7482234 , -0.75012174, -0.75138167,\n",
       "         -0.75070607, -0.75342852, -0.75288648, -0.75542863, -0.75739083,\n",
       "         -0.75431802, -0.7587627 , -0.75773487, -0.75951558, -0.76002421,\n",
       "         -0.76307827, -0.76299727, -0.76452628, -0.76502531, -0.76458657,\n",
       "         -0.76740118, -0.76813063, -0.76862618, -0.76806422],\n",
       "        [-0.52622779, -0.52637462, -0.52887311, -0.52537936, -0.51948361,\n",
       "         -0.51993186, -0.51801452, -0.51945112, -0.51881475, -0.51991014,\n",
       "         -0.51691235, -0.51612315, -0.5184615 , -0.51930929, -0.51993545,\n",
       "         -0.51811201, -0.52133818, -0.52230406, -0.5229399 , -0.5248918 ,\n",
       "         -0.52665893, -0.52827195, -0.52765708, -0.53232165, -0.53457332,\n",
       "         -0.53661386, -0.53620738, -0.54018396, -0.54177437, -0.54348813,\n",
       "         -0.54497758, -0.54315754, -0.54698888, -0.54932254, -0.5505417 ,\n",
       "         -0.54879746, -0.55062466, -0.5534132 , -0.55552259, -0.55641518,\n",
       "         -0.55756244, -0.55859182, -0.55575871, -0.56044314, -0.55915243,\n",
       "         -0.55525835, -0.56307651, -0.56392391, -0.56469619, -0.56552232,\n",
       "         -0.5663013 , -0.56697276, -0.56770749, -0.56786092, -0.56251866,\n",
       "         -0.56802148, -0.56882384, -0.56970633, -0.56565696, -0.57216918,\n",
       "         -0.5726865 , -0.57191342, -0.57380673, -0.56909837, -0.57206409,\n",
       "         -0.57534151, -0.57584271, -0.56923307, -0.57685682, -0.57639016,\n",
       "         -0.57765955, -0.57482186, -0.57852841, -0.57560655, -0.57931017,\n",
       "         -0.57967251, -0.56671314, -0.57495399, -0.57492454, -0.58117381,\n",
       "         -0.58035435, -0.57872015, -0.58098165, -0.58242312, -0.58138457,\n",
       "         -0.58316756, -0.57481707, -0.5836073 , -0.58285988, -0.58419296,\n",
       "         -0.5835433 , -0.58372766, -0.58410525, -0.58434173, -0.58552318,\n",
       "         -0.58585613, -0.586062  , -0.58238366, -0.58655709]]),\n",
       " 2: array([[-0.54736825, -0.55054212, -0.54835156, -0.53503031, -0.53442642,\n",
       "         -0.52846114, -0.53084237, -0.52324181, -0.52808641, -0.52687706,\n",
       "         -0.52698107, -0.52731054, -0.52788452, -0.52852774, -0.53265308,\n",
       "         -0.53605012, -0.53767303, -0.54080516, -0.54109536, -0.54364507,\n",
       "         -0.54266634, -0.55155018, -0.5514325 , -0.55513294, -0.54664835,\n",
       "         -0.54928365, -0.55324855, -0.54933765, -0.54761341, -0.5506218 ,\n",
       "         -0.55072203, -0.55699092, -0.55336839, -0.5505938 , -0.52401802,\n",
       "         -0.55245168, -0.55892086, -0.53879728, -0.53485747, -0.55268248,\n",
       "         -0.55327462, -0.55198393, -0.5581648 , -0.55052919, -0.53483609,\n",
       "         -0.54861374, -0.54867353, -0.553211  , -0.55419298, -0.55121761,\n",
       "         -0.54387029, -0.54359966, -0.54469659, -0.54620931, -0.52896412,\n",
       "         -0.54418509, -0.55006668, -0.53932723, -0.54450451, -0.53967722,\n",
       "         -0.54184584, -0.53945426, -0.5292587 , -0.53884011, -0.51930001,\n",
       "         -0.52009773, -0.52142129, -0.53631043, -0.54947358, -0.5454876 ,\n",
       "         -0.53875632, -0.54383127, -0.54319768, -0.52631689, -0.53869818,\n",
       "         -0.55390685, -0.5452034 , -0.54746062, -0.5409594 , -0.54454573,\n",
       "         -0.54052647, -0.55002186, -0.53856035, -0.54300221, -0.54474463,\n",
       "         -0.5397333 , -0.54896931, -0.55297411, -0.55154876, -0.55141873,\n",
       "         -0.55345563, -0.5356768 , -0.54535932, -0.54717952, -0.54699615,\n",
       "         -0.55231702, -0.5402251 , -0.54834686, -0.55404495],\n",
       "        [-0.5837316 , -0.58759109, -0.5818815 , -0.57664928, -0.57545035,\n",
       "         -0.57640252, -0.57986868, -0.58603896, -0.59088204, -0.59712619,\n",
       "         -0.60330036, -0.60968005, -0.6126267 , -0.61969891, -0.62577803,\n",
       "         -0.6308308 , -0.63241248, -0.64061725, -0.64245797, -0.64840519,\n",
       "         -0.65171361, -0.65395986, -0.65801632, -0.65947536, -0.66289502,\n",
       "         -0.65233485, -0.66844411, -0.66964125, -0.6715525 , -0.67589365,\n",
       "         -0.67827117, -0.6804705 , -0.67202193, -0.6844902 , -0.68746101,\n",
       "         -0.68846575, -0.69032486, -0.69208307, -0.69374712, -0.69569068,\n",
       "         -0.69747282, -0.69697962, -0.69990786, -0.68963871, -0.7034377 ,\n",
       "         -0.70503004, -0.70547721, -0.69660556, -0.70857987, -0.70829471,\n",
       "         -0.70955236, -0.68986674, -0.70924182, -0.71312522, -0.71360934,\n",
       "         -0.69906052, -0.71528147, -0.71578643, -0.71652999, -0.71692537,\n",
       "         -0.7177079 , -0.71634644, -0.71702546, -0.69808312, -0.67862062,\n",
       "         -0.72090082, -0.7073767 , -0.7220916 , -0.72094865, -0.72316467,\n",
       "         -0.72490139, -0.72461843, -0.72272317, -0.72382702, -0.72430747,\n",
       "         -0.72663572, -0.72721502, -0.7270253 , -0.70733425, -0.72850309,\n",
       "         -0.72954571, -0.7109147 , -0.7282333 , -0.72905531, -0.7301247 ,\n",
       "         -0.7308795 , -0.7183667 , -0.73089971, -0.71563725, -0.73159933,\n",
       "         -0.73392993, -0.73300761, -0.73445948, -0.73371452, -0.7245352 ,\n",
       "         -0.73378604, -0.73608891, -0.72493929, -0.73647939],\n",
       "        [-0.55075367, -0.55345709, -0.57323046, -0.57732286, -0.57858781,\n",
       "         -0.58071769, -0.58274775, -0.58770736, -0.58585242, -0.59634352,\n",
       "         -0.60293952, -0.61379475, -0.6191365 , -0.62120502, -0.6365229 ,\n",
       "         -0.63325507, -0.63904907, -0.64694096, -0.65180141, -0.64129496,\n",
       "         -0.66194259, -0.67301459, -0.67244792, -0.66692943, -0.67972087,\n",
       "         -0.68621521, -0.69035931, -0.69914708, -0.70185047, -0.70312131,\n",
       "         -0.70657753, -0.71114452, -0.71308742, -0.71905903, -0.71803973,\n",
       "         -0.72290557, -0.72638616, -0.72829128, -0.73273754, -0.72074717,\n",
       "         -0.73744535, -0.73755394, -0.73789576, -0.74001393, -0.7446576 ,\n",
       "         -0.74705774, -0.75080151, -0.75437484, -0.74749445, -0.75392111,\n",
       "         -0.749573  , -0.75010675, -0.75539203, -0.75200409, -0.75783492,\n",
       "         -0.75137668, -0.75788001, -0.75768334, -0.75140909, -0.76668826,\n",
       "         -0.77384635, -0.7706657 , -0.76863513, -0.76883457, -0.77263967,\n",
       "         -0.75984282, -0.77418242, -0.77217891, -0.77263858, -0.76650951,\n",
       "         -0.77159526, -0.76586727, -0.76137703, -0.77565401, -0.77251028,\n",
       "         -0.78749527, -0.77482672, -0.78148153, -0.77754764, -0.78202667,\n",
       "         -0.7816735 , -0.77743722, -0.76492439, -0.78877909, -0.76662598,\n",
       "         -0.78134712, -0.78638309, -0.77716953, -0.77923565, -0.80478364,\n",
       "         -0.79461205, -0.79400014, -0.79430219, -0.79530703, -0.79822393,\n",
       "         -0.79629927, -0.79130752, -0.80641981, -0.79234446],\n",
       "        [-0.52540553, -0.52599981, -0.52855272, -0.52617706, -0.52045277,\n",
       "         -0.51776349, -0.5202662 , -0.52033207, -0.5212414 , -0.52282865,\n",
       "         -0.52469581, -0.52646645, -0.52921016, -0.5306997 , -0.53377731,\n",
       "         -0.5354889 , -0.5377007 , -0.53852441, -0.53947845, -0.5408327 ,\n",
       "         -0.54061805, -0.54146076, -0.5415987 , -0.54143714, -0.54215387,\n",
       "         -0.54265286, -0.5431347 , -0.54360077, -0.54300666, -0.54313541,\n",
       "         -0.54538392, -0.54626308, -0.54472812, -0.5471695 , -0.54757871,\n",
       "         -0.54825473, -0.54629942, -0.5491141 , -0.54930532, -0.54917974,\n",
       "         -0.54937009, -0.54961466, -0.55035925, -0.55011996, -0.55050824,\n",
       "         -0.55117563, -0.54963831, -0.55173132, -0.55195285, -0.54993507,\n",
       "         -0.55226625, -0.55268475, -0.55254571, -0.54940653, -0.5522347 ,\n",
       "         -0.55015061, -0.55208173, -0.55205524, -0.55206606, -0.55174141,\n",
       "         -0.5517521 , -0.55090835, -0.5483275 , -0.5506446 , -0.55140679,\n",
       "         -0.55132916, -0.55147327, -0.55167536, -0.5501991 , -0.55191564,\n",
       "         -0.55178857, -0.55138872, -0.55115593, -0.55129249, -0.55058175,\n",
       "         -0.55182542, -0.55204874, -0.55141347, -0.55017727, -0.55203126,\n",
       "         -0.55037563, -0.55240006, -0.55223985, -0.55162289, -0.54821193,\n",
       "         -0.54890285, -0.55197929, -0.55210544, -0.55317506, -0.55198354,\n",
       "         -0.5522127 , -0.55258907, -0.55201156, -0.55172038, -0.5506939 ,\n",
       "         -0.55318297, -0.55352521, -0.55350906, -0.5524328 ],\n",
       "        [-0.59073683, -0.59287959, -0.58840026, -0.58390421, -0.58481914,\n",
       "         -0.58270774, -0.582699  , -0.58113958, -0.58046765, -0.58201541,\n",
       "         -0.58092645, -0.58909944, -0.59347652, -0.59795278, -0.60257134,\n",
       "         -0.60552797, -0.60721336, -0.61061262, -0.60552956, -0.60834711,\n",
       "         -0.61242441, -0.6177805 , -0.62056246, -0.61374284, -0.62380428,\n",
       "         -0.62536339, -0.61783273, -0.62761077, -0.62884459, -0.62599053,\n",
       "         -0.63089945, -0.62481212, -0.63269803, -0.63405661, -0.63513205,\n",
       "         -0.63628222, -0.63743961, -0.63874998, -0.64021673, -0.641309  ,\n",
       "         -0.63038981, -0.64109892, -0.64517365, -0.64577025, -0.63912272,\n",
       "         -0.6329974 , -0.63996408, -0.64777693, -0.63481205, -0.64969383,\n",
       "         -0.65248148, -0.6415681 , -0.65392406, -0.65521387, -0.64737811,\n",
       "         -0.65602079, -0.65663586, -0.65724388, -0.65694787, -0.64484569,\n",
       "         -0.65969013, -0.65838923, -0.66014848, -0.66053519, -0.64899099,\n",
       "         -0.66063179, -0.66203572, -0.663016  , -0.663283  , -0.66266801,\n",
       "         -0.66559336, -0.66468954, -0.65442632, -0.66677996, -0.66623248,\n",
       "         -0.66623002, -0.66421595, -0.66739781, -0.66862669, -0.658371  ,\n",
       "         -0.66131318, -0.66881047, -0.65517732, -0.67082396, -0.66999673,\n",
       "         -0.6703559 , -0.65006774, -0.67106661, -0.6719858 , -0.6659432 ,\n",
       "         -0.67187955, -0.67188383, -0.67334501, -0.66880111, -0.67363305,\n",
       "         -0.6734215 , -0.67499114, -0.66979066, -0.6684099 ]])}"
      ]
     },
     "execution_count": 31,
     "metadata": {},
     "output_type": "execute_result"
    }
   ],
   "source": [
    "lrcv_L1.scores_"
   ]
  },
  {
   "cell_type": "code",
   "execution_count": 32,
   "metadata": {},
   "outputs": [
    {
     "name": "stdout",
     "output_type": "stream",
     "text": [
      "[-0.53587315 -0.53592805 -0.53775672 -0.53818725 -0.53646738 -0.53762102\n",
      " -0.53955635 -0.54208001 -0.54491982 -0.54794139 -0.54850736 -0.55312289\n",
      " -0.55630331 -0.56074496 -0.56184847 -0.5615772  -0.56802398 -0.57001991\n",
      " -0.57249087 -0.57623672 -0.57795046 -0.57882736 -0.58282645 -0.58318922\n",
      " -0.58582839 -0.58892781 -0.58913027 -0.59223611 -0.59577506 -0.59702053\n",
      " -0.59977728 -0.60015241 -0.60342762 -0.60579222 -0.60296711 -0.60201861\n",
      " -0.60711443 -0.60125424 -0.60768051 -0.61014637 -0.61164588 -0.61591159\n",
      " -0.60692091 -0.61802328 -0.61489024 -0.61505718 -0.61884914 -0.61368159\n",
      " -0.62207889 -0.62286797 -0.62365786 -0.61757098 -0.62618018 -0.62678724\n",
      " -0.62460699 -0.62818088 -0.62950039 -0.63190529 -0.63252918 -0.62920895\n",
      " -0.63444525 -0.63518352 -0.63398123 -0.62925992 -0.63645749 -0.63561383\n",
      " -0.6356459  -0.63900224 -0.63497182 -0.64365008 -0.64257358 -0.63859592\n",
      " -0.63692171 -0.63874983 -0.64190614 -0.64178901 -0.64461534 -0.63737571\n",
      " -0.64350195 -0.64418454 -0.64845267 -0.64607548 -0.6483782  -0.64209254\n",
      " -0.64851883 -0.64619539 -0.64683539 -0.64331244 -0.65191041 -0.64852056\n",
      " -0.64717535 -0.65441917 -0.65562569 -0.65134975 -0.64803643 -0.65889749\n",
      " -0.64860944 -0.64788246 -0.65091404]\n"
     ]
    },
    {
     "data": {
      "image/png": "[encoded data removed]",
      "text/plain": [
       "<matplotlib.figure.Figure at 0x301778d0>"
      ]
     },
     "metadata": {},
     "output_type": "display_data"
    }
   ],
   "source": [
    "# dict with classes as the keys, and the values as the grid of scores obtained during cross-validating each fold,\n",
    "# Each dict value has shape (n_folds, len(Cs))\n",
    "n_Cs = len(Cs)\n",
    "n_classes = 3\n",
    "scores =  np.zeros((n_classes,n_Cs))\n",
    "print(np.mean(lrcv_L1.scores_[1],axis = 0))\n",
    "for j in range(n_classes):\n",
    "    scores[j][:] = np.mean(lrcv_L1.scores_[j],axis = 0)\n",
    "    \n",
    "mse_mean = np.mean(scores, axis = 0)\n",
    "plt.plot(np.log10(Cs), mse_mean.reshape(n_Cs,1)) \n",
    "#plt.plot(np.log10(reg.Cs)*np.ones(3), [0.28, 0.29, 0.30])\n",
    "plt.xlabel('log(C)')\n",
    "plt.ylabel('neg-logloss')\n",
    "plt.show()\n",
    "\n",
    "#print ('C is:',lr_cv.C_)  #对多类分类问题，每个类别的分类器有一个C"
   ]
  },
  {
   "cell_type": "code",
   "execution_count": 33,
   "metadata": {
    "scrolled": true
   },
   "outputs": [
    {
     "data": {
      "text/plain": [
       "array([[ 0.00000000e+00,  5.00800483e-01,  0.00000000e+00,\n",
       "         0.00000000e+00, -8.88914767e-04, -9.57251506e-02,\n",
       "        -4.68696169e-02,  5.85329186e-03,  1.30309739e-04,\n",
       "         0.00000000e+00, -2.95246453e-02,  3.90704268e-02,\n",
       "         3.56097184e-08, -1.52677496e-03, -1.09208569e-03,\n",
       "         1.35824354e-03, -8.79745845e-04,  0.00000000e+00,\n",
       "         0.00000000e+00,  0.00000000e+00,  0.00000000e+00,\n",
       "         0.00000000e+00,  0.00000000e+00,  0.00000000e+00,\n",
       "         0.00000000e+00,  0.00000000e+00,  0.00000000e+00,\n",
       "         0.00000000e+00,  0.00000000e+00,  0.00000000e+00,\n",
       "         0.00000000e+00,  0.00000000e+00,  0.00000000e+00,\n",
       "         0.00000000e+00,  0.00000000e+00,  0.00000000e+00,\n",
       "         0.00000000e+00,  0.00000000e+00,  0.00000000e+00,\n",
       "         0.00000000e+00,  0.00000000e+00,  0.00000000e+00,\n",
       "         0.00000000e+00,  0.00000000e+00,  0.00000000e+00,\n",
       "         0.00000000e+00,  0.00000000e+00,  0.00000000e+00,\n",
       "         0.00000000e+00, -5.86668846e-03, -1.15388667e-01,\n",
       "         0.00000000e+00,  0.00000000e+00,  0.00000000e+00,\n",
       "         0.00000000e+00,  0.00000000e+00,  0.00000000e+00,\n",
       "         0.00000000e+00,  0.00000000e+00,  0.00000000e+00,\n",
       "         0.00000000e+00,  0.00000000e+00,  1.43760406e+00,\n",
       "         0.00000000e+00,  0.00000000e+00,  0.00000000e+00,\n",
       "         0.00000000e+00,  0.00000000e+00,  0.00000000e+00,\n",
       "         0.00000000e+00,  0.00000000e+00,  0.00000000e+00,\n",
       "         0.00000000e+00,  0.00000000e+00,  0.00000000e+00,\n",
       "         0.00000000e+00,  0.00000000e+00,  0.00000000e+00,\n",
       "         8.80862065e-01,  0.00000000e+00,  0.00000000e+00,\n",
       "         0.00000000e+00,  0.00000000e+00,  0.00000000e+00,\n",
       "         0.00000000e+00,  0.00000000e+00,  0.00000000e+00,\n",
       "         0.00000000e+00,  0.00000000e+00,  0.00000000e+00,\n",
       "         0.00000000e+00,  0.00000000e+00,  0.00000000e+00,\n",
       "         0.00000000e+00,  0.00000000e+00,  0.00000000e+00,\n",
       "         0.00000000e+00,  0.00000000e+00,  0.00000000e+00,\n",
       "         0.00000000e+00,  0.00000000e+00,  0.00000000e+00,\n",
       "         0.00000000e+00,  0.00000000e+00,  0.00000000e+00,\n",
       "         0.00000000e+00,  0.00000000e+00,  0.00000000e+00,\n",
       "         0.00000000e+00,  0.00000000e+00,  0.00000000e+00,\n",
       "         0.00000000e+00,  0.00000000e+00,  0.00000000e+00,\n",
       "         0.00000000e+00,  0.00000000e+00,  0.00000000e+00,\n",
       "         0.00000000e+00,  0.00000000e+00,  0.00000000e+00,\n",
       "         0.00000000e+00,  0.00000000e+00,  0.00000000e+00,\n",
       "         0.00000000e+00,  0.00000000e+00,  0.00000000e+00,\n",
       "         0.00000000e+00,  0.00000000e+00,  0.00000000e+00,\n",
       "         0.00000000e+00,  0.00000000e+00,  0.00000000e+00,\n",
       "         0.00000000e+00,  0.00000000e+00,  0.00000000e+00,\n",
       "         0.00000000e+00,  0.00000000e+00,  0.00000000e+00,\n",
       "         0.00000000e+00,  0.00000000e+00],\n",
       "       [ 0.00000000e+00,  1.27547121e-01, -4.04428521e-03,\n",
       "         2.05869790e-03, -3.46148002e-04,  4.52329471e-02,\n",
       "         4.55255688e-03,  4.41288748e-03, -2.69013691e-04,\n",
       "         0.00000000e+00,  1.51327576e-03,  6.89996924e-02,\n",
       "        -2.36265288e-08, -9.08161415e-04, -1.78808055e-04,\n",
       "         6.50907225e-04,  2.31228601e-05,  0.00000000e+00,\n",
       "         0.00000000e+00,  0.00000000e+00,  0.00000000e+00,\n",
       "         0.00000000e+00,  0.00000000e+00,  0.00000000e+00,\n",
       "         0.00000000e+00,  0.00000000e+00,  0.00000000e+00,\n",
       "         0.00000000e+00,  0.00000000e+00,  0.00000000e+00,\n",
       "         0.00000000e+00,  0.00000000e+00,  0.00000000e+00,\n",
       "         0.00000000e+00,  0.00000000e+00,  0.00000000e+00,\n",
       "         0.00000000e+00,  0.00000000e+00,  0.00000000e+00,\n",
       "         0.00000000e+00,  0.00000000e+00,  0.00000000e+00,\n",
       "         0.00000000e+00,  0.00000000e+00,  0.00000000e+00,\n",
       "         0.00000000e+00,  0.00000000e+00,  0.00000000e+00,\n",
       "         0.00000000e+00,  0.00000000e+00,  0.00000000e+00,\n",
       "         0.00000000e+00,  0.00000000e+00,  0.00000000e+00,\n",
       "         0.00000000e+00,  0.00000000e+00,  0.00000000e+00,\n",
       "         0.00000000e+00,  0.00000000e+00,  0.00000000e+00,\n",
       "         0.00000000e+00,  0.00000000e+00,  0.00000000e+00,\n",
       "         0.00000000e+00,  0.00000000e+00,  0.00000000e+00,\n",
       "         0.00000000e+00,  0.00000000e+00,  0.00000000e+00,\n",
       "         0.00000000e+00,  0.00000000e+00,  0.00000000e+00,\n",
       "         0.00000000e+00,  0.00000000e+00,  0.00000000e+00,\n",
       "         0.00000000e+00,  0.00000000e+00,  0.00000000e+00,\n",
       "         0.00000000e+00,  0.00000000e+00,  0.00000000e+00,\n",
       "         0.00000000e+00,  0.00000000e+00,  0.00000000e+00,\n",
       "         0.00000000e+00,  0.00000000e+00,  0.00000000e+00,\n",
       "         0.00000000e+00,  0.00000000e+00,  0.00000000e+00,\n",
       "         0.00000000e+00,  0.00000000e+00,  0.00000000e+00,\n",
       "         0.00000000e+00,  0.00000000e+00,  0.00000000e+00,\n",
       "         0.00000000e+00,  0.00000000e+00,  0.00000000e+00,\n",
       "         0.00000000e+00,  0.00000000e+00,  0.00000000e+00,\n",
       "         0.00000000e+00,  0.00000000e+00,  0.00000000e+00,\n",
       "         0.00000000e+00,  0.00000000e+00,  0.00000000e+00,\n",
       "         0.00000000e+00,  0.00000000e+00,  0.00000000e+00,\n",
       "         0.00000000e+00,  0.00000000e+00,  0.00000000e+00,\n",
       "         0.00000000e+00,  0.00000000e+00,  0.00000000e+00,\n",
       "         0.00000000e+00,  0.00000000e+00,  0.00000000e+00,\n",
       "         0.00000000e+00,  0.00000000e+00,  0.00000000e+00,\n",
       "         0.00000000e+00,  0.00000000e+00,  0.00000000e+00,\n",
       "         0.00000000e+00,  0.00000000e+00,  0.00000000e+00,\n",
       "         0.00000000e+00,  0.00000000e+00,  0.00000000e+00,\n",
       "         0.00000000e+00,  0.00000000e+00,  0.00000000e+00,\n",
       "         0.00000000e+00,  0.00000000e+00,  0.00000000e+00,\n",
       "         0.00000000e+00,  0.00000000e+00],\n",
       "       [-2.72760142e-01, -6.32806007e-01,  0.00000000e+00,\n",
       "         0.00000000e+00,  9.35994342e-04, -3.06106663e-02,\n",
       "         8.60930598e-03, -6.28730254e-03, -1.59648175e-03,\n",
       "        -1.90817655e-04,  1.05935517e-02, -1.05773884e-01,\n",
       "         4.03308265e-07,  1.23981961e-03,  7.12310267e-04,\n",
       "        -9.37424743e-04,  3.08883484e-04,  0.00000000e+00,\n",
       "         0.00000000e+00,  0.00000000e+00,  0.00000000e+00,\n",
       "         0.00000000e+00,  0.00000000e+00,  0.00000000e+00,\n",
       "         0.00000000e+00,  0.00000000e+00,  0.00000000e+00,\n",
       "         0.00000000e+00,  0.00000000e+00,  0.00000000e+00,\n",
       "         0.00000000e+00,  0.00000000e+00,  0.00000000e+00,\n",
       "         0.00000000e+00,  0.00000000e+00,  0.00000000e+00,\n",
       "         0.00000000e+00,  0.00000000e+00,  0.00000000e+00,\n",
       "         0.00000000e+00,  0.00000000e+00,  0.00000000e+00,\n",
       "         0.00000000e+00,  0.00000000e+00,  0.00000000e+00,\n",
       "         0.00000000e+00,  0.00000000e+00,  4.76027537e-01,\n",
       "        -1.42779145e-01,  1.05392618e-01,  0.00000000e+00,\n",
       "         0.00000000e+00,  0.00000000e+00,  0.00000000e+00,\n",
       "         0.00000000e+00,  0.00000000e+00,  0.00000000e+00,\n",
       "         0.00000000e+00,  0.00000000e+00,  2.50359591e-01,\n",
       "         0.00000000e+00,  0.00000000e+00, -1.20008851e+00,\n",
       "         0.00000000e+00,  0.00000000e+00,  0.00000000e+00,\n",
       "        -1.14708437e-01,  0.00000000e+00, -7.65706327e-01,\n",
       "         0.00000000e+00,  0.00000000e+00,  0.00000000e+00,\n",
       "         0.00000000e+00,  0.00000000e+00,  0.00000000e+00,\n",
       "         0.00000000e+00,  0.00000000e+00,  0.00000000e+00,\n",
       "         9.82553174e-02,  0.00000000e+00,  0.00000000e+00,\n",
       "         0.00000000e+00,  0.00000000e+00,  0.00000000e+00,\n",
       "         0.00000000e+00,  0.00000000e+00,  0.00000000e+00,\n",
       "         0.00000000e+00,  0.00000000e+00,  0.00000000e+00,\n",
       "         0.00000000e+00,  0.00000000e+00, -3.40600928e-01,\n",
       "         0.00000000e+00,  0.00000000e+00,  0.00000000e+00,\n",
       "        -3.38935759e-01,  0.00000000e+00,  0.00000000e+00,\n",
       "         0.00000000e+00,  0.00000000e+00,  0.00000000e+00,\n",
       "         0.00000000e+00,  0.00000000e+00,  1.19898377e-02,\n",
       "         0.00000000e+00,  0.00000000e+00,  0.00000000e+00,\n",
       "         0.00000000e+00,  0.00000000e+00,  0.00000000e+00,\n",
       "         0.00000000e+00,  0.00000000e+00,  0.00000000e+00,\n",
       "         0.00000000e+00,  0.00000000e+00,  0.00000000e+00,\n",
       "         0.00000000e+00,  0.00000000e+00,  1.63533167e+00,\n",
       "         0.00000000e+00,  0.00000000e+00,  0.00000000e+00,\n",
       "         0.00000000e+00,  0.00000000e+00,  0.00000000e+00,\n",
       "         0.00000000e+00,  0.00000000e+00,  0.00000000e+00,\n",
       "        -2.30095248e-01,  0.00000000e+00,  0.00000000e+00,\n",
       "         0.00000000e+00,  0.00000000e+00,  0.00000000e+00,\n",
       "         1.49335846e-02,  0.00000000e+00,  0.00000000e+00,\n",
       "         0.00000000e+00,  0.00000000e+00]])"
      ]
     },
     "execution_count": 33,
     "metadata": {},
     "output_type": "execute_result"
    }
   ],
   "source": [
    "lrcv_L1.coef_"
   ]
  },
  {
   "cell_type": "code",
   "execution_count": 34,
   "metadata": {},
   "outputs": [
    {
     "name": "stdout",
     "output_type": "stream",
     "text": [
      "best C  is: [0.5 0.1 0.6]\n"
     ]
    }
   ],
   "source": [
    "print ('best C  is:',lrcv_L1.C_)"
   ]
  },
  {
   "cell_type": "markdown",
   "metadata": {},
   "source": [
    "LogisticRegressionCV + L1正则 最优C选择"
   ]
  },
  {
   "cell_type": "code",
   "execution_count": 35,
   "metadata": {
    "scrolled": true
   },
   "outputs": [
    {
     "name": "stdout",
     "output_type": "stream",
     "text": [
      "Classification report for classifier LogisticRegressionCV(Cs=[0.1, 0.2, 0.3, 0.4, 0.5, 0.6, 0.7, 0.8, 0.9, 1.0, 1.1, 1.2, 1.3, 1.4, 1.5, 1.6, 1.7, 1.8, 1.9, 2.0, 2.1, 2.2, 2.3, 2.4, 2.5, 2.6, 2.7, 2.8, 2.9, 3.0, 3.1, 3.2, 3.3, 3.4, 3.5, 3.6, 3.7, 3.8, 3.9, 4.0, 4.1, 4.2, 4.3, 4.4, 4.5, 4.6, 4.7, 4.8, 4.9, 5.0, 5.1, 5.2, 5.3, 5.4, 5.5, 5.6, 5.7, 5.8, 5.9, 6.0, 6.1, 6.2, 6.3, 6.4, 6.5, 6.6, 6.7, 6.8, 6.9, 7.0, 7.1, 7.2, 7.3, 7.4, 7.5, 7.6, 7.7, 7.8, 7.9, 8.0, 8.1, 8.2, 8.3, 8.4, 8.5, 8.6, 8.7, 8.8, 8.9, 9.0, 9.1, 9.2, 9.3, 9.4, 9.5, 9.6, 9.7, 9.8, 9.9],\n",
      "           class_weight=None, cv=5, dual=False, fit_intercept=True,\n",
      "           intercept_scaling=1.0, max_iter=100, multi_class='ovr',\n",
      "           n_jobs=1, penalty='l1', random_state=None, refit=True,\n",
      "           scoring='neg_log_loss', solver='liblinear', tol=0.0001,\n",
      "           verbose=0):\n",
      "             precision    recall  f1-score   support\n",
      "\n",
      "          0       0.00      0.00      0.00         7\n",
      "          1       0.50      0.14      0.22        28\n",
      "          2       0.67      0.95      0.79        65\n",
      "\n",
      "avg / total       0.58      0.66      0.58       100\n",
      "\n",
      "\n",
      "Confusion matrix:\n",
      "[[ 0  1  6]\n",
      " [ 0  4 24]\n",
      " [ 0  3 62]]\n"
     ]
    },
    {
     "name": "stderr",
     "output_type": "stream",
     "text": [
      "C:\\ProgramData\\Anaconda3\\lib\\site-packages\\sklearn\\grid_search.py:42: DeprecationWarning: This module was deprecated in version 0.18 in favor of the model_selection module into which all the refactored classes and functions are moved. This module will be removed in 0.20.\n",
      "  DeprecationWarning)\n",
      "C:\\ProgramData\\Anaconda3\\lib\\site-packages\\sklearn\\learning_curve.py:22: DeprecationWarning: This module was deprecated in version 0.18 in favor of the model_selection module into which all the functions are moved. This module will be removed in 0.20\n",
      "  DeprecationWarning)\n",
      "C:\\ProgramData\\Anaconda3\\lib\\site-packages\\sklearn\\metrics\\classification.py:1135: UndefinedMetricWarning: Precision and F-score are ill-defined and being set to 0.0 in labels with no predicted samples.\n",
      "  'precision', 'predicted', average, warn_for)\n"
     ]
    }
   ],
   "source": [
    "#使用测试集对模型进行预测\n",
    "from sklearn import *\n",
    "pre_test_logis_L1=lrcv_L1.predict(X_test)\n",
    "print(\"Classification report for classifier %s:\\n%s\\n\"\n",
    "      % (lrcv_L1, metrics.classification_report(y_test, pre_test_logis_L1)))\n",
    "print(\"Confusion matrix:\\n%s\" % metrics.confusion_matrix(y_test, pre_test_logis_L1))"
   ]
  },
  {
   "cell_type": "code",
   "execution_count": 40,
   "metadata": {
    "collapsed": true
   },
   "outputs": [],
   "source": [
    "#对测试集进行预测\n",
    "def test_data_pred(lr,X_test):\n",
    "    pre_test=lr.predict(X_test)\n",
    "    out_df = pd.DataFrame(pre_test)\n",
    "    out_df.columns =['result']\n",
    "    out_df.replace({0:\"high\",1:\"medium\",2:\"low\"},inplace=True)\n",
    "    #out_df[\"listing_id\"] = X_test.listing_id.values\n",
    "    out_df.to_csv(\"test_result.csv\", index=False)"
   ]
  },
  {
   "cell_type": "markdown",
   "metadata": {},
   "source": [
    "# 预测"
   ]
  },
  {
   "cell_type": "code",
   "execution_count": 41,
   "metadata": {},
   "outputs": [],
   "source": [
    "test_data_pred(lrcv_L1,test)"
   ]
  },
  {
   "cell_type": "markdown",
   "metadata": {},
   "source": [
    "### L2正则"
   ]
  },
  {
   "cell_type": "code",
   "execution_count": 39,
   "metadata": {
    "scrolled": false
   },
   "outputs": [
    {
     "data": {
      "text/plain": [
       "LogisticRegressionCV(Cs=[0.01, 0.02, 0.03, 0.04, 0.05, 0.06, 0.07, 0.08, 0.09, 0.1, 0.11, 0.12, 0.13, 0.14, 0.15, 0.16, 0.17, 0.18, 0.19, 0.2, 0.21, 0.22, 0.23, 0.24, 0.25, 0.26, 0.27, 0.28, 0.29, 0.3, 0.31, 0.32, 0.33, 0.34, 0.35, 0.36, 0.37, 0.38, 0.39, 0.4, 0.41, 0.42, 0.43, 0.44, 0.45, 0.46, 0.47, 0.48, 0.49, 0.5, 0...85, 99.86, 99.87, 99.88, 99.89, 99.9, 99.91, 99.92, 99.93, 99.94, 99.95, 99.96, 99.97, 99.98, 99.99],\n",
       "           class_weight=None, cv=5, dual=False, fit_intercept=True,\n",
       "           intercept_scaling=1.0, max_iter=100, multi_class='ovr',\n",
       "           n_jobs=1, penalty='l2', random_state=None, refit=True,\n",
       "           scoring='neg_log_loss', solver='liblinear', tol=0.0001,\n",
       "           verbose=0)"
      ]
     },
     "execution_count": 39,
     "metadata": {},
     "output_type": "execute_result"
    }
   ],
   "source": [
    "from sklearn.linear_model import LogisticRegressionCV\n",
    "\n",
    "#Cs = [1, 10,100,1000]\n",
    "Cs=[i/100 for i in range(1,10000)]\n",
    "\n",
    "# 大量样本（6W+）、高维度（93），L2正则 --> 缺省用lbfgs，为了和GridSeachCV比较，也用liblinear\n",
    "\n",
    "lr_cv_L2 = LogisticRegressionCV(Cs=Cs, cv = 5, scoring='neg_log_loss', penalty='l2', solver='liblinear', multi_class='ovr')\n",
    "lr_cv_L2.fit(X_train, y_train)    "
   ]
  },
  {
   "cell_type": "code",
   "execution_count": 42,
   "metadata": {},
   "outputs": [
    {
     "data": {
      "text/plain": [
       "{0: array([[-0.27721437, -0.27721437, -0.27721436, ..., -0.27721436,\n",
       "         -0.27721436, -0.27721436],\n",
       "        [-0.26740198, -0.26740196, -0.26740196, ..., -0.26740195,\n",
       "         -0.26740195, -0.26740195],\n",
       "        [-0.3155916 , -0.31559168, -0.3155917 , ..., -0.31559176,\n",
       "         -0.31559176, -0.31559176],\n",
       "        [-0.24918631, -0.2491863 , -0.2491863 , ..., -0.2491863 ,\n",
       "         -0.2491863 , -0.2491863 ],\n",
       "        [-0.27272327, -0.27272327, -0.27272327, ..., -0.27272327,\n",
       "         -0.27272327, -0.27272327]]),\n",
       " 1: array([[-0.56079332, -0.56079333, -0.56079333, ..., -0.56079333,\n",
       "         -0.56079333, -0.56079333],\n",
       "        [-0.54098011, -0.54098011, -0.54098011, ..., -0.54098011,\n",
       "         -0.54098011, -0.54098011],\n",
       "        [-0.52214109, -0.52214108, -0.52214108, ..., -0.52214108,\n",
       "         -0.52214108, -0.52214108],\n",
       "        [-0.55450711, -0.55450713, -0.55450713, ..., -0.55450715,\n",
       "         -0.55450715, -0.55450715],\n",
       "        [-0.52778551, -0.5277855 , -0.5277855 , ..., -0.5277855 ,\n",
       "         -0.5277855 , -0.5277855 ]]),\n",
       " 2: array([[-0.61479676, -0.61479677, -0.61479678, ..., -0.61479678,\n",
       "         -0.61479678, -0.61479678],\n",
       "        [-0.57645916, -0.57645913, -0.57645912, ..., -0.5764591 ,\n",
       "         -0.5764591 , -0.5764591 ],\n",
       "        [-0.58033394, -0.58033396, -0.58033396, ..., -0.58033393,\n",
       "         -0.58033395, -0.58033393],\n",
       "        [-0.60207948, -0.60207951, -0.60207951, ..., -0.60207953,\n",
       "         -0.60207953, -0.60207954],\n",
       "        [-0.59289791, -0.59289792, -0.59289792, ..., -0.59289793,\n",
       "         -0.59289793, -0.59289793]])}"
      ]
     },
     "execution_count": 42,
     "metadata": {},
     "output_type": "execute_result"
    }
   ],
   "source": [
    "lr_cv_L2.scores_"
   ]
  },
  {
   "cell_type": "code",
   "execution_count": 43,
   "metadata": {
    "scrolled": false
   },
   "outputs": [
    {
     "name": "stdout",
     "output_type": "stream",
     "text": [
      "[-0.54124143 -0.54124143 -0.54124143 ... -0.54124143 -0.54124143\n",
      " -0.54124143]\n"
     ]
    },
    {
     "data": {
      "image/png": "[encoded data removed]",
      "text/plain": [
       "<matplotlib.figure.Figure at 0x30ec5f28>"
      ]
     },
     "metadata": {},
     "output_type": "display_data"
    },
    {
     "name": "stdout",
     "output_type": "stream",
     "text": [
      "best C  is: [1.000e-02 1.000e-02 7.665e+01]\n"
     ]
    }
   ],
   "source": [
    "# dict with classes as the keys, and the values as the grid of scores obtained during cross-validating each fold,\n",
    "# Each dict value has shape (n_folds, len(Cs))\n",
    "n_Cs = len(Cs)\n",
    "n_classes = 3\n",
    "scores =  np.zeros((n_classes,n_Cs))\n",
    "print(np.mean(lr_cv_L2.scores_[1],axis = 0))\n",
    "for j in range(n_classes):\n",
    "    scores[j][:] = np.mean(lr_cv_L2.scores_[j],axis = 0)\n",
    "    \n",
    "mse_mean = np.mean(scores, axis = 0)\n",
    "plt.plot(np.log10(Cs), mse_mean.reshape(n_Cs,1)) \n",
    "#plt.plot(np.log10(reg.Cs)*np.ones(3), [0.28, 0.29, 0.30])\n",
    "plt.xlabel('log(C)')\n",
    "plt.ylabel('neg-logloss')\n",
    "plt.show()\n",
    "\n",
    "print ('best C  is:',lr_cv_L2.C_)  #对多类分类问题，每个类别的分类器有一个C"
   ]
  },
  {
   "cell_type": "code",
   "execution_count": null,
   "metadata": {
    "scrolled": false
   },
   "outputs": [],
   "source": [
    "\n"
   ]
  },
  {
   "cell_type": "code",
   "execution_count": 44,
   "metadata": {},
   "outputs": [],
   "source": [
    "test_data_pred(lr_cv_L2,test)\n"
   ]
  },
  {
   "cell_type": "markdown",
   "metadata": {},
   "source": [
    "# 支持向量机分类回归问题"
   ]
  },
  {
   "cell_type": "code",
   "execution_count": 45,
   "metadata": {
    "collapsed": true
   },
   "outputs": [],
   "source": [
    "#LinearSVC不能得到每类的概率，在Otto数据集要求输出每类的概率，这里只是示意SVM的使用方法\n",
    "#https://xacecask2.gitbooks.io/scikit-learn-user-guide-chinese-version/content/sec1.4.html\n",
    "#1.4.1.2. 得分与概率\n",
    "from sklearn.svm import LinearSVC\n",
    "from sklearn.metrics import accuracy_score\n",
    "\n",
    "SVC1 = LinearSVC().fit(X_train, y_train)"
   ]
  },
  {
   "cell_type": "code",
   "execution_count": 46,
   "metadata": {
    "scrolled": false
   },
   "outputs": [
    {
     "name": "stdout",
     "output_type": "stream",
     "text": [
      "Classification report for classifier LinearSVC(C=1.0, class_weight=None, dual=True, fit_intercept=True,\n",
      "     intercept_scaling=1, loss='squared_hinge', max_iter=1000,\n",
      "     multi_class='ovr', penalty='l2', random_state=None, tol=0.0001,\n",
      "     verbose=0):\n",
      "             precision    recall  f1-score   support\n",
      "\n",
      "          0       0.00      0.00      0.00         7\n",
      "          1       0.37      0.54      0.43        28\n",
      "          2       0.71      0.65      0.68        65\n",
      "\n",
      "avg / total       0.57      0.57      0.56       100\n",
      "\n",
      "\n",
      "Confusion matrix:\n",
      "[[ 0  3  4]\n",
      " [ 0 15 13]\n",
      " [ 0 23 42]]\n"
     ]
    },
    {
     "name": "stderr",
     "output_type": "stream",
     "text": [
      "C:\\ProgramData\\Anaconda3\\lib\\site-packages\\sklearn\\metrics\\classification.py:1135: UndefinedMetricWarning: Precision and F-score are ill-defined and being set to 0.0 in labels with no predicted samples.\n",
      "  'precision', 'predicted', average, warn_for)\n"
     ]
    }
   ],
   "source": [
    "#在校验集上测试，估计模型性能\n",
    "y_predict = SVC1.predict(X_test)\n",
    "\n",
    "print(\"Classification report for classifier %s:\\n%s\\n\"\n",
    "      % (SVC1, metrics.classification_report(y_test, y_predict)))\n",
    "print(\"Confusion matrix:\\n%s\" % metrics.confusion_matrix(y_test, y_predict))"
   ]
  },
  {
   "cell_type": "code",
   "execution_count": 47,
   "metadata": {
    "collapsed": true
   },
   "outputs": [],
   "source": [
    "test_data_pred(SVC1,test)"
   ]
  },
  {
   "cell_type": "markdown",
   "metadata": {},
   "source": [
    "### 线性SVM正则参数调优"
   ]
  },
  {
   "cell_type": "markdown",
   "metadata": {},
   "source": [
    "线性SVM LinearSVC的需要调整正则超参数包括C（正则系数，一般在log域（取log后的值）均匀设置候选参数）和正则函数penalty（L2/L1） \n",
    "\n",
    "采用交叉验证，网格搜索步骤与Logistic回归正则参数处理类似，在此略。\n",
    "\n",
    "这里我们用校验集（X_val、y_val）来估计模型性能"
   ]
  },
  {
   "cell_type": "code",
   "execution_count": 48,
   "metadata": {
    "collapsed": true
   },
   "outputs": [],
   "source": [
    "def fit_grid_point_Linear(C, X_train, y_train, X_val, y_val):\n",
    "    \n",
    "    # 在训练集是那个利用SVC训练\n",
    "    SVC2 =  LinearSVC( C = C,penalty='l2')\n",
    "    SVC2 = SVC2.fit(X_train, y_train)\n",
    "    \n",
    "    # 在校验集上返回accuracy\n",
    "    accuracy = SVC2.score(X_val, y_val)\n",
    "    \n",
    "    print(\"accuracy: {}\".format(accuracy),\"C=%f\"%(C))\n",
    "    return accuracy"
   ]
  },
  {
   "cell_type": "code",
   "execution_count": 49,
   "metadata": {},
   "outputs": [
    {
     "name": "stdout",
     "output_type": "stream",
     "text": [
      "accuracy: 0.65 C=0.010000\n",
      "accuracy: 0.3 C=0.021544\n",
      "accuracy: 0.28 C=0.046416\n",
      "accuracy: 0.18 C=0.100000\n",
      "accuracy: 0.65 C=0.215443\n",
      "accuracy: 0.65 C=0.464159\n",
      "accuracy: 0.65 C=1.000000\n",
      "accuracy: 0.65 C=2.154435\n",
      "accuracy: 0.61 C=4.641589\n",
      "accuracy: 0.65 C=10.000000\n"
     ]
    },
    {
     "data": {
      "image/png": "[encoded data removed]",
      "text/plain": [
       "<matplotlib.figure.Figure at 0x305e9828>"
      ]
     },
     "metadata": {},
     "output_type": "display_data"
    }
   ],
   "source": [
    "#需要调优的参数\n",
    "C_s = np.logspace(-2, 1, 10)# logspace(a,b,N)把10的a次方到10的b次方区间分成N份  \n",
    "#penalty_s = ['l1','l2']\n",
    "\n",
    "accuracy_s = []\n",
    "for i, oneC in enumerate(C_s):\n",
    "#    for j, penalty in enumerate(penalty_s):\n",
    "    tmp = fit_grid_point_Linear(oneC, X_train, y_train, X_test, y_test)\n",
    "    accuracy_s.append(tmp)\n",
    "\n",
    "x_axis = np.log10(C_s)\n",
    "#for j, penalty in enumerate(penalty_s):\n",
    "plt.plot(x_axis, np.array(accuracy_s), 'b-')\n",
    "    \n",
    "plt.legend()\n",
    "plt.xlabel( 'log(C)' )                                                                                                      \n",
    "plt.ylabel( 'accuracy' )\n",
    "plt.savefig('SVM_Otto.png' )\n",
    "\n",
    "plt.show()"
   ]
  },
  {
   "cell_type": "markdown",
   "metadata": {},
   "source": [
    "### RBF核SVM正则参数调优\n",
    "\n",
    "RBF核是SVM最常用的核函数。\n",
    "RBF核SVM 的需要调整正则超参数包括C（正则系数，一般在log域（取log后的值）均匀设置候选参数）和核函数的宽度gamma\n",
    "C越小，决策边界越平滑； \n",
    "gamma越小，决策边界越平滑。\n",
    "\n",
    "采用交叉验证，网格搜索步骤与Logistic回归正则参数处理类似，在此略。\n",
    "\n",
    "这里我们用校验集（X_val、y_val）来估计模型性能"
   ]
  },
  {
   "cell_type": "code",
   "execution_count": 50,
   "metadata": {
    "collapsed": true
   },
   "outputs": [],
   "source": [
    "from sklearn.svm import SVC"
   ]
  },
  {
   "cell_type": "code",
   "execution_count": 51,
   "metadata": {
    "collapsed": true
   },
   "outputs": [],
   "source": [
    "def fit_grid_point_RBF(C, gamma, X_train, y_train, X_val, y_val):\n",
    "    \n",
    "    # 在训练集是那个利用SVC训练\n",
    "    SVC3 =  SVC( C = C, kernel='rbf', gamma = gamma)\n",
    "    SVC3 = SVC3.fit(X_train, y_train)\n",
    "    \n",
    "    # 在校验集上返回accuracy\n",
    "    accuracy = SVC3.score(X_val, y_val)\n",
    "    \n",
    "    print(\"accuracy: {}\".format(accuracy),\"C=%f\"%(C),\"gamma=%f\"%(gamma))\n",
    "    return accuracy"
   ]
  },
  {
   "cell_type": "code",
   "execution_count": 52,
   "metadata": {},
   "outputs": [
    {
     "name": "stdout",
     "output_type": "stream",
     "text": [
      "accuracy: 0.65 C=0.010000 gamma=0.010000\n",
      "accuracy: 0.65 C=0.010000 gamma=0.100000\n",
      "accuracy: 0.65 C=0.010000 gamma=1.000000\n",
      "accuracy: 0.65 C=0.010000 gamma=10.000000\n",
      "accuracy: 0.65 C=0.010000 gamma=100.000000\n",
      "accuracy: 0.65 C=0.021544 gamma=0.010000\n",
      "accuracy: 0.65 C=0.021544 gamma=0.100000\n",
      "accuracy: 0.65 C=0.021544 gamma=1.000000\n",
      "accuracy: 0.65 C=0.021544 gamma=10.000000\n",
      "accuracy: 0.65 C=0.021544 gamma=100.000000\n",
      "accuracy: 0.65 C=0.046416 gamma=0.010000\n",
      "accuracy: 0.65 C=0.046416 gamma=0.100000\n",
      "accuracy: 0.65 C=0.046416 gamma=1.000000\n",
      "accuracy: 0.65 C=0.046416 gamma=10.000000\n",
      "accuracy: 0.65 C=0.046416 gamma=100.000000\n",
      "accuracy: 0.65 C=0.100000 gamma=0.010000\n",
      "accuracy: 0.65 C=0.100000 gamma=0.100000\n",
      "accuracy: 0.65 C=0.100000 gamma=1.000000\n",
      "accuracy: 0.65 C=0.100000 gamma=10.000000\n",
      "accuracy: 0.65 C=0.100000 gamma=100.000000\n",
      "accuracy: 0.65 C=0.215443 gamma=0.010000\n",
      "accuracy: 0.65 C=0.215443 gamma=0.100000\n",
      "accuracy: 0.65 C=0.215443 gamma=1.000000\n",
      "accuracy: 0.65 C=0.215443 gamma=10.000000\n",
      "accuracy: 0.65 C=0.215443 gamma=100.000000\n",
      "accuracy: 0.65 C=0.464159 gamma=0.010000\n",
      "accuracy: 0.65 C=0.464159 gamma=0.100000\n",
      "accuracy: 0.65 C=0.464159 gamma=1.000000\n",
      "accuracy: 0.65 C=0.464159 gamma=10.000000\n",
      "accuracy: 0.65 C=0.464159 gamma=100.000000\n",
      "accuracy: 0.65 C=1.000000 gamma=0.010000\n",
      "accuracy: 0.65 C=1.000000 gamma=0.100000\n",
      "accuracy: 0.65 C=1.000000 gamma=1.000000\n",
      "accuracy: 0.65 C=1.000000 gamma=10.000000\n",
      "accuracy: 0.65 C=1.000000 gamma=100.000000\n",
      "accuracy: 0.65 C=2.154435 gamma=0.010000\n",
      "accuracy: 0.65 C=2.154435 gamma=0.100000\n",
      "accuracy: 0.65 C=2.154435 gamma=1.000000\n",
      "accuracy: 0.65 C=2.154435 gamma=10.000000\n",
      "accuracy: 0.65 C=2.154435 gamma=100.000000\n",
      "accuracy: 0.65 C=4.641589 gamma=0.010000\n",
      "accuracy: 0.65 C=4.641589 gamma=0.100000\n",
      "accuracy: 0.65 C=4.641589 gamma=1.000000\n",
      "accuracy: 0.65 C=4.641589 gamma=10.000000\n",
      "accuracy: 0.65 C=4.641589 gamma=100.000000\n",
      "accuracy: 0.65 C=10.000000 gamma=0.010000\n",
      "accuracy: 0.65 C=10.000000 gamma=0.100000\n",
      "accuracy: 0.65 C=10.000000 gamma=1.000000\n",
      "accuracy: 0.65 C=10.000000 gamma=10.000000\n",
      "accuracy: 0.65 C=10.000000 gamma=100.000000\n"
     ]
    }
   ],
   "source": [
    "#需要调优的参数\n",
    "C_s = np.logspace(-2, 1, 10)# logspace(a,b,N)把10的a次方到10的b次方区间分成N份 \n",
    "gamma_s = np.logspace(-2, 2, 5)    \n",
    "\n",
    "accuracy_s = []\n",
    "for i, oneC in enumerate(C_s):\n",
    "    for j, gamma in enumerate(gamma_s):\n",
    "        tmp = fit_grid_point_RBF(oneC, gamma, X_train, y_train, X_test, y_test)\n",
    "        accuracy_s.append(tmp)"
   ]
  },
  {
   "cell_type": "markdown",
   "metadata": {},
   "source": [
    "从上述部分运行结果来看，gamma参数设置不合适（gamma越大，对应RBF核的sigma越小，决策边界更复杂，可能发生了过拟合）\n",
    "所以调小gamma值"
   ]
  },
  {
   "cell_type": "code",
   "execution_count": 53,
   "metadata": {},
   "outputs": [
    {
     "name": "stdout",
     "output_type": "stream",
     "text": [
      "accuracy: 0.65 C=0.100000 gamma=0.000000\n",
      "accuracy: 0.65 C=0.278256 gamma=0.000000\n",
      "accuracy: 0.65 C=0.774264 gamma=0.000000\n",
      "accuracy: 0.64 C=2.154435 gamma=0.000000\n",
      "accuracy: 0.66 C=5.994843 gamma=0.000000\n",
      "accuracy: 0.66 C=16.681005 gamma=0.000000\n",
      "accuracy: 0.63 C=46.415888 gamma=0.000000\n",
      "accuracy: 0.62 C=129.154967 gamma=0.000000\n",
      "accuracy: 0.54 C=359.381366 gamma=0.000000\n",
      "accuracy: 0.52 C=1000.000000 gamma=0.000000\n"
     ]
    }
   ],
   "source": [
    "#需要调优的参数\n",
    "C_s = np.logspace(-1, 3, 10)# logspace(a,b,N)把10的a次方到10的b次方区间分成N份 \n",
    "gamma_s = np.logspace(-8, -8, 1)  \n",
    "\n",
    "accuracy_s = []\n",
    "for i, oneC in enumerate(C_s):\n",
    "    for j, gamma in enumerate(gamma_s):\n",
    "        tmp = fit_grid_point_RBF(oneC, gamma, X_train, y_train, X_test, y_test)\n",
    "        accuracy_s.append(tmp)"
   ]
  },
  {
   "cell_type": "code",
   "execution_count": 54,
   "metadata": {
    "scrolled": true
   },
   "outputs": [
    {
     "data": {
      "image/png": "[encoded data removed]",
      "text/plain": [
       "<matplotlib.figure.Figure at 0x3061b550>"
      ]
     },
     "metadata": {},
     "output_type": "display_data"
    }
   ],
   "source": [
    "accuracy_s1 =np.array(accuracy_s).reshape(len(C_s),len(gamma_s))\n",
    "x_axis = np.log10(C_s)\n",
    "for j, gamma in enumerate(gamma_s):\n",
    "    plt.plot(x_axis, np.array(accuracy_s1[:,j]), label = ' Test - log(gamma)' + str(np.log10(gamma)))\n",
    "\n",
    "plt.legend()\n",
    "plt.xlabel( 'log(C)' )                                                                                                      \n",
    "plt.ylabel( 'accuracy' )\n",
    "plt.savefig('RBF_SVM_Otto.png' )\n",
    "\n",
    "plt.show()"
   ]
  },
  {
   "cell_type": "markdown",
   "metadata": {
    "collapsed": true
   },
   "source": [
    "# 预测 ,使用accuracy: 0.65 C=0.774264 gamma=0.000000"
   ]
  },
  {
   "cell_type": "code",
   "execution_count": 55,
   "metadata": {},
   "outputs": [],
   "source": [
    "# 在训练集是那个利用SVC训练\n",
    "SVC3 =  SVC( C = 46.415888 , kernel='rbf', gamma = 'auto')\n",
    "SVC3 = SVC3.fit(X_train, y_train)\n",
    "\n",
    "# 预测\n",
    "test_data_pred(SVC3,test)"
   ]
  },
  {
   "cell_type": "code",
   "execution_count": null,
   "metadata": {
    "collapsed": true
   },
   "outputs": [],
   "source": []
  }
 ],
 "metadata": {
  "kernelspec": {
   "display_name": "Python 3",
   "language": "python",
   "name": "python3"
  },
  "language_info": {
   "codemirror_mode": {
    "name": "ipython",
    "version": 3
   },
   "file_extension": ".py",
   "mimetype": "text/x-python",
   "name": "python",
   "nbconvert_exporter": "python",
   "pygments_lexer": "ipython3",
   "version": "3.6.3"
  }
 },
 "nbformat": 4,
 "nbformat_minor": 2
}
