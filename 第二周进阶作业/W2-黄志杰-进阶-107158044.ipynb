{
 "cells": [
  {
   "cell_type": "markdown",
   "metadata": {},
   "source": [
    "# 在 Rental Listing Inquiries 数据上练习分类方法"
   ]
  },
  {
   "cell_type": "code",
   "execution_count": 1,
   "metadata": {
    "collapsed": true
   },
   "outputs": [],
   "source": [
    "# 首先 import 必要的模块\n",
    "import pandas as pd \n",
    "import numpy as np\n",
    "\n",
    "from sklearn.model_selection import GridSearchCV\n",
    "\n",
    "#竞赛的评价指标为logloss\n",
    "from sklearn.metrics import log_loss  \n",
    "\n",
    "from matplotlib import pyplot as plt\n",
    "import seaborn as sns\n",
    "%matplotlib inline"
   ]
  },
  {
   "cell_type": "markdown",
   "metadata": {},
   "source": [
    "## 读取数据 & 数据探索"
   ]
  },
  {
   "cell_type": "code",
   "execution_count": 4,
   "metadata": {
    "scrolled": true
   },
   "outputs": [
    {
     "data": {
      "text/html": [
       "<div>\n",
       "<style>\n",
       "    .dataframe thead tr:only-child th {\n",
       "        text-align: right;\n",
       "    }\n",
       "\n",
       "    .dataframe thead th {\n",
       "        text-align: left;\n",
       "    }\n",
       "\n",
       "    .dataframe tbody tr th {\n",
       "        vertical-align: top;\n",
       "    }\n",
       "</style>\n",
       "<table border=\"1\" class=\"dataframe\">\n",
       "  <thead>\n",
       "    <tr style=\"text-align: right;\">\n",
       "      <th></th>\n",
       "      <th>bathrooms</th>\n",
       "      <th>bedrooms</th>\n",
       "      <th>building_id</th>\n",
       "      <th>created</th>\n",
       "      <th>description</th>\n",
       "      <th>display_address</th>\n",
       "      <th>features</th>\n",
       "      <th>interest_level</th>\n",
       "      <th>latitude</th>\n",
       "      <th>listing_id</th>\n",
       "      <th>longitude</th>\n",
       "      <th>manager_id</th>\n",
       "      <th>photos</th>\n",
       "      <th>price</th>\n",
       "      <th>street_address</th>\n",
       "    </tr>\n",
       "  </thead>\n",
       "  <tbody>\n",
       "    <tr>\n",
       "      <th>10</th>\n",
       "      <td>1.5</td>\n",
       "      <td>3</td>\n",
       "      <td>53a5b119ba8f7b61d4e010512e0dfc85</td>\n",
       "      <td>2016-06-24 07:54:24</td>\n",
       "      <td>A Brand New 3 Bedroom 1.5 bath ApartmentEnjoy ...</td>\n",
       "      <td>Metropolitan Avenue</td>\n",
       "      <td>[]</td>\n",
       "      <td>medium</td>\n",
       "      <td>40.7145</td>\n",
       "      <td>7211212</td>\n",
       "      <td>-73.9425</td>\n",
       "      <td>5ba989232d0489da1b5f2c45f6688adc</td>\n",
       "      <td>[https://photos.renthop.com/2/7211212_1ed4542e...</td>\n",
       "      <td>3000</td>\n",
       "      <td>792 Metropolitan Avenue</td>\n",
       "    </tr>\n",
       "    <tr>\n",
       "      <th>10000</th>\n",
       "      <td>1.0</td>\n",
       "      <td>2</td>\n",
       "      <td>c5c8a357cba207596b04d1afd1e4f130</td>\n",
       "      <td>2016-06-12 12:19:27</td>\n",
       "      <td></td>\n",
       "      <td>Columbus Avenue</td>\n",
       "      <td>[Doorman, Elevator, Fitness Center, Cats Allow...</td>\n",
       "      <td>low</td>\n",
       "      <td>40.7947</td>\n",
       "      <td>7150865</td>\n",
       "      <td>-73.9667</td>\n",
       "      <td>7533621a882f71e25173b27e3139d83d</td>\n",
       "      <td>[https://photos.renthop.com/2/7150865_be3306c5...</td>\n",
       "      <td>5465</td>\n",
       "      <td>808 Columbus Avenue</td>\n",
       "    </tr>\n",
       "    <tr>\n",
       "      <th>100004</th>\n",
       "      <td>1.0</td>\n",
       "      <td>1</td>\n",
       "      <td>c3ba40552e2120b0acfc3cb5730bb2aa</td>\n",
       "      <td>2016-04-17 03:26:41</td>\n",
       "      <td>Top Top West Village location, beautiful Pre-w...</td>\n",
       "      <td>W 13 Street</td>\n",
       "      <td>[Laundry In Building, Dishwasher, Hardwood Flo...</td>\n",
       "      <td>high</td>\n",
       "      <td>40.7388</td>\n",
       "      <td>6887163</td>\n",
       "      <td>-74.0018</td>\n",
       "      <td>d9039c43983f6e564b1482b273bd7b01</td>\n",
       "      <td>[https://photos.renthop.com/2/6887163_de85c427...</td>\n",
       "      <td>2850</td>\n",
       "      <td>241 W 13 Street</td>\n",
       "    </tr>\n",
       "    <tr>\n",
       "      <th>100007</th>\n",
       "      <td>1.0</td>\n",
       "      <td>1</td>\n",
       "      <td>28d9ad350afeaab8027513a3e52ac8d5</td>\n",
       "      <td>2016-04-18 02:22:02</td>\n",
       "      <td>Building Amenities - Garage - Garden - fitness...</td>\n",
       "      <td>East 49th Street</td>\n",
       "      <td>[Hardwood Floors, No Fee]</td>\n",
       "      <td>low</td>\n",
       "      <td>40.7539</td>\n",
       "      <td>6888711</td>\n",
       "      <td>-73.9677</td>\n",
       "      <td>1067e078446a7897d2da493d2f741316</td>\n",
       "      <td>[https://photos.renthop.com/2/6888711_6e660cee...</td>\n",
       "      <td>3275</td>\n",
       "      <td>333 East 49th Street</td>\n",
       "    </tr>\n",
       "    <tr>\n",
       "      <th>100013</th>\n",
       "      <td>1.0</td>\n",
       "      <td>4</td>\n",
       "      <td>0</td>\n",
       "      <td>2016-04-28 01:32:41</td>\n",
       "      <td>Beautifully renovated 3 bedroom flex 4 bedroom...</td>\n",
       "      <td>West 143rd Street</td>\n",
       "      <td>[Pre-War]</td>\n",
       "      <td>low</td>\n",
       "      <td>40.8241</td>\n",
       "      <td>6934781</td>\n",
       "      <td>-73.9493</td>\n",
       "      <td>98e13ad4b495b9613cef886d79a6291f</td>\n",
       "      <td>[https://photos.renthop.com/2/6934781_1fa4b41a...</td>\n",
       "      <td>3350</td>\n",
       "      <td>500 West 143rd Street</td>\n",
       "    </tr>\n",
       "  </tbody>\n",
       "</table>\n",
       "</div>"
      ],
      "text/plain": [
       "        bathrooms  bedrooms                       building_id  \\\n",
       "10            1.5         3  53a5b119ba8f7b61d4e010512e0dfc85   \n",
       "10000         1.0         2  c5c8a357cba207596b04d1afd1e4f130   \n",
       "100004        1.0         1  c3ba40552e2120b0acfc3cb5730bb2aa   \n",
       "100007        1.0         1  28d9ad350afeaab8027513a3e52ac8d5   \n",
       "100013        1.0         4                                 0   \n",
       "\n",
       "                    created  \\\n",
       "10      2016-06-24 07:54:24   \n",
       "10000   2016-06-12 12:19:27   \n",
       "100004  2016-04-17 03:26:41   \n",
       "100007  2016-04-18 02:22:02   \n",
       "100013  2016-04-28 01:32:41   \n",
       "\n",
       "                                              description  \\\n",
       "10      A Brand New 3 Bedroom 1.5 bath ApartmentEnjoy ...   \n",
       "10000                                                       \n",
       "100004  Top Top West Village location, beautiful Pre-w...   \n",
       "100007  Building Amenities - Garage - Garden - fitness...   \n",
       "100013  Beautifully renovated 3 bedroom flex 4 bedroom...   \n",
       "\n",
       "            display_address  \\\n",
       "10      Metropolitan Avenue   \n",
       "10000       Columbus Avenue   \n",
       "100004          W 13 Street   \n",
       "100007     East 49th Street   \n",
       "100013    West 143rd Street   \n",
       "\n",
       "                                                 features interest_level  \\\n",
       "10                                                     []         medium   \n",
       "10000   [Doorman, Elevator, Fitness Center, Cats Allow...            low   \n",
       "100004  [Laundry In Building, Dishwasher, Hardwood Flo...           high   \n",
       "100007                          [Hardwood Floors, No Fee]            low   \n",
       "100013                                          [Pre-War]            low   \n",
       "\n",
       "        latitude  listing_id  longitude                        manager_id  \\\n",
       "10       40.7145     7211212   -73.9425  5ba989232d0489da1b5f2c45f6688adc   \n",
       "10000    40.7947     7150865   -73.9667  7533621a882f71e25173b27e3139d83d   \n",
       "100004   40.7388     6887163   -74.0018  d9039c43983f6e564b1482b273bd7b01   \n",
       "100007   40.7539     6888711   -73.9677  1067e078446a7897d2da493d2f741316   \n",
       "100013   40.8241     6934781   -73.9493  98e13ad4b495b9613cef886d79a6291f   \n",
       "\n",
       "                                                   photos  price  \\\n",
       "10      [https://photos.renthop.com/2/7211212_1ed4542e...   3000   \n",
       "10000   [https://photos.renthop.com/2/7150865_be3306c5...   5465   \n",
       "100004  [https://photos.renthop.com/2/6887163_de85c427...   2850   \n",
       "100007  [https://photos.renthop.com/2/6888711_6e660cee...   3275   \n",
       "100013  [https://photos.renthop.com/2/6934781_1fa4b41a...   3350   \n",
       "\n",
       "                 street_address  \n",
       "10      792 Metropolitan Avenue  \n",
       "10000       808 Columbus Avenue  \n",
       "100004          241 W 13 Street  \n",
       "100007     333 East 49th Street  \n",
       "100013    500 West 143rd Street  "
      ]
     },
     "execution_count": 4,
     "metadata": {},
     "output_type": "execute_result"
    }
   ],
   "source": [
    "# 读取训练数据\n",
    "# path to where the data lies\n",
    "dpath = '../../data/'\n",
    "train = pd.read_json(dpath +\"RentListingInquries_train.json\")\n",
    "train.head()"
   ]
  },
  {
   "cell_type": "code",
   "execution_count": 5,
   "metadata": {
    "scrolled": true
   },
   "outputs": [
    {
     "name": "stdout",
     "output_type": "stream",
     "text": [
      "<class 'pandas.core.frame.DataFrame'>\n",
      "Int64Index: 49352 entries, 10 to 99994\n",
      "Data columns (total 15 columns):\n",
      "bathrooms          49352 non-null float64\n",
      "bedrooms           49352 non-null int64\n",
      "building_id        49352 non-null object\n",
      "created            49352 non-null object\n",
      "description        49352 non-null object\n",
      "display_address    49352 non-null object\n",
      "features           49352 non-null object\n",
      "interest_level     49352 non-null object\n",
      "latitude           49352 non-null float64\n",
      "listing_id         49352 non-null int64\n",
      "longitude          49352 non-null float64\n",
      "manager_id         49352 non-null object\n",
      "photos             49352 non-null object\n",
      "price              49352 non-null int64\n",
      "street_address     49352 non-null object\n",
      "dtypes: float64(3), int64(3), object(9)\n",
      "memory usage: 6.0+ MB\n"
     ]
    }
   ],
   "source": [
    "train.info()"
   ]
  },
  {
   "cell_type": "markdown",
   "metadata": {},
   "source": [
    "### 特征含义\n",
    "bathrooms: 浴室的数量\n",
    "\n",
    "bedrooms: 卧室的数量\n",
    "\n",
    "building_id：\n",
    "\n",
    "created：发布时间\n",
    "\n",
    "description：一些描述\n",
    "\n",
    "display_address：展出地址\n",
    "\n",
    "features: 公寓的一些特征\n",
    "\n",
    "latitude：纬度\n",
    "\n",
    "listing_id\n",
    "\n",
    "longitude：经度\n",
    "\n",
    "manager_id：管理ID\n",
    "\n",
    "photos: 租房图片集\n",
    "\n",
    "price: 美元\n",
    "\n",
    "street_address：街道地址\n",
    "\n",
    "interest_level: 目标变量，受欢迎程度. 有三个类: ‘high’, ‘medium’, ‘low’"
   ]
  },
  {
   "cell_type": "code",
   "execution_count": 6,
   "metadata": {},
   "outputs": [
    {
     "data": {
      "text/plain": [
       "bathrooms          0\n",
       "bedrooms           0\n",
       "building_id        0\n",
       "created            0\n",
       "description        0\n",
       "display_address    0\n",
       "features           0\n",
       "interest_level     0\n",
       "latitude           0\n",
       "listing_id         0\n",
       "longitude          0\n",
       "manager_id         0\n",
       "photos             0\n",
       "price              0\n",
       "street_address     0\n",
       "dtype: int64"
      ]
     },
     "execution_count": 6,
     "metadata": {},
     "output_type": "execute_result"
    }
   ],
   "source": [
    "train.isnull().sum()"
   ]
  },
  {
   "cell_type": "code",
   "execution_count": 7,
   "metadata": {},
   "outputs": [
    {
     "name": "stdout",
     "output_type": "stream",
     "text": [
      "bathrooms = 313\n",
      "bedrooms = 9475\n",
      "building_id = 0\n",
      "created = 0\n",
      "description = 0\n",
      "display_address = 0\n",
      "features = 0\n",
      "interest_level = 0\n",
      "latitude = 12\n",
      "listing_id = 0\n",
      "longitude = 12\n",
      "manager_id = 0\n",
      "photos = 0\n",
      "price = 0\n",
      "street_address = 0\n"
     ]
    }
   ],
   "source": [
    "for a in train.columns:\n",
    "    print('%s = %d'% (a ,len(train[train[a]==0])))"
   ]
  },
  {
   "cell_type": "code",
   "execution_count": 8,
   "metadata": {},
   "outputs": [
    {
     "name": "stdout",
     "output_type": "stream",
     "text": [
      "\n",
      "building_id属性的不同取值和出现的次数\n",
      "0                                   8286\n",
      "96274288c84ddd7d5c5d8e425ee75027     275\n",
      "11e1dec9d14b1a9e528386a2504b3afc     215\n",
      "80a120d6bc3aba97f40fee8c2204524b     213\n",
      "bb8658a3e432fb62a440615333376345     212\n",
      "f68bf347f99df026f4faad43cc604048     191\n",
      "c94301249b8c09429d329864d58e5b82     167\n",
      "ce6d18bf3238e668b2bf23f4110b7b67     165\n",
      "57ef86c28a8ae482dc3a3c3af28e8e48     159\n",
      "128d4af0683efc5e1eded8dc8044d5e3     153\n",
      "d0234abbc01a982d54e8d446acc03405     152\n",
      "9c18bf871b97492b96d8ddb800591f1b     147\n",
      "8e3b8c607c3edcf3de131c24f0390179     141\n",
      "cb14c4f807f23ecee1f7469b5159d2de     141\n",
      "ea9045106c4e1fe52853b6af941f1c69     139\n",
      "7967a1280bf3f7644500fc79d2696b0e     133\n",
      "a01c99eb2cfdde327e1691e17d6696ba     131\n",
      "093f64f52a6e43ba5e8f12bec8200554     128\n",
      "18f6eb16d2f3e9885cb4a5d0a40791c6     127\n",
      "5565db9b7cba3603834c4aa6f2950960     126\n",
      "dd7b281c0dbafc8b53575ab78cca75d4     125\n",
      "3a956bd42c50f06ac84cf072fc514f5f     123\n",
      "6ce872b483cfcbb32ea805604d44ef5f     120\n",
      "ec12b4db154a9c75983f5e32edd93843     116\n",
      "aed67db466854ec2aa5d249a032bc401     115\n",
      "93cd24891f8423d45ac587ab1fdb1225     115\n",
      "80911ce8a425daf4989ea8a4bccc41a7     112\n",
      "1be9c496f7bdff4a552e3d4e91f915f8     111\n",
      "300d27d8ba2adbcbc8c6f2bcbc1c6f9d     110\n",
      "c40e3e74475a91aae1928541be8df678     108\n",
      "                                    ... \n",
      "752a2573c531923559197ca54cf56697       1\n",
      "f54dccf9a3ddb28dadd75a16fd2ebaf2       1\n",
      "ec463457cc6ad85bb353a84d008ea440       1\n",
      "b57733d0b344026228d410b1f9e8b371       1\n",
      "cfa41abf2424e5174bea89b425a69398       1\n",
      "fd3c3df8b9f113771a9c45ee083e9248       1\n",
      "2c5b57bac945e2a75136d58e72a33b24       1\n",
      "f078e43c0f3cc7d8c8f2ab0c0e923f0e       1\n",
      "adec10dd21073ef1e03cd68ce4fd32cd       1\n",
      "704df926d7c599ed69d23d1b195f3363       1\n",
      "dadf2113254c311f2f256181d6d8e885       1\n",
      "5261194819e94e886cf957f92588e024       1\n",
      "ce075177e5c534187051f6f2d13a862b       1\n",
      "20fccfd724e8132b88ceee2eee048282       1\n",
      "72be043bbb5cbeb43f20723f68d78763       1\n",
      "6dd994128867f6db43a3b0c9f7b4dce4       1\n",
      "91454995db2d7db06999e7f25ebf1244       1\n",
      "db527b2702cf8ce60cc4064b69fbc564       1\n",
      "47322e62235f4f2faeae780e8677aba4       1\n",
      "065bf5e208542df64d245139b442943e       1\n",
      "8497f99f71b9a901f91163a49251b007       1\n",
      "e5cf3b06dcd9d60b67da74182f957d4f       1\n",
      "faedc93cb14f5cef60158736f3e58e1f       1\n",
      "0ad27cca5d7d847643060daa6386ef85       1\n",
      "0dedf59972bf2791386fb9d2de66b0e9       1\n",
      "d48e9c19903faf971222808b9f89f0cd       1\n",
      "919a4d595ab559d89e2851678a19c7e8       1\n",
      "f420baf129841bb0fb60a7bf9c27fd32       1\n",
      "a2d8669bd4a8f43bb53ce1708ffe27ca       1\n",
      "7be2d4c90bddb0df84198ec5bc01762b       1\n",
      "Name: building_id, Length: 7585, dtype: int64\n",
      "\n",
      "created属性的不同取值和出现的次数\n",
      "2016-05-17 14:29:08    3\n",
      "2016-05-14 05:23:52    3\n",
      "2016-06-12 12:30:28    3\n",
      "2016-05-27 03:59:28    3\n",
      "2016-05-18 01:36:49    3\n",
      "2016-04-08 01:14:27    3\n",
      "2016-05-02 03:41:36    3\n",
      "2016-06-11 01:20:36    3\n",
      "2016-05-14 01:11:03    3\n",
      "2016-06-16 04:08:35    3\n",
      "2016-06-12 13:20:45    3\n",
      "2016-06-05 01:32:36    3\n",
      "2016-04-15 02:24:25    3\n",
      "2016-06-25 01:30:16    3\n",
      "2016-06-21 04:44:43    3\n",
      "2016-06-21 04:19:23    2\n",
      "2016-05-10 03:31:32    2\n",
      "2016-05-28 02:27:15    2\n",
      "2016-04-20 01:22:31    2\n",
      "2016-04-10 02:55:27    2\n",
      "2016-05-06 01:22:38    2\n",
      "2016-06-21 02:57:14    2\n",
      "2016-04-27 03:21:54    2\n",
      "2016-06-22 01:20:58    2\n",
      "2016-04-12 04:14:04    2\n",
      "2016-06-03 01:19:53    2\n",
      "2016-04-16 01:20:47    2\n",
      "2016-06-07 02:56:47    2\n",
      "2016-05-26 01:56:35    2\n",
      "2016-06-14 12:45:03    2\n",
      "                      ..\n",
      "2016-06-14 15:54:01    1\n",
      "2016-04-27 05:25:25    1\n",
      "2016-06-29 05:28:01    1\n",
      "2016-06-29 06:33:56    1\n",
      "2016-06-16 07:51:07    1\n",
      "2016-06-08 04:57:10    1\n",
      "2016-06-09 04:10:39    1\n",
      "2016-05-12 01:41:48    1\n",
      "2016-04-26 05:22:03    1\n",
      "2016-04-16 03:29:52    1\n",
      "2016-05-16 21:15:28    1\n",
      "2016-04-06 06:22:53    1\n",
      "2016-04-06 02:25:51    1\n",
      "2016-04-09 04:48:19    1\n",
      "2016-04-29 06:08:56    1\n",
      "2016-05-05 05:27:38    1\n",
      "2016-06-25 05:31:25    1\n",
      "2016-05-21 03:24:55    1\n",
      "2016-04-17 03:49:58    1\n",
      "2016-05-21 03:27:11    1\n",
      "2016-04-26 12:59:52    1\n",
      "2016-04-06 12:25:17    1\n",
      "2016-04-07 02:56:48    1\n",
      "2016-05-24 06:07:39    1\n",
      "2016-05-03 11:00:28    1\n",
      "2016-06-01 05:28:09    1\n",
      "2016-04-21 02:29:15    1\n",
      "2016-05-05 02:50:40    1\n",
      "2016-05-13 04:53:32    1\n",
      "2016-05-18 03:05:03    1\n",
      "Name: created, Length: 48675, dtype: int64\n",
      "\n",
      "description属性的不同取值和出现的次数\n",
      "                                                                                                                                                                                                                                                                                                                                                                                                                                                                                                                                                                                                                                                                                                                                                                                                                                                                                                                                                                                                                                                                                                                                                                                                                                                                                                                                                                                                                                                                                                                                                                                                                                                                                                                                                                                                                                                                                                                                                                                                                                                                                                                                                                                                                                                                                              1647\n",
      "                                                                                                                                                                                                                                                                                                                                                                                                                                                                                                                                                                                                                                                                                                                                                                                                                                                                                                                                                                                                                                                                                                                                                                                                                                                                                                                                                                                                                                                                                                                                                                                                                                                                                                                                                                                                                                                                                                                                                                                                                                                                                                                                                                                                                                                                                              1446\n",
      "<p><a  website_redacted                                                                                                                                                                                                                                                                                                                                                                                                                                                                                                                                                                                                                                                                                                                                                                                                                                                                                                                                                                                                                                                                                                                                                                                                                                                                                                                                                                                                                                                                                                                                                                                                                                                                                                                                                                                                                                                                                                                                                                                                                                                                                                                                                                                                                                                                        333\n",
      "                                                                                                                                                                                                                                                                                                                                                                                                                                                                                                                                                                                                                                                                                                                                                                                                                                                                                                                                                                                                                                                                                                                                                                                                                                                                                                                                                                                                                                                                                                                                                                                                                                                                                                                                                                                                                                                                                                                                                                                                                                                                                                                                                                                                                                                                                               239\n",
      "A detailed description is coming soon. Please contact your Highline Residential agent with any questions.                                                                                                                                                                                                                                                                                                                                                                                                                                                                                                                                                                                                                                                                                                                                                                                                                                                                                                                                                                                                                                                                                                                                                                                                                                                                                                                                                                                                                                                                                                                                                                                                                                                                                                                                                                                                                                                                                                                                                                                                                                                                                                                                                                                      123\n",
      "These pictures are from a similarlisting.                                                                                                                                                                                                                                                                                                                                                                                                                                                                                                                                                                                                                                                                                                                                                                                                                                                                                                                                                                                                                                                                                                                                                                                                                                                                                                                                                                                                                                                                                                                                                                                                                                                                                                                                                                                                                                                                                                                                                                                                                                                                                                                                                                                                                                                       64\n",
      "I have total market coverage in Manhattan with access to show several thousand available apartments in the city through my real-time database of listings and co-broke network. CONTACT ME FOR AN EXCLUSIVE TOUR OF THIS AND OTHER GREAT APARTMENTS. TWITTER @NYCREAGENT<br /><br />Bond New York is a real estate broker that supports equal housing opportunity.<p><a  website_redacted                                                                                                                                                                                                                                                                                                                                                                                                                                                                                                                                                                                                                                                                                                                                                                                                                                                                                                                                                                                                                                                                                                                                                                                                                                                                                                                                                                                                                                                                                                                                                                                                                                                                                                                                                                                                                                                                                                       36\n",
      "This renovated gorgeous apartment with spacious layout comes with hardwood floors, updated kitchen, updated bathroom, storage space. It is located in a well maintained video security elevator laundry building within a five minute walk to the subway. All buildings come with Bed Bug certifications. Cable and High Speed Internet, Heat and Hot Water Included.  Showing Today! Schedule on-line at:www.MyManhattanapt.com<br/><br/>Schedule your showing today on-line at:www.MyManhattanapt.comShowing times:  8:45am, 10:15am, 11:45am, 1:15pm, 2:45am, 4:15pm, 5:45pm, 6:30pm, 7:30pmRequirements & Documents: Letter of employment, last year's tax return, recent bank statement. Shares ok, guarantors welcome (same documents needed)*No fee conditions apply <br/><br/><br/><br/><p>                                                                                                                                                                                                                                                                                                                                                                                                                                                                                                                                                                                                                                                                                                                                                                                                                                                                                                                                                                                                                                                                                                                                                                                                                                                                                                                                                                                                                                                                                             33\n",
      "Modern renovations throughout, with flowing spacious layout, updated electric wiring, hardwood floors, updated kitchen, updated bathroom, storage space. It is located in a well maintained video security elevator laundry building within a five minute walk to the subway. All buildings come with Bed Bug certifications. Cable and High Speed Internet, Heat and Hot Water Included. Showing Today! Schedule on-line at:www.MyManhattanapt.com<br/><br/>Schedule your showing today on-line at:www.MyManhattanapt.comShowing times:  8:45am, 10:15am,11:45am, 1:15pm, 2:45am, 4:15pm, 5:45pm, 6:30pm, 7:30pmRequirements & Documents: Letter of employment, last year's tax return, recent bank statement. Shares ok, guarantors welcome (same documents needed)*No fee conditions apply <br/><br/><br/><br/><p>                                                                                                                                                                                                                                                                                                                                                                                                                                                                                                                                                                                                                                                                                                                                                                                                                                                                                                                                                                                                                                                                                                                                                                                                                                                                                                                                                                                                                                                                           32\n",
      "StuyTown offers an unbeatable combination of city energy and community tranquility. Conveniently located next to the East Village and Gramercy, the apartments are newly renovated, featuring hardwood floors, high ceilings, and custom, modern kitchens &amp; bathrooms. Our no-fee, pet friendly community offers incredible amenities: a full-service onsite concierge, state of the art gym, 15 recreation areas &amp; playgrounds, and 80 acres of beautifully landscaped green space.                                                                                                                                                                                                                                                                                                                                                                                                                                                                                                                                                                                                                                                                                                                                                                                                                                                                                                                                                                                                                                                                                                                                                                                                                                                                                                                                                                                                                                                                                                                                                                                                                                                                                                                                                                                                    30\n",
      "Actual Apartment Photos<br /><br />Bond New York is a real estate broker that supports equal housing opportunity.<p><a  website_redacted                                                                                                                                                                                                                                                                                                                                                                                                                                                                                                                                                                                                                                                                                                                                                                                                                                                                                                                                                                                                                                                                                                                                                                                                                                                                                                                                                                                                                                                                                                                                                                                                                                                                                                                                                                                                                                                                                                                                                                                                                                                                                                                                                        27\n",
      "????????For?? the best apartment match up, kindly email me your moving date. I have access to all apartments currently on the market, on our Bond New York website (www.bondnewyork.com), and company exclusives updated in our real time database. To schedule now an exclusive appointment to view this apartments contact John Montalvan CALL/TEXT 890-051-2229 or e-mail kagglemanager@renthop.com ??<br /><br />Bond New York is a real estate broker that supports equal housing opportunity.<p><a  website_redacted                                                                                                                                                                                                                                                                                                                                                                                                                                                                                                                                                                                                                                                                                                                                                                                                                                                                                                                                                                                                                                                                                                                                                                                                                                                                                                                                                                                                                                                                                                                                                                                                                                                                                                                                                                      25\n",
      "Actual apartment photos<br /><br />Bond New York is a real estate broker that supports equal housing opportunity.<p><a  website_redacted                                                                                                                                                                                                                                                                                                                                                                                                                                                                                                                                                                                                                                                                                                                                                                                                                                                                                                                                                                                                                                                                                                                                                                                                                                                                                                                                                                                                                                                                                                                                                                                                                                                                                                                                                                                                                                                                                                                                                                                                                                                                                                                                                        24\n",
      "Easy Access and Easy approval. Feel free to call or email me with any questions or to schedule a private showing of this unit. I also have several other similar units in the surrounding area                                                                                                                                                                                                                                                                                                                                                                                                                                                                                                                                                                                                                                                                                                                                                                                                                                                                                                                                                                                                                                                                                                                                                                                                                                                                                                                                                                                                                                                                                                                                                                                                                                                                                                                                                                                                                                                                                                                                                                                                                                                                                                  23\n",
      "Comfortable spacious renovated apartment, with modern kitchen, modern bathroom, hardwood floors updated kitchen, updated bathroom, storage space. It is located in a well maintained video security elevator laundry building within a five minute walk to the subway. All buildings come with Bed Bug certifications. Cable and High Speed Internet, Heat and Hot Water Included. Showing Today! Schedule on-line at:www.MyManhattanapt.com<br/><br/>Schedule your showing today on-line at:www.MyManhattanapt.comShowing times:  8:45am, 10:15am, 11:45am, 1:15pm, 2:45am, 4:15pm, 5:45pm, 6:30pm, 7:30pmRequirements & Documents: Letter of employment, last year's tax return, recent bank statement. Shares ok, guarantors welcome (same documents needed)*No fee conditions apply <br/><br/><br/><br/><p>                                                                                                                                                                                                                                                                                                                                                                                                                                                                                                                                                                                                                                                                                                                                                                                                                                                                                                                                                                                                                                                                                                                                                                                                                                                                                                                                                                                                                                                                                 19\n",
      "I have an access to show several thousand available apartments in the city through my real- time database of listings and co-broke network. Call me for a showing to this and other beautiful Manhattan apartments. Sincerely Tasnuva<br /><br />Bond New York is a real estate broker that supports equal housing opportunity.<p><a  website_redacted                                                                                                                                                                                                                                                                                                                                                                                                                                                                                                                                                                                                                                                                                                                                                                                                                                                                                                                                                                                                                                                                                                                                                                                                                                                                                                                                                                                                                                                                                                                                                                                                                                                                                                                                                                                                                                                                                                                                          18\n",
      "JUST LISTED, NEW TO MARKET!View it before you lose it. Call now to learn more about the Low-Fee Guarantee Doc?s access to every apartment in Manhattan, gives his clients a distinct advantage.Yes, he has access to other broker exclusives too! View Doc?s 5-Star Reviews and read how his clients saved time and money finding a home in NYC.<br /><br /><br /><br /><br /><br /><p><a  website_redacted                                                                                                                                                                                                                                                                                                                                                                                                                                                                                                                                                                                                                                                                                                                                                                                                                                                                                                                                                                                                                                                                                                                                                                                                                                                                                                                                                                                                                                                                                                                                                                                                                                                                                                                                                                                                                                                                                     17\n",
      "For immediate access call Bryan.<br /><br />Bond New York is a real estate broker that supports equal housing opportunity.<p><a  website_redacted                                                                                                                                                                                                                                                                                                                                                                                                                                                                                                                                                                                                                                                                                                                                                                                                                                                                                                                                                                                                                                                                                                                                                                                                                                                                                                                                                                                                                                                                                                                                                                                                                                                                                                                                                                                                                                                                                                                                                                                                                                                                                                                                               16\n",
      "I have total market coverage in Manhattan with access to show nearly every available listing in the city through my real-time database of listings and co-broke network. CONTACT ME FOR AN EXCLUSIVE TOUR OF THIS AND OTHER GREAT APARTMENTS. <br /><br />Bond New York is a real estate broker that supports equal housing opportunity.<p><a  website_redacted                                                                                                                                                                                                                                                                                                                                                                                                                                                                                                                                                                                                                                                                                                                                                                                                                                                                                                                                                                                                                                                                                                                                                                                                                                                                                                                                                                                                                                                                                                                                                                                                                                                                                                                                                                                                                                                                                                                                 15\n",
      "Beautiful  1BR in the Upper East Side** If you have any questions or would like to schedule a showing please call or email anytime between 7am-Midnight, Mon-Sun. I have more available apartments ranging from studios to five bedrooms in the surrounding area. Contact Milos kagglemanager@renthop.com, 480-948-2890  Looking forward to hearing from you. **<br /><br />Bond New York is a real estate broker that supports equal housing opportunity.<p><a  website_redacted                                                                                                                                                                                                                                                                                                                                                                                                                                                                                                                                                                                                                                                                                                                                                                                                                                                                                                                                                                                                                                                                                                                                                                                                                                                                                                                                                                                                                                                                                                                                                                                                                                                                                                                                                                                                               14\n",
      "        This beautiful 2 bedroom in the heart of Stuyvesant Town is a must see! The stunning 2 bedroom apartment has been beautifully renovated and features hardwood floors, high ceilings, and custom, modern kitchens & bathrooms.<br />This apartment will not last for long! Call or email today for your exclusive viewing. Our phone number is 295-732-3904.                                                                                                                                                                                                                                                                                                                                                                                                                                                                                                                                                                                                                                                                                                                                                                                                                                                                                                                                                                                                                                                                                                                                                                                                                                                                                                                                                                                                                                                                                                                                                                                                                                                                                                                                                                                                                                                                                                                             14\n",
      "Kings &amp; Queens NO FEE Apartments are located in the most desirable neighborhoods of Brooklyn and Queens and convenient to shopping, restaurants and major transportation hubs. All buildings feature elevators, central laundry facilities and spacious apartments with wood flooring throughout. Many buildings offer on-site parking and apartments with balconies, charming pre-war details and renovated kitchens and bathrooms.                                                                                                                                                                                                                                                                                                                                                                                                                                                                                                                                                                                                                                                                                                                                                                                                                                                                                                                                                                                                                                                                                                                                                                                                                                                                                                                                                                                                                                                                                                                                                                                                                                                                                                                                                                                                                                                        14\n",
      "Spacious floor plans and sweeping waterfront views define these NO FEE apartments located in one of the finest locations on the Hudson River. Situated on Jersey Citys spectacular Hudson River Waterfront  directly across from Manhattan - the luxury residences at Newport offer fabulous amenities and unparalleled value.                                                                                                                                                                                                                                                                                                                                                                                                                                                                                                                                                                                                                                                                                                                                                                                                                                                                                                                                                                                                                                                                                                                                                                                                                                                                                                                                                                                                                                                                                                                                                                                                                                                                                                                                                                                                                                                                                                                                                                  14\n",
      "The perfect place to call home! Fantastic location. Contact me for total market coverage through our real-time database. I have access to nearly every available apartments in Manhattan. For immediate access to this and other similar apartments, feel free to reach me any time.<br /><br />Bond New York is a real estate broker that supports equal housing opportunity.<p><a  website_redacted                                                                                                                                                                                                                                                                                                                                                                                                                                                                                                                                                                                                                                                                                                                                                                                                                                                                                                                                                                                                                                                                                                                                                                                                                                                                                                                                                                                                                                                                                                                                                                                                                                                                                                                                                                                                                                                                                           13\n",
      "I would love to work with you! I have all apartments available though Bond New York's website. This includes all apartments listed on Bond New York's website and any Exclusives. Please contact me through my phone number or email kagglemanager@renthop.com I look forward to meeting with you and helping you find your new home.<br /><br />Bond New York is a real estate broker that supports equal housing opportunity.<p><a  website_redacted                                                                                                                                                                                                                                                                                                                                                                                                                                                                                                                                                                                                                                                                                                                                                                                                                                                                                                                                                                                                                                                                                                                                                                                                                                                                                                                                                                                                                                                                                                                                                                                                                                                                                                                                                                                                                                          13\n",
      "Contact me today to see this apartment or any other apartment in our database. Let me help you find your new home!                                                                                                                                                                                                                                                                                                                                                                                                                                                                                                                                                                                                                                                                                                                                                                                                                                                                                                                                                                                                                                                                                                                                                                                                                                                                                                                                                                                                                                                                                                                                                                                                                                                                                                                                                                                                                                                                                                                                                                                                                                                                                                                                                                              13\n",
      "        Please contact, If interested<br />Or,<br />For all listings visit our website www.NYCRentalMarket.com                                                                                                                                                                                                                                                                                                                                                                                                                                                                                                                                                                                                                                                                                                                                                                                                                                                                                                                                                                                                                                                                                                                                                                                                                                                                                                                                                                                                                                                                                                                                                                                                                                                                                                                                                                                                                                                                                                                                                                                                                                                                                                                                                                                  13\n",
      "With access to nearly all Manhattan apartments through my Real-Time Database, I will find the Perfect Place for you!For an Exclusive Tour, Contact me at:  kagglemanager@renthop.com or  (934-265-9635  George Skouros<br /><br />Bond New York is a real estate broker that supports equal housing opportunity.<p><a  website_redacted                                                                                                                                                                                                                                                                                                                                                                                                                                                                                                                                                                                                                                                                                                                                                                                                                                                                                                                                                                                                                                                                                                                                                                                                                                                                                                                                                                                                                                                                                                                                                                                                                                                                                                                                                                                                                                                                                                                                                         12\n",
      "Beautiful  1BR in the Midtown West<br /><br />Bond New York is a real estate broker that supports equal housing opportunity.<p><a  website_redacted                                                                                                                                                                                                                                                                                                                                                                                                                                                                                                                                                                                                                                                                                                                                                                                                                                                                                                                                                                                                                                                                                                                                                                                                                                                                                                                                                                                                                                                                                                                                                                                                                                                                                                                                                                                                                                                                                                                                                                                                                                                                                                                                             12\n",
      "Located on east 20s,  in Prime Kips Bay, steps from Murray Hill and Gramercy .<br /><br />Oversized 1 bedroom apartment featuring king size bedroom, chef's kitchen with dishwasher and microwave, oversized windows , ample closets.<br /><br />24H doorman, elevator<br /><br /><p><a  website_redacted                                                                                                                                                                                                                                                                                                                                                                                                                                                                                                                                                                                                                                                                                                                                                                                                                                                                                                                                                                                                                                                                                                                                                                                                                                                                                                                                                                                                                                                                                                                                                                                                                                                                                                                                                                                                                                                                                                                                                                                       11\n",
      "                                                                                                                                                                                                                                                                                                                                                                                                                                                                                                                                                                                                                                                                                                                                                                                                                                                                                                                                                                                                                                                                                                                                                                                                                                                                                                                                                                                                                                                                                                                                                                                                                                                                                                                                                                                                                                                                                                                                                                                                                                                                                                                                                                                                                                                                                              ... \n",
      "SOPHISTICATED studio in Murray Hill...short distance to trains, shops, restaurants and bars...AMAZING location.<br /><br />Bond New York is a real estate broker that supports equal housing opportunity.<p><a  website_redacted                                                                                                                                                                                                                                                                                                                                                                                                                                                                                                                                                                                                                                                                                                                                                                                                                                                                                                                                                                                                                                                                                                                                                                                                                                                                                                                                                                                                                                                                                                                                                                                                                                                                                                                                                                                                                                                                                                                                                                                                                                                                 1\n",
      "Super Luxury Building.Fully furnished apartment till End of July.Option to do new 1 year lease for a different price.$3000 plus utilities.<br /><br /><br /><br /><br /><br /><br /><br /><br /><br /><br /><br /><br /><br /><br /><br /><br /><br /><p><a  website_redacted                                                                                                                                                                                                                                                                                                                                                                                                                                                                                                                                                                                                                                                                                                                                                                                                                                                                                                                                                                                                                                                                                                                                                                                                                                                                                                                                                                                                                                                                                                                                                                                                                                                                                                                                                                                                                                                                                                                                                                                                                    1\n",
      "Enjoy This Beautifully Updated Apartment Home With Pre-War Details, 2 Bedrooms And 2 Bathrooms. This Luxurious Apartment Features A Sunk-In Living Room, New Stainless Steel Appliances, In-Unit Washer and Dryer And Hardwood Floors. No Expenses Spared With Your Brand New Kitchen Featuring Carrina Caesarstone Countertops And Italian Crafted Scavolini Cabinets. Truly A Gracious Layout With Impeccable Details. Call/Email Or Text Today To Schedule An Appointment.***NO BROKER FEE****Pictures depict typical apartment finishes in the building.*Price and any concessions can change at any time without a prior notice, and are subject to availability.<br><p><img src= \" website_redacted width=\"1\" height=\"1\" /><ul><li><a target=_blank href= website_redacted Barbara Franklin for more information</a> </li><li><a target=_blank href= website_redacted full listing information on elliman.com</a> </li></ul></p>                                                                                                                                                                                                                                                                                                                                                                                                                                                                                                                                                                                                                                                                                                                                                                                                                                                                                                                                                                                                                                                                                                                                                                                                                                                                                                                                                           1\n",
      "Welcome to the most exclusive home you will find in Midtown Manhattan. \\rOver-sized windows, bright exposures, and breathtaking city views make this two bedroom apartment truly spectacular. \\rTake a stroll in Central Park, enjoy the entertainment of Time Square, go shopping on 5th Avenue, enjoy some of the city’s best restaurants or simply stay at home and work-out at the state-of-the-art Fitness Center or relax in the steam room and get a massage. \\rThat’s not all, this building features floor-to-ceiling and corner windows, granite kitchen countertops, cherry cabinetry, stainless steel appliances, baths with imported Italian marble, a 24-Hour Doorman and Concierge, attended Parking, Valet, and available Maid Service. Still not convinced? \\rThe club includes a cinema room for private screenings, business center, conference room and an exclusive residential lounge & café-all surrounded by a spacious and breathtaking fully landscaped 10,000-square foot sun deck.\\r                                                                                                                                                                                                                                                                                                                                                                                                                                                                                                                                                                                                                                                                                                                                                                                                                                                                                                                                                                                                                                                                                                                                                                                                                                                                                 1\n",
      "This 1 bedroom apartment has been nicely renovated with new kitchen appliances, a queen sized bedroom with great closet space and the apartment is sun drenched.  The building features an elevator, laundry and is located on 83rd street in the heart of the Upper East Side.  Call John @ 944-887-9869<br /><br />Bond New York is a real estate broker that supports equal housing opportunity.<p><a  website_redacted                                                                                                                                                                                                                                                                                                                                                                                                                                                                                                                                                                                                                                                                                                                                                                                                                                                                                                                                                                                                                                                                                                                                                                                                                                                                                                                                                                                                                                                                                                                                                                                                                                                                                                                                                                                                                                                                       1\n",
      "Spectacular 1 Bedroom that receives a great amount of natural light and benefits from dual exposure in bedroom. Enjoy a lovely spacious living area with classic Pre-War exposed cross beams. Large kitchen with window, granite countertops, and high grade stainless steel appliances, that benefit from gas/electric being included in your rent! Bedroom has dual exposure and has beautiful exposed cross beams. Ample closest space throughout, an absolute steal for the price. (This is a genuine listing, all photos are of this exact apartment, not of similar units in same building.)<br /><br />This luxury building is located in the heart of The West Village and offers all of the culture and attractions that you would expect from it. You will enjoy a 24 hour doorman,and a laundry facility. Easy trasportation via the 1,A,C,E,B,D,F,M and PATH trains is only a few minutes walk away<br /><br />Available now! This apartment will not last. For more information call, text or email Oswald for a private and personalized showing. He looks forward to speaking with you.<br /><br /><p><a  website_redacted                                                                                                                                                                                                                                                                                                                                                                                                                                                                                                                                                                                                                                                                                                                                                                                                                                                                                                                                                                                                                                                                                                                                                        1\n",
      "        This is a beautiful, newly renovated one bedroom, one bath apartment in an elevator building.<br /><br />Featuring hardwood floors and nice, bright kitchen.<br /><br />Conveniently located near the 205th St stop on the D train and the Gun Hill stop on the 2/5 trains.<br /><br />Call today to set up your personal showing!<br /><br />Call or text us to set up your personal tour today!                                                                                                                                                                                                                                                                                                                                                                                                                                                                                                                                                                                                                                                                                                                                                                                                                                                                                                                                                                                                                                                                                                                                                                                                                                                                                                                                                                                                                                                                                                                                                                                                                                                                                                                                                                                                                                                                                        1\n",
      "[ The Apartment ] - AMAZING FLEX 3 with conversion reaching ceiling! Large kitchen with newly updated cabinetry, White GE appliances, gas cooking range, dishwasher, and plenty of counter space. 1.5 baths both Marble from top to bottom and over sized mirrors with extra storage. The apartment faces NORTH from 26th floor with gorgeous East River views, allowing a ton of radiant light to fill the apartment. One of a kind unit for midtown east.<br /><br />[ The Building ] - Gorgeous Sutton place doorman building recessed back from curb with lush outdoor garden area, laundry, 24hr concierge service, valet, bike storage, and live in super.<br /><br />Call or Email for Showing Nick Sliva917 376 kagglemanager@renthop.com<br /><br /><br /><br /><br /><br /><br /><br /><br /><br /><p><a  website_redacted                                                                                                                                                                                                                                                                                                                                                                                                                                                                                                                                                                                                                                                                                                                                                                                                                                                                                                                                                                                                                                                                                                                                                                                                                                                                                                                                                                                                                                                             1\n",
      "Amazing one bedroom apt with tons of space. Bring all of your furniture. Apt boast bright shiny redone hardwood floors,newly renovated kitchen with full sized stainless steel appliances. Walls of large windows thru out apt allowing lots of bright natural light in. Enormous living room space with high vaulted ceilings. Large king sized bedroom with space for bedroom furniture. Great apt for luxury and space.<br /><br />Grand doorman building located in prime west village location. Full service elevator building with laundry room and Gym. Free 1 year gym membership also being offered. Located near train station and crosstown buses.<br /><br />Come and enjoy this prime west village location. Lots of amazing restaurants to choose from. Lots of neighborhood character with small boutique shops. Never miss a beat with nightlife attractions in nearby meatpacking district. Truly the perfect location.<br /><br />My name is Joshua Pizarro,i have been an east village/lower east side native for 33 years. I love to share my city knowledge with my clients and truly show what an amazing place New York is.<br /><br />-------------Listing courtesy of Miron Properties. All material herein is intended for information purposes only and has been compiled from sources deemed reliable. Though information is believed to be correct, it is presented subject to errors, omissions, changes or withdrawal without notice.  Miron Properties is a licensed Real Estate Broker.  www.MironProperties.com<p><a  website_redacted                                                                                                                                                                                                                                                                                                                                                                                                                                                                                                                                                                                                                                                                                                                         1\n",
      "Huge, bright brand new gut renovation. Tons of character in this charming unit. Exposed brick, massive layout. Large (king sized) 2 bedroom located on a high floor in a well maintained elevator building. Brand new granite kitchen with stainless steel appliances. Tons of closets scattered throughout. Updated marble bath. Great for shares! Building is west of Broadway and close to all mass transit. Venture out to broadway for the wonderful array of fine dining and nightlife. Tons of coffee shops and park nearby.Easy 20 minute access to Midtown Manhattan.<br /><br />Heat and water included. Live in super and laundry in the building.<br /><br />For exclusive viewing contact Roy at kagglemanager@renthop.com or call 267-988-8267<br /><br /><p><a  website_redacted                                                                                                                                                                                                                                                                                                                                                                                                                                                                                                                                                                                                                                                                                                                                                                                                                                                                                                                                                                                                                                                                                                                                                                                                                                                                                                                                                                                                                                                                                                  1\n",
      "NO FEE! INCREDIBLE HUGE 2BR/2BA**W/D*D/WTwo Bedroom/ Two Bath Newly renovated two bedroom, two bath with Stainless steel appliances, hardwood Floors, granite counter tops, Washer/ Dryer unit, marble bathroom, recessed lighting & lots of living space.<br /><br />Bond New York is a real estate broker that supports equal housing opportunity.<p><a  website_redacted                                                                                                                                                                                                                                                                                                                                                                                                                                                                                                                                                                                                                                                                                                                                                                                                                                                                                                                                                                                                                                                                                                                                                                                                                                                                                                                                                                                                                                                                                                                                                                                                                                                                                                                                                                                                                                                                                                                      1\n",
      "NO FEE!!! Great size alcove studio features hardwood floors, lots of light, good closet space, separate white cabinet kitchen with dishwasher and microwave, new marble bath. Located close to everything!Great neighborhood with plenty of shops and restaurants, Riverside park, M15 SBS.Well maintained building has elevator and laundry and part time doorman. NO FEE - best deal! Contact Vlada Babenko 950-073-5354 to see this unit today<br /><br /><br /><br /><br /><br /><br /><br /><br /><br /><p><a  website_redacted                                                                                                                                                                                                                                                                                                                                                                                                                                                                                                                                                                                                                                                                                                                                                                                                                                                                                                                                                                                                                                                                                                                                                                                                                                                                                                                                                                                                                                                                                                                                                                                                                                                                                                                                                             1\n",
      "**ULTRA LUXURY APT -- Full Wall-- CONV 3BR/2BA**-- W/D UNIT -- BEAUTIFUL MODERN RENOVATED -- CONVERTIBLE 3BR/2BA (TRUE XL 2BR/2BA) features all STAINLESS STEEL APPLIANCES/DISHWASHER Granite Kitchen -- MARBLE BATHROOM -- HARDWOOD FLOOR **2 TERRACES**-- one month free on 13 month lease.<br /><br />ULTRA LUXURY building provides outstanding AMENITIES -- 24/7 DM & CONCIERGE -- XL FULLY EQUIPPED GYM --FURNISHED 360 DEGREE PANORAMIC VIEWS ROOF DECK -- GAME ROOM & LOUNGE -- ONSITE PARKING-- Living only few steps from Time Square, not just amazing but ULTRA CONVENIENT. Access to MULTPLE TRAIN LINES. Wherever you go, you can start from here. **Why wait? Schedule now for SHOWING!!**I SPECIALIZE in all NO FEE apartments in the area, Feel free to contact me to SCHEDULE AN EXCLUSIVE TOUR FOR YOUR DREAM HOME. Angelus 923-819-6973 kagglemanager@renthop.com<br /><br /><br /><br /><p><a  website_redacted                                                                                                                                                                                                                                                                                                                                                                                                                                                                                                                                                                                                                                                                                                                                                                                                                                                                                                                                                                                                                                                                                                                                                                                                                                                                                                                                                             1\n",
      "ONE MONTH FREE BRAND NEW LUXURY BUILDING ROOF DECK GYM W/D IN UNIT!!!NEW CONSTRUCTION, LUXURY BUILDING IN THE HEART OF MIDTOWN EAST. AN EASY 5 MINUTE WALK TO THE UNITED NATIONS, HISTORIC GRAND CENRAL STAITION AND THE CHRYSLER BUILDING. A beautiful contemporary lobby will welcome you into the Manhattan Experience!!! Amenities: 24/7 Hour Concierge -2 Elevators -Residence Lounge -Rooftop Terrace with stunning Manhattan views!!! -In Home Wash & Dryers -Dishwasher -Floor to ceiling windows -Wood Floors -WiFi in Common Areas -Multiple Nearby Parking Garages -Pet Friendly<br /><br />Ultra luxury large, 1bath, with private Terrace! Just steps to Grand Central and city views throughout this unit. Floor to Ceiling Windows in all units, Oversized Windows, Custom Wood Flooring, Stunning Manhattan Views Terraces with Glass Balcony Railings, Spacious Closets, Air Conditioning and Heating with Thermostat Control for each room, In-Home Washer and DryerLiving: Kitchen:Stainless Steel Appliances, Dishwasher, Microwave, Signature Buccaneve Italian Countertops. The room is large and spacey and will easily fit a queen size bed and have extra space for more furniture *LIMITED OFFER*!!! NO EXTRA CHARGE FOR AMENITIES!!! FREE HEALTH CLUB!!! NO ADDITIONAL FEE FOR PETS!!! Units will rent quickly.FOR AN EXCLUSIVE VIEWING FOR THIS LISTING OR ANY OTHER LUXURY 1,2,3, ROOMS IN THE AREA CONTACT ME . -price is net effective-<br /><br />LEAH WUBNECH326-169-9245 kagglemanager@renthop.com<br /><br /><p><a  website_redacted                                                                                                                                                                                                                                                                                                                                                                                                                                                                                                                                                                                                                                                                                                                          1\n",
      "Upon immediately entering the large foyer, you will notice the large California-style closet providing an efficient storage solution for the apartment. On your left sits the separate, brand new, pass-thru gourmet kitchen, fully equipped with granite counters, custom cabinetry, stainless steel GE appliances (including a dishwasher, refrigerator, stove, microwave, and ventilation system). Enclosed by a separating wall, and more closets lies the full bathroom featuring a marble-tile finish and a beautifully curated large vanity mirror.<br /><br />The apartment already contains a separate, TRUE single bedroom (including its own large closet space). The large living room (300 square foot) is an effortless FLEX-2 conversion, creating in total three bedrooms, very comfortably. With substantial remaining space for a living quarters, you can decide where to situate any accommodating furniture (couch, coffee table, etc). Large over-sized windows on the Eastern exposure flood the hardwood floors with natural light and provide fascinating views of the Brooklyn Bridge, South St Seaport, and surrounding waterscape.<br /><br />Settled on Water St, you are surrounded by an endless amount of options in terms of fine dining, shopping, culture and activities. South St Seaport is across the street from your doorsteps. 55 Fulton Market is conveniently located one block to the North. Titanic Memorial Park is across the street. NYC's historic Financial District and all its attractions are a five minute walk to the South-West. Transit options surround the area, with the primary hub being the newly renovated Fulton Street Station (operational 24 hours a day) where you can catch eight different train lines (including 2, 3, 4, 5, A, C, J, Z).<br /><br />To schedule a private showing for this and similar NO FEE units, contact John Vakalopoulos at (501-606-3449 or via email at kagglemanager@renthop.com<p><a  website_redacted                                                                                                                                                                                                                                                                                        1\n",
      "Large, renovated 2 bedroom available for rent on West 98th street in the Upper West Side of Manhattan. Located between Amsterdam Avenue and Broadway, this prewar mid rise elevator building is convenient to the 1 train , Whole Foods, Westside Market, dry cleaners, shops and plenty of restaurants. The apartment has bright exposures, King-size bedrooms that can fit additional furniture, a spacious living room, a beautiful updated kitchen, recessed lighting and a beautiful bathroom. Great exposures with lots of windows in the apartment. Great natural light. Available Immediately. Cats OK No Dogs. Contact me today to see this apartment or any other rental in the Citi Habitats database. Let me help you find your next home!                                                                                                                                                                                                                                                                                                                                                                                                                                                                                                                                                                                                                                                                                                                                                                                                                                                                                                                                                                                                                                                                                                                                                                                                                                                                                                                                                                                                                                                                                                                                           1\n",
      "Fantastic location with super close proximity to Grand Central Station!! Luxury building with laundry, gym, doorman and valet service, for when you need to send your laundry out!! Home to loads of shopping options and a plethora of dining choices as well!!!<br /><br />This is a convertible 3 bedroom apartment which boasts tons of shared space and sizable bedrooms!! There are stainless steel appliances, marble bath, hardwood floors throughout and lots of natural sunlight which pours through the windows!!!<br /><br />Must see this NO FEE apartment today!!! Please call or email Jennifer Oppedisano at 828-194-2155/ kagglemanager@renthop.com today to schedule a time to visit!!!<br /><br /><p><a  website_redacted                                                                                                                                                                                                                                                                                                                                                                                                                                                                                                                                                                                                                                                                                                                                                                                                                                                                                                                                                                                                                                                                                                                                                                                                                                                                                                                                                                                                                                                                                                                                                     1\n",
      "+ HUGE and BRIGHT! Massive 2 Bedroom Apartment takes up the entire floor + 1000 Square Feet of Space + New Renovation throughout with Lots of Closet Space, Eat-In Kitchen, Granite Countertops, Stainless Steel Appliances and King Size Bedrooms + Call/Text Poe at 427-132-4850 or E-mail kagglemanager@renthop.com to see this residence and others across New York City today! + ???? - ?? - ???<br /><br />Bond New York is a real estate broker that supports equal housing opportunity.<p><a  website_redacted                                                                                                                                                                                                                                                                                                                                                                                                                                                                                                                                                                                                                                                                                                                                                                                                                                                                                                                                                                                                                                                                                                                                                                                                                                                                                                                                                                                                                                                                                                                                                                                                                                                                                                                                                                           1\n",
      "Spacious one bedroom unit with north views.  Features an entry foyer, dining alcove, and ample closet space.<br><p><img src= \" website_redacted width=\"1\" height=\"1\" /><ul><li><a target=_blank href= website_redacted Afsaneh Hay Gabbay for more information</a> </li><li><a target=_blank href= website_redacted full listing information on elliman.com</a> </li></ul></p>                                                                                                                                                                                                                                                                                                                                                                                                                                                                                                                                                                                                                                                                                                                                                                                                                                                                                                                                                                                                                                                                                                                                                                                                                                                                                                                                                                                                                                                                                                                                                                                                                                                                                                                                                                                                                                                                                                                   1\n",
      "Spacious and sunny Studio located in a beautifully maintained; elevator building . Located on a quiet, tree lined block off Montague Street in the highly desirable Brooklyn Heights Historic District. Cafes, restaurants, grocery stores and retail stores located down the block on Montague. Brooklyn Heights Promenade is also one block away where you can see magnificent views of the Manhattan Skyline. Conveniently located by 2,3,4,5 and R subway lines. Photos of a similar unit in the building. Actual photos up shortly. Contact me for a viewing today!<br><p><img src= \" website_redacted width=\"1\" height=\"1\" /><ul><li><a target=_blank href= website_redacted Lina Chen for more information</a> </li><li><a target=_blank href= website_redacted full listing information on elliman.com</a> </li></ul></p>                                                                                                                                                                                                                                                                                                                                                                                                                                                                                                                                                                                                                                                                                                                                                                                                                                                                                                                                                                                                                                                                                                                                                                                                                                                                                                                                                                                                                                                                1\n",
      "Minimum Term is 6 Months<br /><br />BROKER FEE APPLIES<br /><br /><br /><br /><p><a  website_redacted                                                                                                                                                                                                                                                                                                                                                                                                                                                                                                                                                                                                                                                                                                                                                                                                                                                                                                                                                                                                                                                                                                                                                                                                                                                                                                                                                                                                                                                                                                                                                                                                                                                                                                                                                                                                                                                                                                                                                                                                                                                                                                                                                                                            1\n",
      "Bright Modern 2 Br Hardwood Floors Eat in Kitchen Lot of Light<br /><br />Bond New York is a real estate broker that supports equal housing opportunity.<p><a  website_redacted                                                                                                                                                                                                                                                                                                                                                                                                                                                                                                                                                                                                                                                                                                                                                                                                                                                                                                                                                                                                                                                                                                                                                                                                                                                                                                                                                                                                                                                                                                                                                                                                                                                                                                                                                                                                                                                                                                                                                                                                                                                                                                                  1\n",
      "Beautiful  Stu - Alc in the Midtown West<br /><br />Bond New York is a real estate broker that supports equal housing opportunity.<p><a  website_redacted                                                                                                                                                                                                                                                                                                                                                                                                                                                                                                                                                                                                                                                                                                                                                                                                                                                                                                                                                                                                                                                                                                                                                                                                                                                                                                                                                                                                                                                                                                                                                                                                                                                                                                                                                                                                                                                                                                                                                                                                                                                                                                                                        1\n",
      "This is the ultimate Manhattan rental. This dramatic, black glass tower offers luxury new studio, 1, 2 and 3 bedroom residences with spectacular East River and skyline views from floor to ceiling windows. Amenities include 24 hour doorman and concierge service with indoor swimming pool, massage room, sauna and 24 hour attended garage available. Hardwood floors throughout and full size washer and dryer in every residence. Sure to become the city?s most sought after rental residence.White glove 24-hour doorman and concierge. 24-hour on-site, attended garage available.Many available apartments to view.<br /><br />BUILDING AMENITIES:? Private, tree-lined cobblestone driveway? Glass walled cherry and travertine, tree-framed lobby with expansive concourse entry? Private landscaped park with flowering gardens, specimen trees, seating areas and water feature? State-of-the-art swim and health club available? Health club with garden views includes men and women's locker rooms, dressing areas, sauna and steam showers? Full-size, skylit, indoor swimming pool? English walnut and stainless-steel high-speed elevators? Floor-to-ceiling windowed elevator lobby on each floor? Building-wide WiFi network in common areas? Valet services with escorted deliveries including dry cleaning? Convenient shuttle service to public transportation THE RESIDENCES? The privacy of only six studio, one, two and three bedroom residences per floor? Five magnificent penthouse duplex residences? Spectacular river and skyline views from floor-to-ceiling windows? Solar-paneled windows with custom Levelor treatments? Kitchens with stainless-steel appliances, glass tile backsplashes and custom cabinetry? Full-size Bosch washer/dryer in all residences? Bathrooms with glass tile and Greek marble? Hardwood flooring throughout? Individual heating and air conditioning temperature controls? Wired for high-speed internet, Time Warner Cable and Verizon FiOS<br /><br />Contact me at anytime to schedule an appointment to view this unit. I will also take you on a tour of the other no fee luxury buildings in the area. TO VIEW:CALL / TEXT: @ 498-701-6489EMAIL: kagglemanager@renthop.com<br /><br /><p><a  website_redacted        1\n",
      "This SoHo 1BR is perfect for anyone who loves to entertain or cook!  Newly renovated kitchen with every appliance you need PLUS a washer and dryer in unit.  You can't beat the space and amenities this apartment offers - not to mention the extremely rich hardwood floors and exposed brick your friends will be discussing at your next get together!<br /><br />Beyond the walls of your apartment are PLENTY of the best attractions Soho has to offer. Whether you're checking out the new exhibits at the New Museum, having a cocktail at Leave Rochelle Out of It, or having a fine meal at Public, or food shopping at Whole Foods, you will be sure to make the most out of this incredible spot. Soho's shopping attractions are just moments away too!<br /><br />Contact me for a viewing of this awesome spot- and if it's not for you, I'd be glad to use my resources and knowledge of the area to find your new home!<br /><br /><br /><br />-------------Listing courtesy of Miron Properties. All material herein is intended for information purposes only and has been compiled from sources deemed reliable. Though information is believed to be correct, it is presented subject to errors, omissions, changes or withdrawal without notice.  Miron Properties is a licensed Real Estate Broker.  www.MironProperties.com<p><a  website_redacted                                                                                                                                                                                                                                                                                                                                                                                                                                                                                                                                                                                                                                                                                                                                                                                                                                                                                                                      1\n",
      "Enjoy living in this two bedroom gem in the heart of Tribeca with a Balcony! This luxury high-rise features the most exhilarating & breathtaking views of Manhattan & the Hudson River. Also, the proximity to Duane Park, shopping & award-winning New York City restaurants enables you to enjoy the full Tribeca experience!<br /><br />Building Amenities:?Fitness Center & Children's Playroom?Equinox gym's partnership for discounted memberships?On-site parking ?Bike Room?Swimming pool ?On-site storage ?Pet friendly<br /><br />Call, text or email Jonathan for showings anytime! C:752-724-0334 E:kagglemanager@renthop.com<br /><br /><p><a  website_redacted                                                                                                                                                                                                                                                                                                                                                                                                                                                                                                                                                                                                                                                                                                                                                                                                                                                                                                                                                                                                                                                                                                                                                                                                                                                                                                                                                                                                                                                                                                                                                                                                                     1\n",
      "This one of a king Luxury elevator building is located with in a walking distance from all the best that NYC have to offer! One block from all the great restaurants and shopping centers, two blocks from Union Square Subway station! Massive flex 3 bedroom apartment, fully renovated with brand new hardwood floor throughout the apartment, Big windows in each room that brings in tons of natural sun light, closet space in each room, wash and dryer in the unit,new modern kitchen with black counter top and Stainless Steel Appliances including a dishwasher and a microwave and a privet balcony. To schedule a viewing, Contact Lia Mor by Phone, Text or Email at: Lia Mor 793-976-7133  or kagglemanager@renthop.com<br /><br /><br /><br /><br /><br /><p><a  website_redacted                                                                                                                                                                                                                                                                                                                                                                                                                                                                                                                                                                                                                                                                                                                                                                                                                                                                                                                                                                                                                                                                                                                                                                                                                                                                                                                                                                                                                                                                                                1\n",
      "Spacious 2 bedroom apartment with tile flooring throughout, 2 queen sized bedrooms! Beautiful bathroom with stunning tile throughout. <br /><br />Located 5 minutes from 30th Avenue which boasts numerous cafe/lounges, grocery stores, restaurants and much more.  N/Q trains are also extremely close by which take you to midtown Manhattan in minutes!<br /><br />For a private showing please contact Antonios at 100-173-6621 or email at kagglemanager@renthop.com<br /><br /><p><a  website_redacted                                                                                                                                                                                                                                                                                                                                                                                                                                                                                                                                                                                                                                                                                                                                                                                                                                                                                                                                                                                                                                                                                                                                                                                                                                                                                                                                                                                                                                                                                                                                                                                                                                                                                                                                                                                    1\n",
      "        Stunning high floor one bedroom with 20' 9&quot; x 13' living space, magnificently integrated state of the art kitchen with stainless steel appliances and Bosch washer/ dryer.                                                                                                                                                                                                                                                                                                                                                                                                                                                                                                                                                                                                                                                                                                                                                                                                                                                                                                                                                                                                                                                                                                                                                                                                                                                                                                                                                                                                                                                                                                                                                                                                                                                                                                                                                                                                                                                                                                                                                                                                                                                                                                          1\n",
      "This 2 bedroom apartment is located in the booming area of West Harlem. The apartment is located in a pre-war voice intercom elevator building. The apartment features a spacious living space, large queen size bedrooms,hardwood floors, closets spread throughout the apartment, a kitchen with modern appliances and upgraded counter-top. The classic bathroom features retro molding with a full size bath tub. Pets and guarantors allowed. Lets make this beauty your next home!                                                                                                                                                                                                                                                                                                                                                                                                                                                                                                                                                                                                                                                                                                                                                                                                                                                                                                                                                                                                                                                                                                                                                                                                                                                                                                                                                                                                                                                                                                                                                                                                                                                                                                                                                                                                         1\n",
      "Name: description, Length: 38244, dtype: int64\n",
      "\n",
      "display_address属性的不同取值和出现的次数\n",
      "Broadway                                                               438\n",
      "East 34th Street                                                       355\n",
      "Second Avenue                                                          349\n",
      "Wall Street                                                            332\n",
      "West 37th Street                                                       287\n",
      "West Street                                                            258\n",
      "First Avenue                                                           244\n",
      "Gold Street                                                            241\n",
      "Washington Street                                                      237\n",
      "York Avenue                                                            228\n",
      "John Street                                                            214\n",
      "Water Street                                                           214\n",
      "East 39th Street                                                       200\n",
      "East 89th Street                                                       195\n",
      "West 54th Street                                                       193\n",
      "Lexington Avenue                                                       189\n",
      "Fifth Avenue                                                           189\n",
      "West 42nd Street                                                       184\n",
      "Christopher Street                                                     180\n",
      "Third Avenue                                                           178\n",
      "Columbus Avenue                                                        177\n",
      "W 37 St.                                                               176\n",
      "East 35th Street                                                       174\n",
      "West 34th Street                                                       169\n",
      "East 46th Street                                                       167\n",
      "West End Avenue                                                        167\n",
      "East 82nd Street                                                       166\n",
      "East 29th Street                                                       165\n",
      "Thompson Street                                                        156\n",
      "East 88th Street                                                       151\n",
      "                                                                      ... \n",
      "339 E 12th St                                                            1\n",
      "100 Riverside Boulevard                                                  1\n",
      "E 53RD AND 2ND AVE                                                       1\n",
      "233 Madison Street                                                       1\n",
      " West 49th Street                                                        1\n",
      "E. 13th and 1st avenue                                                   1\n",
      "W 16th St,                                                               1\n",
      "5 W 103rd St.                                                            1\n",
      "217 Ralph Av.e                                                           1\n",
      "stunning studio on York!                                                 1\n",
      "63 Wall Street                                                           1\n",
      "35th and 3rd Avenue                                                      1\n",
      "E 36th Street and Lexington Ave                                          1\n",
      "Seneca Avenue                                                            1\n",
      "596 Edgecombe Ave                                                        1\n",
      "The Lucerne 350 East 79th Street                                         1\n",
      "305 w 114 st Apt 3B                                                      1\n",
      "3rd ave                                                                  1\n",
      "E. 69th Street                                                           1\n",
      "Saunders St.                                                             1\n",
      "E 80TH AND 3RD AVE                                                       1\n",
      "KR - Want a place by the water w/ NO FEE? Check this apartment out!      1\n",
      "Kosciuszko St                                                            1\n",
      "31 72nd Street                                                           1\n",
      "20 East 42nd Street                                                      1\n",
      "West 100s/Near Central Park                                              1\n",
      "630 UNION STREET                                                         1\n",
      "232 Elizabeth Street                                                     1\n",
      "W 57th St                                                                1\n",
      " east 5th                                                                1\n"
     ]
    },
    {
     "name": "stdout",
     "output_type": "stream",
     "text": [
      "Name: display_address, Length: 8826, dtype: int64\n",
      "\n",
      "features属性的不同取值和出现的次数\n"
     ]
    },
    {
     "ename": "TypeError",
     "evalue": "unhashable type: 'list'",
     "output_type": "error",
     "traceback": [
      "\u001b[1;31m---------------------------------------------------------------------------\u001b[0m",
      "\u001b[1;31mTypeError\u001b[0m                                 Traceback (most recent call last)",
      "\u001b[1;32m<ipython-input-8-04a9935e3a14>\u001b[0m in \u001b[0;36m<module>\u001b[1;34m()\u001b[0m\n\u001b[0;32m      3\u001b[0m \u001b[1;32mfor\u001b[0m \u001b[0mcol\u001b[0m \u001b[1;32min\u001b[0m \u001b[0mcategorical_features\u001b[0m\u001b[1;33m:\u001b[0m\u001b[1;33m\u001b[0m\u001b[0m\n\u001b[0;32m      4\u001b[0m     \u001b[0mprint\u001b[0m \u001b[1;33m(\u001b[0m\u001b[1;34m'\\n%s属性的不同取值和出现的次数'\u001b[0m\u001b[1;33m%\u001b[0m\u001b[0mcol\u001b[0m\u001b[1;33m)\u001b[0m\u001b[1;33m\u001b[0m\u001b[0m\n\u001b[1;32m----> 5\u001b[1;33m     \u001b[0mprint\u001b[0m \u001b[1;33m(\u001b[0m\u001b[0mtrain\u001b[0m\u001b[1;33m[\u001b[0m\u001b[0mcol\u001b[0m\u001b[1;33m]\u001b[0m\u001b[1;33m.\u001b[0m\u001b[0mvalue_counts\u001b[0m\u001b[1;33m(\u001b[0m\u001b[1;33m)\u001b[0m\u001b[1;33m)\u001b[0m\u001b[1;33m\u001b[0m\u001b[0m\n\u001b[0m",
      "\u001b[1;32mC:\\ProgramData\\Anaconda3\\lib\\site-packages\\pandas\\core\\base.py\u001b[0m in \u001b[0;36mvalue_counts\u001b[1;34m(self, normalize, sort, ascending, bins, dropna)\u001b[0m\n\u001b[0;32m    936\u001b[0m         \u001b[1;32mfrom\u001b[0m \u001b[0mpandas\u001b[0m\u001b[1;33m.\u001b[0m\u001b[0mcore\u001b[0m\u001b[1;33m.\u001b[0m\u001b[0malgorithms\u001b[0m \u001b[1;32mimport\u001b[0m \u001b[0mvalue_counts\u001b[0m\u001b[1;33m\u001b[0m\u001b[0m\n\u001b[0;32m    937\u001b[0m         result = value_counts(self, sort=sort, ascending=ascending,\n\u001b[1;32m--> 938\u001b[1;33m                               normalize=normalize, bins=bins, dropna=dropna)\n\u001b[0m\u001b[0;32m    939\u001b[0m         \u001b[1;32mreturn\u001b[0m \u001b[0mresult\u001b[0m\u001b[1;33m\u001b[0m\u001b[0m\n\u001b[0;32m    940\u001b[0m \u001b[1;33m\u001b[0m\u001b[0m\n",
      "\u001b[1;32mC:\\ProgramData\\Anaconda3\\lib\\site-packages\\pandas\\core\\algorithms.py\u001b[0m in \u001b[0;36mvalue_counts\u001b[1;34m(values, sort, ascending, normalize, bins, dropna)\u001b[0m\n\u001b[0;32m    638\u001b[0m \u001b[1;33m\u001b[0m\u001b[0m\n\u001b[0;32m    639\u001b[0m         \u001b[1;32melse\u001b[0m\u001b[1;33m:\u001b[0m\u001b[1;33m\u001b[0m\u001b[0m\n\u001b[1;32m--> 640\u001b[1;33m             \u001b[0mkeys\u001b[0m\u001b[1;33m,\u001b[0m \u001b[0mcounts\u001b[0m \u001b[1;33m=\u001b[0m \u001b[0m_value_counts_arraylike\u001b[0m\u001b[1;33m(\u001b[0m\u001b[0mvalues\u001b[0m\u001b[1;33m,\u001b[0m \u001b[0mdropna\u001b[0m\u001b[1;33m)\u001b[0m\u001b[1;33m\u001b[0m\u001b[0m\n\u001b[0m\u001b[0;32m    641\u001b[0m \u001b[1;33m\u001b[0m\u001b[0m\n\u001b[0;32m    642\u001b[0m             \u001b[1;32mif\u001b[0m \u001b[1;32mnot\u001b[0m \u001b[0misinstance\u001b[0m\u001b[1;33m(\u001b[0m\u001b[0mkeys\u001b[0m\u001b[1;33m,\u001b[0m \u001b[0mIndex\u001b[0m\u001b[1;33m)\u001b[0m\u001b[1;33m:\u001b[0m\u001b[1;33m\u001b[0m\u001b[0m\n",
      "\u001b[1;32mC:\\ProgramData\\Anaconda3\\lib\\site-packages\\pandas\\core\\algorithms.py\u001b[0m in \u001b[0;36m_value_counts_arraylike\u001b[1;34m(values, dropna)\u001b[0m\n\u001b[0;32m    683\u001b[0m         \u001b[1;31m# TODO: handle uint8\u001b[0m\u001b[1;33m\u001b[0m\u001b[1;33m\u001b[0m\u001b[0m\n\u001b[0;32m    684\u001b[0m         \u001b[0mf\u001b[0m \u001b[1;33m=\u001b[0m \u001b[0mgetattr\u001b[0m\u001b[1;33m(\u001b[0m\u001b[0mhtable\u001b[0m\u001b[1;33m,\u001b[0m \u001b[1;34m\"value_count_{dtype}\"\u001b[0m\u001b[1;33m.\u001b[0m\u001b[0mformat\u001b[0m\u001b[1;33m(\u001b[0m\u001b[0mdtype\u001b[0m\u001b[1;33m=\u001b[0m\u001b[0mndtype\u001b[0m\u001b[1;33m)\u001b[0m\u001b[1;33m)\u001b[0m\u001b[1;33m\u001b[0m\u001b[0m\n\u001b[1;32m--> 685\u001b[1;33m         \u001b[0mkeys\u001b[0m\u001b[1;33m,\u001b[0m \u001b[0mcounts\u001b[0m \u001b[1;33m=\u001b[0m \u001b[0mf\u001b[0m\u001b[1;33m(\u001b[0m\u001b[0mvalues\u001b[0m\u001b[1;33m,\u001b[0m \u001b[0mdropna\u001b[0m\u001b[1;33m)\u001b[0m\u001b[1;33m\u001b[0m\u001b[0m\n\u001b[0m\u001b[0;32m    686\u001b[0m \u001b[1;33m\u001b[0m\u001b[0m\n\u001b[0;32m    687\u001b[0m         \u001b[0mmask\u001b[0m \u001b[1;33m=\u001b[0m \u001b[0misnull\u001b[0m\u001b[1;33m(\u001b[0m\u001b[0mvalues\u001b[0m\u001b[1;33m)\u001b[0m\u001b[1;33m\u001b[0m\u001b[0m\n",
      "\u001b[1;32mpandas\\_libs\\hashtable_func_helper.pxi\u001b[0m in \u001b[0;36mpandas._libs.hashtable.value_count_object\u001b[1;34m()\u001b[0m\n",
      "\u001b[1;32mpandas\\_libs\\hashtable_func_helper.pxi\u001b[0m in \u001b[0;36mpandas._libs.hashtable.value_count_object\u001b[1;34m()\u001b[0m\n",
      "\u001b[1;31mTypeError\u001b[0m: unhashable type: 'list'"
     ]
    }
   ],
   "source": [
    "#对类别型特征，观察其取值范围及直方图\n",
    "categorical_features = train.select_dtypes(include = [\"object\"]).columns\n",
    "for col in categorical_features:\n",
    "    print ('\\n%s属性的不同取值和出现的次数'%col)\n",
    "    print (train[col].value_counts())"
   ]
  },
  {
   "cell_type": "code",
   "execution_count": null,
   "metadata": {
    "scrolled": false
   },
   "outputs": [],
   "source": [
    "## 各属性的统计特性\n",
    "train.describe()"
   ]
  },
  {
   "cell_type": "code",
   "execution_count": 9,
   "metadata": {},
   "outputs": [
    {
     "data": {
      "text/html": [
       "<div>\n",
       "<style>\n",
       "    .dataframe thead tr:only-child th {\n",
       "        text-align: right;\n",
       "    }\n",
       "\n",
       "    .dataframe thead th {\n",
       "        text-align: left;\n",
       "    }\n",
       "\n",
       "    .dataframe tbody tr th {\n",
       "        vertical-align: top;\n",
       "    }\n",
       "</style>\n",
       "<table border=\"1\" class=\"dataframe\">\n",
       "  <thead>\n",
       "    <tr style=\"text-align: right;\">\n",
       "      <th></th>\n",
       "      <th>bathrooms</th>\n",
       "      <th>bedrooms</th>\n",
       "      <th>building_id</th>\n",
       "      <th>created</th>\n",
       "      <th>description</th>\n",
       "      <th>display_address</th>\n",
       "      <th>features</th>\n",
       "      <th>latitude</th>\n",
       "      <th>listing_id</th>\n",
       "      <th>longitude</th>\n",
       "      <th>manager_id</th>\n",
       "      <th>photos</th>\n",
       "      <th>price</th>\n",
       "      <th>street_address</th>\n",
       "    </tr>\n",
       "  </thead>\n",
       "  <tbody>\n",
       "    <tr>\n",
       "      <th>0</th>\n",
       "      <td>1.0</td>\n",
       "      <td>1</td>\n",
       "      <td>79780be1514f645d7e6be99a3de696c5</td>\n",
       "      <td>2016-06-11 05:29:41</td>\n",
       "      <td>Large with awesome terrace--accessible via bed...</td>\n",
       "      <td>Suffolk Street</td>\n",
       "      <td>[Elevator, Laundry in Building, Laundry in Uni...</td>\n",
       "      <td>40.7185</td>\n",
       "      <td>7142618</td>\n",
       "      <td>-73.9865</td>\n",
       "      <td>b1b1852c416d78d7765d746cb1b8921f</td>\n",
       "      <td>[https://photos.renthop.com/2/7142618_1c45a2c8...</td>\n",
       "      <td>2950</td>\n",
       "      <td>99 Suffolk Street</td>\n",
       "    </tr>\n",
       "    <tr>\n",
       "      <th>1</th>\n",
       "      <td>1.0</td>\n",
       "      <td>2</td>\n",
       "      <td>0</td>\n",
       "      <td>2016-06-24 06:36:34</td>\n",
       "      <td>Prime Soho - between Bleecker and Houston - Ne...</td>\n",
       "      <td>Thompson Street</td>\n",
       "      <td>[Pre-War, Dogs Allowed, Cats Allowed]</td>\n",
       "      <td>40.7278</td>\n",
       "      <td>7210040</td>\n",
       "      <td>-74.0000</td>\n",
       "      <td>d0b5648017832b2427eeb9956d966a14</td>\n",
       "      <td>[https://photos.renthop.com/2/7210040_d824cc71...</td>\n",
       "      <td>2850</td>\n",
       "      <td>176 Thompson Street</td>\n",
       "    </tr>\n",
       "    <tr>\n",
       "      <th>100</th>\n",
       "      <td>1.0</td>\n",
       "      <td>1</td>\n",
       "      <td>3dbbb69fd52e0d25131aa1cd459c87eb</td>\n",
       "      <td>2016-06-03 04:29:40</td>\n",
       "      <td>New York chic has reached a new level ...</td>\n",
       "      <td>101 East 10th Street</td>\n",
       "      <td>[Doorman, Elevator, No Fee]</td>\n",
       "      <td>40.7306</td>\n",
       "      <td>7103890</td>\n",
       "      <td>-73.9890</td>\n",
       "      <td>9ca6f3baa475c37a3b3521a394d65467</td>\n",
       "      <td>[https://photos.renthop.com/2/7103890_85b33077...</td>\n",
       "      <td>3758</td>\n",
       "      <td>101 East 10th Street</td>\n",
       "    </tr>\n",
       "    <tr>\n",
       "      <th>1000</th>\n",
       "      <td>1.0</td>\n",
       "      <td>2</td>\n",
       "      <td>783d21d013a7e655bddc4ed0d461cc5e</td>\n",
       "      <td>2016-06-11 06:17:35</td>\n",
       "      <td>Step into this fantastic new Construction in t...</td>\n",
       "      <td>South Third Street\\r</td>\n",
       "      <td>[Roof Deck, Balcony, Elevator, Laundry in Buil...</td>\n",
       "      <td>40.7109</td>\n",
       "      <td>7143442</td>\n",
       "      <td>-73.9571</td>\n",
       "      <td>0b9d5db96db8472d7aeb67c67338c4d2</td>\n",
       "      <td>[https://photos.renthop.com/2/7143442_0879e9e0...</td>\n",
       "      <td>3300</td>\n",
       "      <td>251  South Third Street\\r</td>\n",
       "    </tr>\n",
       "    <tr>\n",
       "      <th>100000</th>\n",
       "      <td>2.0</td>\n",
       "      <td>2</td>\n",
       "      <td>6134e7c4dd1a98d9aee36623c9872b49</td>\n",
       "      <td>2016-04-12 05:24:17</td>\n",
       "      <td>~Take a stroll in Central Park, enjoy the ente...</td>\n",
       "      <td>Midtown West, 8th Ave</td>\n",
       "      <td>[Common Outdoor Space, Cats Allowed, Dogs Allo...</td>\n",
       "      <td>40.7650</td>\n",
       "      <td>6860601</td>\n",
       "      <td>-73.9845</td>\n",
       "      <td>b5eda0eb31b042ce2124fd9e9fcfce2f</td>\n",
       "      <td>[https://photos.renthop.com/2/6860601_c96164d8...</td>\n",
       "      <td>4900</td>\n",
       "      <td>260 West 54th Street</td>\n",
       "    </tr>\n",
       "  </tbody>\n",
       "</table>\n",
       "</div>"
      ],
      "text/plain": [
       "        bathrooms  bedrooms                       building_id  \\\n",
       "0             1.0         1  79780be1514f645d7e6be99a3de696c5   \n",
       "1             1.0         2                                 0   \n",
       "100           1.0         1  3dbbb69fd52e0d25131aa1cd459c87eb   \n",
       "1000          1.0         2  783d21d013a7e655bddc4ed0d461cc5e   \n",
       "100000        2.0         2  6134e7c4dd1a98d9aee36623c9872b49   \n",
       "\n",
       "                    created  \\\n",
       "0       2016-06-11 05:29:41   \n",
       "1       2016-06-24 06:36:34   \n",
       "100     2016-06-03 04:29:40   \n",
       "1000    2016-06-11 06:17:35   \n",
       "100000  2016-04-12 05:24:17   \n",
       "\n",
       "                                              description  \\\n",
       "0       Large with awesome terrace--accessible via bed...   \n",
       "1       Prime Soho - between Bleecker and Houston - Ne...   \n",
       "100             New York chic has reached a new level ...   \n",
       "1000    Step into this fantastic new Construction in t...   \n",
       "100000  ~Take a stroll in Central Park, enjoy the ente...   \n",
       "\n",
       "              display_address  \\\n",
       "0              Suffolk Street   \n",
       "1             Thompson Street   \n",
       "100      101 East 10th Street   \n",
       "1000     South Third Street\\r   \n",
       "100000  Midtown West, 8th Ave   \n",
       "\n",
       "                                                 features  latitude  \\\n",
       "0       [Elevator, Laundry in Building, Laundry in Uni...   40.7185   \n",
       "1                   [Pre-War, Dogs Allowed, Cats Allowed]   40.7278   \n",
       "100                           [Doorman, Elevator, No Fee]   40.7306   \n",
       "1000    [Roof Deck, Balcony, Elevator, Laundry in Buil...   40.7109   \n",
       "100000  [Common Outdoor Space, Cats Allowed, Dogs Allo...   40.7650   \n",
       "\n",
       "        listing_id  longitude                        manager_id  \\\n",
       "0          7142618   -73.9865  b1b1852c416d78d7765d746cb1b8921f   \n",
       "1          7210040   -74.0000  d0b5648017832b2427eeb9956d966a14   \n",
       "100        7103890   -73.9890  9ca6f3baa475c37a3b3521a394d65467   \n",
       "1000       7143442   -73.9571  0b9d5db96db8472d7aeb67c67338c4d2   \n",
       "100000     6860601   -73.9845  b5eda0eb31b042ce2124fd9e9fcfce2f   \n",
       "\n",
       "                                                   photos  price  \\\n",
       "0       [https://photos.renthop.com/2/7142618_1c45a2c8...   2950   \n",
       "1       [https://photos.renthop.com/2/7210040_d824cc71...   2850   \n",
       "100     [https://photos.renthop.com/2/7103890_85b33077...   3758   \n",
       "1000    [https://photos.renthop.com/2/7143442_0879e9e0...   3300   \n",
       "100000  [https://photos.renthop.com/2/6860601_c96164d8...   4900   \n",
       "\n",
       "                   street_address  \n",
       "0               99 Suffolk Street  \n",
       "1             176 Thompson Street  \n",
       "100          101 East 10th Street  \n",
       "1000    251  South Third Street\\r  \n",
       "100000       260 West 54th Street  "
      ]
     },
     "execution_count": 9,
     "metadata": {},
     "output_type": "execute_result"
    }
   ],
   "source": [
    "# 读取测试数据\n",
    "# path to where the data lies\n",
    "dpath = '../../data/'\n",
    "test = pd.read_json(dpath +\"RentListingInquries_test.json\")\n",
    "test.head()"
   ]
  },
  {
   "cell_type": "code",
   "execution_count": 10,
   "metadata": {},
   "outputs": [
    {
     "name": "stdout",
     "output_type": "stream",
     "text": [
      "<class 'pandas.core.frame.DataFrame'>\n",
      "Int64Index: 74659 entries, 0 to 99999\n",
      "Data columns (total 14 columns):\n",
      "bathrooms          74659 non-null float64\n",
      "bedrooms           74659 non-null int64\n",
      "building_id        74659 non-null object\n",
      "created            74659 non-null object\n",
      "description        74659 non-null object\n",
      "display_address    74659 non-null object\n",
      "features           74659 non-null object\n",
      "latitude           74659 non-null float64\n",
      "listing_id         74659 non-null int64\n",
      "longitude          74659 non-null float64\n",
      "manager_id         74659 non-null object\n",
      "photos             74659 non-null object\n",
      "price              74659 non-null int64\n",
      "street_address     74659 non-null object\n",
      "dtypes: float64(3), int64(3), object(8)\n",
      "memory usage: 8.5+ MB\n"
     ]
    }
   ],
   "source": [
    "test.info()"
   ]
  },
  {
   "cell_type": "markdown",
   "metadata": {},
   "source": [
    "## 计算资源原因，只取500个样本进行试验"
   ]
  },
  {
   "cell_type": "code",
   "execution_count": 13,
   "metadata": {},
   "outputs": [],
   "source": [
    "train=train[0:500]\n",
    "test=test[0:500]"
   ]
  },
  {
   "cell_type": "code",
   "execution_count": 15,
   "metadata": {},
   "outputs": [],
   "source": [
    "from scipy import sparse\n",
    "from sklearn import preprocessing\n",
    "from sklearn.feature_extraction.text import CountVectorizer"
   ]
  },
  {
   "cell_type": "code",
   "execution_count": 17,
   "metadata": {
    "collapsed": true
   },
   "outputs": [],
   "source": [
    "features_to_use = [\"bathrooms\",\"bedrooms\",\"latitude\",\"longitude\",\"price\"]"
   ]
  },
  {
   "cell_type": "code",
   "execution_count": 18,
   "metadata": {},
   "outputs": [],
   "source": [
    "# 照片数量(num_photos)\n",
    "train['num_photos']=train['photos'].apply(len)\n",
    "test['num_photos']=test['photos'].apply(len)\n",
    "# 特征数量\n",
    "train['num_features']=train['features'].apply(len)\n",
    "test['num_features']=test['features'].apply(len)\n",
    "# 描述词汇数量\n",
    "train['num_description_words'] = train['description'].apply(lambda x: len(x.split(\" \")))\n",
    "test['num_description_words'] = test['description'].apply(lambda x: len(x.split(\" \")))\n",
    "#把创建的时间分解为多个特征        \n",
    "train['created']=pd.to_datetime(train['created'])\n",
    "test['created']=pd.to_datetime(test['created'])\n",
    " \n",
    "#让我们从时间中分解出一些特征，比如年，月，日，时\n",
    "#年\n",
    "train['created_year'] = train['created'].dt.year\n",
    "test['created_year'] = test['created'].dt.year\n",
    "#月\n",
    "train['created_month'] = train['created'].dt.month\n",
    "test['created_month'] = test['created'].dt.month\n",
    "#日\n",
    "train['created_day'] = train['created'].dt.day\n",
    "test['created_day'] = test['created'].dt.day\n",
    "#时\n",
    "train['created_hour'] = train['created'].dt.hour\n",
    "test['created_hour'] = test['created'].dt.hour\n",
    "#把这些特征都放到所需特征列表中（上面已经创建，并加入了数值型特征） \n",
    "features_to_use.extend([\"num_photos\",\"num_features\",\"num_description_words\",\"created_year\",\"created_month\",\"created_day\",\"created_hour\",\"listing_id\"])\n"
   ]
  },
  {
   "cell_type": "code",
   "execution_count": 19,
   "metadata": {
    "collapsed": true
   },
   "outputs": [],
   "source": [
    "categorical = [\"display_address\",\"manager_id\",'building_id',\"street_address\"]\n",
    "for f in categorical:\n",
    "    if train[f].dtype == 'object':\n",
    "        lbl = preprocessing.LabelEncoder()\n",
    "        lbl.fit(list(train[f].values)+list(test[f].values))\n",
    "        train[f] = lbl.transform(list(train[f].values))\n",
    "        test[f] = lbl.transform(list(test[f].values))\n",
    "        features_to_use.append(f)"
   ]
  },
  {
   "cell_type": "code",
   "execution_count": 20,
   "metadata": {},
   "outputs": [
    {
     "name": "stdout",
     "output_type": "stream",
     "text": [
      "10                                                        \n",
      "10000    Doorman Elevator Fitness_Center Cats_Allowed D...\n",
      "Name: features, dtype: object\n",
      "0    Elevator Laundry_in_Building Laundry_in_Unit D...\n",
      "1                    Pre-War Dogs_Allowed Cats_Allowed\n",
      "Name: features, dtype: object\n"
     ]
    }
   ],
   "source": [
    "\n",
    "train[\"features\"] = train[\"features\"].apply(lambda x:\" \".join([\"_\".join(i.split(\" \"))for i in x]))\n",
    "print (train['features'].head(2))\n",
    "test['features'] = test[\"features\"].apply(lambda x: \" \".join([\"_\".join(i.split(\" \"))for i in x]))\n",
    "print (test['features'].head(2))"
   ]
  },
  {
   "cell_type": "code",
   "execution_count": 21,
   "metadata": {
    "collapsed": true
   },
   "outputs": [],
   "source": [
    "tfidf = CountVectorizer(stop_words =\"english\",max_features=200)\n",
    "tr_sparse = tfidf.fit_transform(train[\"features\"])\n",
    "te_sparse = tfidf.transform(test[\"features\"])"
   ]
  },
  {
   "cell_type": "code",
   "execution_count": 23,
   "metadata": {},
   "outputs": [],
   "source": [
    "X_train = sparse.hstack([train[features_to_use],tr_sparse]).tocsr()\n",
    "test = sparse.hstack([test[features_to_use],te_sparse]).tocsr()"
   ]
  },
  {
   "cell_type": "code",
   "execution_count": 25,
   "metadata": {},
   "outputs": [
    {
     "name": "stdout",
     "output_type": "stream",
     "text": [
      "(500, 140) (500, 140) (500,)\n"
     ]
    }
   ],
   "source": [
    "target_num_map = {'high':0 , 'medium':1 , 'low':2}\n",
    "y_train = np.array(train['interest_level'].apply(lambda x: target_num_map[x]))\n",
    "print (X_train.shape,X_test.shape,y_train.shape)"
   ]
  },
  {
   "cell_type": "markdown",
   "metadata": {},
   "source": [
    "## 数据集划分"
   ]
  },
  {
   "cell_type": "code",
   "execution_count": 26,
   "metadata": {
    "collapsed": true
   },
   "outputs": [],
   "source": [
    "def data_set_split(X,Y):\n",
    "    from sklearn.cross_validation import train_test_split\n",
    "    #random_state=42 保证每次分组一致，保证模型稳定\n",
    "    X_train, X_test, y_train,y_test = train_test_split(X, Y, test_size=0.2) \n",
    "    return X_train, X_test, y_train, y_test\n"
   ]
  },
  {
   "cell_type": "code",
   "execution_count": 28,
   "metadata": {},
   "outputs": [
    {
     "name": "stderr",
     "output_type": "stream",
     "text": [
      "C:\\ProgramData\\Anaconda3\\lib\\site-packages\\sklearn\\cross_validation.py:41: DeprecationWarning: This module was deprecated in version 0.18 in favor of the model_selection module into which all the refactored classes and functions are moved. Also note that the interface of the new CV iterators are different from that of this module. This module will be removed in 0.20.\n",
      "  \"This module will be removed in 0.20.\", DeprecationWarning)\n"
     ]
    }
   ],
   "source": [
    "X_train, X_test, y_train, y_test=data_set_split(X_train,y_train)\n"
   ]
  },
  {
   "cell_type": "markdown",
   "metadata": {},
   "source": [
    "## 数据预处理"
   ]
  },
  {
   "cell_type": "code",
   "execution_count": 30,
   "metadata": {
    "collapsed": true
   },
   "outputs": [],
   "source": [
    "# 数据标准化\n",
    "#from sklearn.preprocessing import StandardScaler\n",
    "\n",
    "# 初始化特征的标准化器\n",
    "#ss_X = StandardScaler()\n",
    "\n",
    "# 分别对训练和测试数据的特征进行标准化处理\n",
    "#X_train = ss_X.fit_transform(X_train)\n",
    "#X_test = ss_X.transform(X_test)\n"
   ]
  },
  {
   "cell_type": "markdown",
   "metadata": {},
   "source": [
    "将0.2的数据作为测试集"
   ]
  },
  {
   "cell_type": "code",
   "execution_count": 31,
   "metadata": {
    "scrolled": true
   },
   "outputs": [
    {
     "name": "stdout",
     "output_type": "stream",
     "text": [
      "(400, 140) (100, 140)\n"
     ]
    }
   ],
   "source": [
    "print(X_train.shape,X_test.shape)"
   ]
  },
  {
   "cell_type": "markdown",
   "metadata": {},
   "source": [
    "## 模型训练"
   ]
  },
  {
   "cell_type": "markdown",
   "metadata": {},
   "source": [
    "### default Logistic Regression"
   ]
  },
  {
   "cell_type": "code",
   "execution_count": 32,
   "metadata": {
    "collapsed": true
   },
   "outputs": [],
   "source": [
    "from sklearn.linear_model import LogisticRegression\n",
    "lr= LogisticRegression()"
   ]
  },
  {
   "cell_type": "code",
   "execution_count": 33,
   "metadata": {
    "collapsed": true,
    "scrolled": false
   },
   "outputs": [],
   "source": [
    "# 交叉验证用于评估模型性能和进行参数调优（模型选择）\n",
    "#分类任务中交叉验证缺省是采用StratifiedKFold\n",
    "from sklearn.cross_validation import cross_val_score\n",
    "loss = cross_val_score(lr, X_train, y_train, cv=5, scoring='neg_log_loss')"
   ]
  },
  {
   "cell_type": "code",
   "execution_count": 34,
   "metadata": {},
   "outputs": [
    {
     "name": "stdout",
     "output_type": "stream",
     "text": [
      "logloss of each fold is:  [0.76623813 0.8145553  0.84967036 0.80053726 0.74296988]\n",
      "cv logloss is: 0.7947941865922405\n"
     ]
    }
   ],
   "source": [
    "print ('logloss of each fold is: ',-loss)\n",
    "print ('cv logloss is:', -loss.mean())"
   ]
  },
  {
   "cell_type": "markdown",
   "metadata": {},
   "source": [
    "### 正则化的 Logistic Regression及参数调优"
   ]
  },
  {
   "cell_type": "markdown",
   "metadata": {},
   "source": [
    "logistic回归的需要调整超参数有：C（正则系数，一般在log域（取log后的值）均匀设置候选参数）和正则函数penalty（L2/L1） \n",
    "目标函数为：J = sum(logloss(f(xi), yi)) + C* penalty \n",
    "\n",
    "在sklearn框架下，不同学习器的参数调整步骤相同：\n",
    "设置候选参数集合\n",
    "调用GridSearchCV\n",
    "调用fit"
   ]
  },
  {
   "cell_type": "markdown",
   "metadata": {},
   "source": [
    "### 用LogisticRegressionCV实现正则化的 Logistic Regression"
   ]
  },
  {
   "cell_type": "markdown",
   "metadata": {},
   "source": [
    "### L1正则"
   ]
  },
  {
   "cell_type": "code",
   "execution_count": 79,
   "metadata": {
    "scrolled": true
   },
   "outputs": [
    {
     "data": {
      "text/plain": [
       "LogisticRegressionCV(Cs=[0.1, 0.2, 0.3, 0.4, 0.5, 0.6, 0.7, 0.8, 0.9, 1.0, 1.1, 1.2, 1.3, 1.4, 1.5, 1.6, 1.7, 1.8, 1.9, 2.0, 2.1, 2.2, 2.3, 2.4, 2.5, 2.6, 2.7, 2.8, 2.9, 3.0, 3.1, 3.2, 3.3, 3.4, 3.5, 3.6, 3.7, 3.8, 3.9, 4.0, 4.1, 4.2, 4.3, 4.4, 4.5, 4.6, 4.7, 4.8, 4.9, 5.0, 5.1, 5.2, 5.3, 5.4, 5.5, 5.6, 5.7, 5.8, 5.9, 6.0, 6.1, 6.2, 6.3, 6.4, 6.5, 6.6, 6.7, 6.8, 6.9, 7.0, 7.1, 7.2, 7.3, 7.4, 7.5, 7.6, 7.7, 7.8, 7.9, 8.0, 8.1, 8.2, 8.3, 8.4, 8.5, 8.6, 8.7, 8.8, 8.9, 9.0, 9.1, 9.2, 9.3, 9.4, 9.5, 9.6, 9.7, 9.8, 9.9],\n",
       "           class_weight=None, cv=5, dual=False, fit_intercept=True,\n",
       "           intercept_scaling=1.0, max_iter=100, multi_class='ovr',\n",
       "           n_jobs=1, penalty='l1', random_state=None, refit=True,\n",
       "           scoring='neg_log_loss', solver='liblinear', tol=0.0001,\n",
       "           verbose=0)"
      ]
     },
     "execution_count": 79,
     "metadata": {},
     "output_type": "execute_result"
    }
   ],
   "source": [
    "from sklearn.linear_model import LogisticRegressionCV\n",
    "\n",
    "#Cs = [1e-06, 1e-05, 0.0001, 0.001, 0.01, 0.1,1,10,100,1000]\n",
    "Cs=[i/10 for i in range(1,100)]\n",
    "# LogisticRegressionCV比GridSearchCV快\n",
    "lrcv_L1 = LogisticRegressionCV(Cs=Cs, cv = 5, scoring='neg_log_loss', penalty='l1', solver='liblinear')\n",
    "lrcv_L1.fit(X_train, y_train)    "
   ]
  },
  {
   "cell_type": "code",
   "execution_count": 80,
   "metadata": {
    "scrolled": true
   },
   "outputs": [
    {
     "data": {
      "text/plain": [
       "{1: array([[-0.51625396, -0.52646867, -0.53270669, -0.53644476, -0.53873574,\n",
       "         -0.54029789, -0.54145358, -0.54235322, -0.54307242, -0.5436578 ,\n",
       "         -0.54413776, -0.54460259, -0.54499888, -0.54534916, -0.54565312,\n",
       "         -0.54591682, -0.54615688, -0.5463634 , -0.5465542 , -0.54672729,\n",
       "         -0.54687968, -0.54701573, -0.54714846, -0.54726912, -0.54738774,\n",
       "         -0.54748737, -0.54757121, -0.54766765, -0.5477511 , -0.54782393,\n",
       "         -0.54789099, -0.54796587, -0.54803026, -0.54808736, -0.54814855,\n",
       "         -0.5481986 , -0.54824926, -0.5482913 , -0.54833977, -0.54838822,\n",
       "         -0.54842953, -0.5484693 , -0.54850244, -0.54854005, -0.54857054,\n",
       "         -0.548597  , -0.54863305, -0.54866959, -0.54869864, -0.54872408,\n",
       "         -0.54876054, -0.54877099, -0.54880573, -0.54882755, -0.54884599,\n",
       "         -0.54887208, -0.54889364, -0.54891334, -0.54893575, -0.54895386,\n",
       "         -0.54896095, -0.5489937 , -0.54901399, -0.54903102, -0.54903859,\n",
       "         -0.54906206, -0.54907455, -0.54908667, -0.54909656, -0.54911538,\n",
       "         -0.54912417, -0.5491466 , -0.54915499, -0.54917527, -0.54918559,\n",
       "         -0.54919401, -0.54920626, -0.54920919, -0.54923394, -0.54923819,\n",
       "         -0.54924676, -0.54925844, -0.54926591, -0.54927024, -0.5492879 ,\n",
       "         -0.54929626, -0.54930413, -0.54931851, -0.54932106, -0.54932701,\n",
       "         -0.54934696, -0.54934965, -0.54935445, -0.5493657 , -0.54936335,\n",
       "         -0.54937943, -0.54938118, -0.54939417, -0.54940139],\n",
       "        [-0.49258757, -0.48294691, -0.47703938, -0.47412406, -0.47253248,\n",
       "         -0.4715302 , -0.47085283, -0.47036363, -0.46998955, -0.46969927,\n",
       "         -0.46947178, -0.46928516, -0.46911976, -0.46899039, -0.46887542,\n",
       "         -0.4687805 , -0.4686915 , -0.46861168, -0.46854159, -0.46848078,\n",
       "         -0.46842015, -0.46838318, -0.46833012, -0.46828953, -0.46825691,\n",
       "         -0.46821578, -0.46818621, -0.46815779, -0.46812858, -0.46810138,\n",
       "         -0.46808076, -0.46805825, -0.46803643, -0.46801751, -0.46799964,\n",
       "         -0.46798353, -0.4679673 , -0.46795067, -0.46793404, -0.46792287,\n",
       "         -0.46790796, -0.46789515, -0.467883  , -0.46787598, -0.46786044,\n",
       "         -0.46784751, -0.46783644, -0.46783279, -0.46781928, -0.46781206,\n",
       "         -0.46780625, -0.46779838, -0.46779001, -0.46778009, -0.46777781,\n",
       "         -0.46776649, -0.46776003, -0.46775174, -0.46774843, -0.4677463 ,\n",
       "         -0.46773611, -0.46772967, -0.46772877, -0.4677188 , -0.46771492,\n",
       "         -0.46770589, -0.46770409, -0.46769705, -0.46769482, -0.46769658,\n",
       "         -0.46768402, -0.46768523, -0.46769131, -0.46767576, -0.46767198,\n",
       "         -0.46766587, -0.46766349, -0.46766055, -0.46765696, -0.46765332,\n",
       "         -0.46765333, -0.46764424, -0.46764661, -0.46764279, -0.46763989,\n",
       "         -0.46763707, -0.46763213, -0.4676301 , -0.46762766, -0.46762869,\n",
       "         -0.46762087, -0.46762174, -0.46762096, -0.46761651, -0.46761142,\n",
       "         -0.46761776, -0.46760706, -0.46760695, -0.46760557],\n",
       "        [-0.48459815, -0.47665631, -0.47498648, -0.47436952, -0.47407393,\n",
       "         -0.4739094 , -0.47381088, -0.47374431, -0.47358471, -0.47340173,\n",
       "         -0.47325526, -0.47313724, -0.47303903, -0.47295572, -0.47288234,\n",
       "         -0.47282075, -0.47276809, -0.47272092, -0.4726801 , -0.47264295,\n",
       "         -0.47260603, -0.47257641, -0.47254813, -0.47252318, -0.47249849,\n",
       "         -0.47247777, -0.47245758, -0.472444  , -0.47242415, -0.47240695,\n",
       "         -0.47239252, -0.47237836, -0.47236811, -0.47235437, -0.47234241,\n",
       "         -0.47233452, -0.47232178, -0.47231318, -0.47230427, -0.47229531,\n",
       "         -0.47228959, -0.47228021, -0.4722732 , -0.47226548, -0.47225989,\n",
       "         -0.47225053, -0.47224884, -0.47224121, -0.47223669, -0.47223414,\n",
       "         -0.47222815, -0.47222006, -0.47221533, -0.47221116, -0.47220644,\n",
       "         -0.47220554, -0.47219757, -0.47219442, -0.47218944, -0.47218562,\n",
       "         -0.47218488, -0.47218031, -0.47217596, -0.47217474, -0.47217027,\n",
       "         -0.47216764, -0.47216395, -0.47216316, -0.47216193, -0.47215823,\n",
       "         -0.47215625, -0.47215324, -0.47215195, -0.47214434, -0.47214406,\n",
       "         -0.47214246, -0.47214191, -0.47213674, -0.47213687, -0.47213486,\n",
       "         -0.47212909, -0.47213242, -0.47213121, -0.47212465, -0.47212363,\n",
       "         -0.4721222 , -0.47212189, -0.47211656, -0.47211669, -0.47211612,\n",
       "         -0.47211502, -0.4721135 , -0.47211415, -0.47211335, -0.47210829,\n",
       "         -0.47210905, -0.47210387, -0.47210494, -0.4721033 ],\n",
       "        [-0.48888232, -0.48613786, -0.48639047, -0.4867797 , -0.48687964,\n",
       "         -0.48685461, -0.48686761, -0.48689026, -0.48691956, -0.48694153,\n",
       "         -0.48696773, -0.48699296, -0.4870177 , -0.48703288, -0.48705422,\n",
       "         -0.48707045, -0.48708543, -0.48709847, -0.48711308, -0.48712473,\n",
       "         -0.48713585, -0.48714313, -0.48715638, -0.4871651 , -0.48717507,\n",
       "         -0.48718251, -0.48719057, -0.48719779, -0.48720343, -0.48721009,\n",
       "         -0.48721861, -0.48722231, -0.48722655, -0.48723056, -0.48723524,\n",
       "         -0.48724174, -0.48724579, -0.48724843, -0.48725543, -0.48725601,\n",
       "         -0.4872589 , -0.48726422, -0.48726945, -0.48727182, -0.48727484,\n",
       "         -0.48727391, -0.48727898, -0.48728142, -0.48728316, -0.48728522,\n",
       "         -0.48728832, -0.48729106, -0.4872889 , -0.48729334, -0.48729699,\n",
       "         -0.48729931, -0.48730136, -0.48730354, -0.48730371, -0.48730785,\n",
       "         -0.48730885, -0.48731045, -0.48731136, -0.48731353, -0.48731443,\n",
       "         -0.48731038, -0.48731837, -0.48731753, -0.48731892, -0.48732094,\n",
       "         -0.48732189, -0.48732129, -0.48732585, -0.48732885, -0.48732851,\n",
       "         -0.48733108, -0.48732958, -0.48732864, -0.48733093, -0.48733363,\n",
       "         -0.48733388, -0.48733489, -0.48733538, -0.48733564, -0.48733798,\n",
       "         -0.48733817, -0.48733912, -0.48734149, -0.48734098, -0.48734266,\n",
       "         -0.48734309, -0.48734109, -0.48734254, -0.48734123, -0.48734534,\n",
       "         -0.48734592, -0.48734526, -0.48734944, -0.48734698],\n",
       "        [-0.44347412, -0.42973959, -0.42593232, -0.42421791, -0.42320425,\n",
       "         -0.42255774, -0.4221212 , -0.42179602, -0.42155378, -0.42135117,\n",
       "         -0.42120553, -0.42107935, -0.42097369, -0.42088002, -0.42080048,\n",
       "         -0.42073362, -0.42067313, -0.42062231, -0.42057596, -0.42053187,\n",
       "         -0.42049696, -0.42046338, -0.42043114, -0.42040328, -0.42037311,\n",
       "         -0.42035299, -0.42033166, -0.42031252, -0.4202931 , -0.42027695,\n",
       "         -0.42025859, -0.42023586, -0.42022535, -0.4202143 , -0.42020125,\n",
       "         -0.42018894, -0.42017757, -0.42016493, -0.42015598, -0.42014485,\n",
       "         -0.420137  , -0.4201259 , -0.42011859, -0.42011591, -0.4201013 ,\n",
       "         -0.42009144, -0.42009103, -0.42008516, -0.42007807, -0.42007233,\n",
       "         -0.42006896, -0.42005886, -0.42005124, -0.42004842, -0.42004063,\n",
       "         -0.42004136, -0.42003776, -0.42003247, -0.42002621, -0.42002228,\n",
       "         -0.42001618, -0.42001334, -0.42000921, -0.42000904, -0.42000261,\n",
       "         -0.42000077, -0.41999636, -0.4199906 , -0.41999063, -0.41998916,\n",
       "         -0.41998277, -0.41997996, -0.41998196, -0.41997765, -0.41997509,\n",
       "         -0.41997017, -0.41996602, -0.41996624, -0.41996578, -0.41996371,\n",
       "         -0.41995526, -0.41995577, -0.41995588, -0.41995416, -0.41994937,\n",
       "         -0.41994447, -0.4199455 , -0.41994442, -0.41994214, -0.41993849,\n",
       "         -0.41993683, -0.41993637, -0.4199347 , -0.41993297, -0.41993191,\n",
       "         -0.4199331 , -0.41992991, -0.41992425, -0.41992521]])}"
      ]
     },
     "execution_count": 80,
     "metadata": {},
     "output_type": "execute_result"
    }
   ],
   "source": [
    "lrcv_L1.scores_"
   ]
  },
  {
   "cell_type": "code",
   "execution_count": 81,
   "metadata": {},
   "outputs": [
    {
     "name": "stdout",
     "output_type": "stream",
     "text": [
      "[-0.48515922 -0.48038987 -0.47941107 -0.47918719 -0.47908521 -0.47902997\n",
      " -0.47902122 -0.47902949 -0.479024   -0.4790103  -0.47900761 -0.47901946\n",
      " -0.47902981 -0.47904163 -0.47905312 -0.47906443 -0.479075   -0.47908336\n",
      " -0.47909299 -0.47910152 -0.47910773 -0.47911637 -0.47912285 -0.47913004\n",
      " -0.47913826 -0.47914328 -0.47914745 -0.47915595 -0.47916007 -0.47916386\n",
      " -0.47916829 -0.47917213 -0.47917734 -0.47918082 -0.47918542 -0.47918947\n",
      " -0.47919234 -0.4791937  -0.4791979  -0.47920145 -0.4792046  -0.47920696\n",
      " -0.47920934 -0.47921385 -0.4792134  -0.47921208 -0.47921767 -0.47922204\n",
      " -0.47922317 -0.47922557 -0.47923045 -0.47922787 -0.47923024 -0.47923211\n",
      " -0.47923357 -0.47923696 -0.47923807 -0.4792391  -0.47924071 -0.47924318\n",
      " -0.47924139 -0.47924549 -0.47924786 -0.47924943 -0.47924816 -0.47924935\n",
      " -0.47925146 -0.479251   -0.47925257 -0.47925606 -0.47925382 -0.47925727\n",
      " -0.47926121 -0.47926037 -0.47926104 -0.47926072 -0.47926145 -0.47926027\n",
      " -0.47926489 -0.47926474 -0.47926366 -0.47926515 -0.479267   -0.4792655\n",
      " -0.47926775 -0.47926764 -0.47926855 -0.47927022 -0.47926971 -0.47927059\n",
      " -0.47927256 -0.47927247 -0.47927336 -0.47927395 -0.47927206 -0.47927705\n",
      " -0.47927346 -0.47927595 -0.47927649]\n"
     ]
    },
    {
     "data": {
      "image/png": "[encoded data removed]",
      "text/plain": [
       "<matplotlib.figure.Figure at 0x142436d8>"
      ]
     },
     "metadata": {},
     "output_type": "display_data"
    }
   ],
   "source": [
    "# dict with classes as the keys, and the values as the grid of scores obtained during cross-validating each fold,\n",
    "# Each dict value has shape (n_folds, len(Cs))\n",
    "n_Cs = len(Cs)\n",
    "n_classes = 1\n",
    "scores =  np.zeros((n_classes,n_Cs))\n",
    "print(np.mean(lrcv_L1.scores_[1],axis = 0))\n",
    "\n",
    "scores[0][:] = np.mean(lrcv_L1.scores_[1],axis = 0)\n",
    "    \n",
    "mse_mean = np.mean(scores, axis = 0)\n",
    "plt.plot(np.log10(Cs), mse_mean.reshape(n_Cs,1)) \n",
    "#plt.plot(np.log10(reg.Cs)*np.ones(3), [0.28, 0.29, 0.30])\n",
    "plt.xlabel('log(C)')\n",
    "plt.ylabel('neg-logloss')\n",
    "plt.show()\n",
    "\n",
    "#print ('C is:',lr_cv.C_)  #对多类分类问题，每个类别的分类器有一个C"
   ]
  },
  {
   "cell_type": "code",
   "execution_count": 82,
   "metadata": {
    "scrolled": true
   },
   "outputs": [
    {
     "data": {
      "text/plain": [
       "array([[ 0.44755728,  1.12809827, -0.24050707,  0.03115452, -0.0763311 ,\n",
       "         0.61425104,  0.37697351,  0.11844018]])"
      ]
     },
     "execution_count": 82,
     "metadata": {},
     "output_type": "execute_result"
    }
   ],
   "source": [
    "lrcv_L1.coef_"
   ]
  },
  {
   "cell_type": "code",
   "execution_count": 83,
   "metadata": {},
   "outputs": [
    {
     "name": "stdout",
     "output_type": "stream",
     "text": [
      "best C  is: [1.1]\n"
     ]
    }
   ],
   "source": [
    "print ('best C  is:',lrcv_L1.C_)"
   ]
  },
  {
   "cell_type": "markdown",
   "metadata": {},
   "source": [
    "LogisticRegressionCV + L1正则 最优C选择"
   ]
  },
  {
   "cell_type": "code",
   "execution_count": 84,
   "metadata": {
    "scrolled": true
   },
   "outputs": [
    {
     "name": "stdout",
     "output_type": "stream",
     "text": [
      "Classification report for classifier LogisticRegressionCV(Cs=[0.1, 0.2, 0.3, 0.4, 0.5, 0.6, 0.7, 0.8, 0.9, 1.0, 1.1, 1.2, 1.3, 1.4, 1.5, 1.6, 1.7, 1.8, 1.9, 2.0, 2.1, 2.2, 2.3, 2.4, 2.5, 2.6, 2.7, 2.8, 2.9, 3.0, 3.1, 3.2, 3.3, 3.4, 3.5, 3.6, 3.7, 3.8, 3.9, 4.0, 4.1, 4.2, 4.3, 4.4, 4.5, 4.6, 4.7, 4.8, 4.9, 5.0, 5.1, 5.2, 5.3, 5.4, 5.5, 5.6, 5.7, 5.8, 5.9, 6.0, 6.1, 6.2, 6.3, 6.4, 6.5, 6.6, 6.7, 6.8, 6.9, 7.0, 7.1, 7.2, 7.3, 7.4, 7.5, 7.6, 7.7, 7.8, 7.9, 8.0, 8.1, 8.2, 8.3, 8.4, 8.5, 8.6, 8.7, 8.8, 8.9, 9.0, 9.1, 9.2, 9.3, 9.4, 9.5, 9.6, 9.7, 9.8, 9.9],\n",
      "           class_weight=None, cv=5, dual=False, fit_intercept=True,\n",
      "           intercept_scaling=1.0, max_iter=100, multi_class='ovr',\n",
      "           n_jobs=1, penalty='l1', random_state=None, refit=True,\n",
      "           scoring='neg_log_loss', solver='liblinear', tol=0.0001,\n",
      "           verbose=0):\n",
      "             precision    recall  f1-score   support\n",
      "\n",
      "          0       0.80      0.87      0.83       101\n",
      "          1       0.70      0.58      0.63        52\n",
      "\n",
      "avg / total       0.77      0.77      0.77       153\n",
      "\n",
      "\n",
      "Confusion matrix:\n",
      "[[88 13]\n",
      " [22 30]]\n"
     ]
    },
    {
     "name": "stderr",
     "output_type": "stream",
     "text": [
      "C:\\ProgramData\\Anaconda3\\lib\\site-packages\\sklearn\\grid_search.py:42: DeprecationWarning: This module was deprecated in version 0.18 in favor of the model_selection module into which all the refactored classes and functions are moved. This module will be removed in 0.20.\n",
      "  DeprecationWarning)\n",
      "C:\\ProgramData\\Anaconda3\\lib\\site-packages\\sklearn\\learning_curve.py:22: DeprecationWarning: This module was deprecated in version 0.18 in favor of the model_selection module into which all the functions are moved. This module will be removed in 0.20\n",
      "  DeprecationWarning)\n"
     ]
    }
   ],
   "source": [
    "#使用测试集对模型进行预测\n",
    "from sklearn import *\n",
    "pre_test_logis_L1=lrcv_L1.predict(X_test)\n",
    "print(\"Classification report for classifier %s:\\n%s\\n\"\n",
    "      % (lrcv_L1, metrics.classification_report(y_test, pre_test_logis_L1)))\n",
    "print(\"Confusion matrix:\\n%s\" % metrics.confusion_matrix(y_test, pre_test_logis_L1))"
   ]
  },
  {
   "cell_type": "markdown",
   "metadata": {},
   "source": [
    "### L2正则"
   ]
  },
  {
   "cell_type": "code",
   "execution_count": 85,
   "metadata": {
    "scrolled": false
   },
   "outputs": [
    {
     "data": {
      "text/plain": [
       "LogisticRegressionCV(Cs=[0.01, 0.02, 0.03, 0.04, 0.05, 0.06, 0.07, 0.08, 0.09, 0.1, 0.11, 0.12, 0.13, 0.14, 0.15, 0.16, 0.17, 0.18, 0.19, 0.2, 0.21, 0.22, 0.23, 0.24, 0.25, 0.26, 0.27, 0.28, 0.29, 0.3, 0.31, 0.32, 0.33, 0.34, 0.35, 0.36, 0.37, 0.38, 0.39, 0.4, 0.41, 0.42, 0.43, 0.44, 0.45, 0.46, 0.47, 0.48, 0.49, 0.5, 0...85, 99.86, 99.87, 99.88, 99.89, 99.9, 99.91, 99.92, 99.93, 99.94, 99.95, 99.96, 99.97, 99.98, 99.99],\n",
       "           class_weight=None, cv=5, dual=False, fit_intercept=True,\n",
       "           intercept_scaling=1.0, max_iter=100, multi_class='ovr',\n",
       "           n_jobs=1, penalty='l2', random_state=None, refit=True,\n",
       "           scoring='neg_log_loss', solver='liblinear', tol=0.0001,\n",
       "           verbose=0)"
      ]
     },
     "execution_count": 85,
     "metadata": {},
     "output_type": "execute_result"
    }
   ],
   "source": [
    "from sklearn.linear_model import LogisticRegressionCV\n",
    "\n",
    "#Cs = [1, 10,100,1000]\n",
    "Cs=[i/100 for i in range(1,10000)]\n",
    "\n",
    "# 大量样本（6W+）、高维度（93），L2正则 --> 缺省用lbfgs，为了和GridSeachCV比较，也用liblinear\n",
    "\n",
    "lr_cv_L2 = LogisticRegressionCV(Cs=Cs, cv = 5, scoring='neg_log_loss', penalty='l2', solver='liblinear', multi_class='ovr')\n",
    "lr_cv_L2.fit(X_train, y_train)    "
   ]
  },
  {
   "cell_type": "code",
   "execution_count": 86,
   "metadata": {},
   "outputs": [
    {
     "data": {
      "text/plain": [
       "{1: array([[-0.53085928, -0.5154448 , -0.51263002, ..., -0.55006291,\n",
       "         -0.55006291, -0.55006292],\n",
       "        [-0.53323282, -0.50655638, -0.4947712 , ..., -0.46740091,\n",
       "         -0.4674009 , -0.4674009 ],\n",
       "        [-0.53725593, -0.51061104, -0.49889471, ..., -0.47198193,\n",
       "         -0.47198193, -0.47198193],\n",
       "        [-0.54129636, -0.51715397, -0.50696413, ..., -0.48741549,\n",
       "         -0.48741549, -0.48741549],\n",
       "        [-0.5027844 , -0.47052038, -0.45624181, ..., -0.41978853,\n",
       "         -0.41978853, -0.41978853]])}"
      ]
     },
     "execution_count": 86,
     "metadata": {},
     "output_type": "execute_result"
    }
   ],
   "source": [
    "lr_cv_L2.scores_"
   ]
  },
  {
   "cell_type": "code",
   "execution_count": 87,
   "metadata": {
    "scrolled": false
   },
   "outputs": [
    {
     "name": "stdout",
     "output_type": "stream",
     "text": [
      "[-0.52908576 -0.50405731 -0.49390037 ... -0.47932995 -0.47932995\n",
      " -0.47932995]\n"
     ]
    },
    {
     "data": {
      "image/png": "[encoded data removed]",
      "text/plain": [
       "<matplotlib.figure.Figure at 0x14f35748>"
      ]
     },
     "metadata": {},
     "output_type": "display_data"
    },
    {
     "name": "stdout",
     "output_type": "stream",
     "text": [
      "best C  is: [0.28]\n"
     ]
    }
   ],
   "source": [
    "# dict with classes as the keys, and the values as the grid of scores obtained during cross-validating each fold,\n",
    "# Each dict value has shape (n_folds, len(Cs))\n",
    "n_Cs = len(Cs)\n",
    "n_classes = 1\n",
    "scores =  np.zeros((n_classes,n_Cs))\n",
    "print(np.mean(lr_cv_L2.scores_[1],axis = 0))\n",
    "\n",
    "scores[0][:] = np.mean(lr_cv_L2.scores_[1],axis = 0)\n",
    "    \n",
    "mse_mean = np.mean(scores, axis = 0)\n",
    "plt.plot(np.log10(Cs), mse_mean.reshape(n_Cs,1)) \n",
    "#plt.plot(np.log10(reg.Cs)*np.ones(3), [0.28, 0.29, 0.30])\n",
    "plt.xlabel('log(C)')\n",
    "plt.ylabel('neg-logloss')\n",
    "plt.show()\n",
    "\n",
    "print ('best C  is:',lr_cv_L2.C_)  #对多类分类问题，每个类别的分类器有一个C"
   ]
  },
  {
   "cell_type": "code",
   "execution_count": 91,
   "metadata": {
    "scrolled": false
   },
   "outputs": [
    {
     "name": "stdout",
     "output_type": "stream",
     "text": [
      "Classification report for classifier LogisticRegressionCV(Cs=[0.01, 0.02, 0.03, 0.04, 0.05, 0.06, 0.07, 0.08, 0.09, 0.1, 0.11, 0.12, 0.13, 0.14, 0.15, 0.16, 0.17, 0.18, 0.19, 0.2, 0.21, 0.22, 0.23, 0.24, 0.25, 0.26, 0.27, 0.28, 0.29, 0.3, 0.31, 0.32, 0.33, 0.34, 0.35, 0.36, 0.37, 0.38, 0.39, 0.4, 0.41, 0.42, 0.43, 0.44, 0.45, 0.46, 0.47, 0.48, 0.49, 0.5, 0...85, 99.86, 99.87, 99.88, 99.89, 99.9, 99.91, 99.92, 99.93, 99.94, 99.95, 99.96, 99.97, 99.98, 99.99],\n",
      "           class_weight=None, cv=5, dual=False, fit_intercept=True,\n",
      "           intercept_scaling=1.0, max_iter=100, multi_class='ovr',\n",
      "           n_jobs=1, penalty='l2', random_state=None, refit=True,\n",
      "           scoring='neg_log_loss', solver='liblinear', tol=0.0001,\n",
      "           verbose=0):\n",
      "             precision    recall  f1-score   support\n",
      "\n",
      "          0       0.80      0.87      0.83       101\n",
      "          1       0.70      0.58      0.63        52\n",
      "\n",
      "avg / total       0.77      0.77      0.77       153\n",
      "\n",
      "\n",
      "Confusion matrix:\n",
      "[[88 13]\n",
      " [22 30]]\n"
     ]
    }
   ],
   "source": [
    "#对测试集进行预测\n",
    "from sklearn import metrics\n",
    "pre_test_logis_L2=lr_cv_L2.predict(X_test)\n",
    "print(\"Classification report for classifier %s:\\n%s\\n\"\n",
    "      % (lr_cv_L2, metrics.classification_report(y_test, pre_test_logis_L2)))\n",
    "print(\"Confusion matrix:\\n%s\" % metrics.confusion_matrix(y_test, pre_test_logis_L2))"
   ]
  },
  {
   "cell_type": "markdown",
   "metadata": {},
   "source": [
    "# 支持向量机分类回归问题"
   ]
  },
  {
   "cell_type": "code",
   "execution_count": 92,
   "metadata": {
    "collapsed": true
   },
   "outputs": [],
   "source": [
    "#LinearSVC不能得到每类的概率，在Otto数据集要求输出每类的概率，这里只是示意SVM的使用方法\n",
    "#https://xacecask2.gitbooks.io/scikit-learn-user-guide-chinese-version/content/sec1.4.html\n",
    "#1.4.1.2. 得分与概率\n",
    "from sklearn.svm import LinearSVC\n",
    "from sklearn.metrics import accuracy_score\n",
    "\n",
    "SVC1 = LinearSVC().fit(X_train, y_train)"
   ]
  },
  {
   "cell_type": "code",
   "execution_count": 93,
   "metadata": {
    "scrolled": true
   },
   "outputs": [
    {
     "name": "stdout",
     "output_type": "stream",
     "text": [
      "Classification report for classifier LinearSVC(C=1.0, class_weight=None, dual=True, fit_intercept=True,\n",
      "     intercept_scaling=1, loss='squared_hinge', max_iter=1000,\n",
      "     multi_class='ovr', penalty='l2', random_state=None, tol=0.0001,\n",
      "     verbose=0):\n",
      "             precision    recall  f1-score   support\n",
      "\n",
      "          0       0.79      0.87      0.83       101\n",
      "          1       0.69      0.56      0.62        52\n",
      "\n",
      "avg / total       0.76      0.76      0.76       153\n",
      "\n",
      "\n",
      "Confusion matrix:\n",
      "[[88 13]\n",
      " [23 29]]\n"
     ]
    }
   ],
   "source": [
    "#在校验集上测试，估计模型性能\n",
    "y_predict = SVC1.predict(X_test)\n",
    "\n",
    "print(\"Classification report for classifier %s:\\n%s\\n\"\n",
    "      % (SVC1, metrics.classification_report(y_test, y_predict)))\n",
    "print(\"Confusion matrix:\\n%s\" % metrics.confusion_matrix(y_test, y_predict))"
   ]
  },
  {
   "cell_type": "markdown",
   "metadata": {},
   "source": [
    "### 线性SVM正则参数调优"
   ]
  },
  {
   "cell_type": "markdown",
   "metadata": {},
   "source": [
    "线性SVM LinearSVC的需要调整正则超参数包括C（正则系数，一般在log域（取log后的值）均匀设置候选参数）和正则函数penalty（L2/L1） \n",
    "\n",
    "采用交叉验证，网格搜索步骤与Logistic回归正则参数处理类似，在此略。\n",
    "\n",
    "这里我们用校验集（X_val、y_val）来估计模型性能"
   ]
  },
  {
   "cell_type": "code",
   "execution_count": 94,
   "metadata": {
    "collapsed": true
   },
   "outputs": [],
   "source": [
    "def fit_grid_point_Linear(C, X_train, y_train, X_val, y_val):\n",
    "    \n",
    "    # 在训练集是那个利用SVC训练\n",
    "    SVC2 =  LinearSVC( C = C,penalty='l2')\n",
    "    SVC2 = SVC2.fit(X_train, y_train)\n",
    "    \n",
    "    # 在校验集上返回accuracy\n",
    "    accuracy = SVC2.score(X_val, y_val)\n",
    "    \n",
    "    print(\"accuracy: {}\".format(accuracy),\"C=%f\"%(C))\n",
    "    return accuracy"
   ]
  },
  {
   "cell_type": "code",
   "execution_count": 95,
   "metadata": {},
   "outputs": [
    {
     "name": "stdout",
     "output_type": "stream",
     "text": [
      "accuracy: 0.7777777777777778 C=0.010000\n",
      "accuracy: 0.7777777777777778 C=0.021544\n",
      "accuracy: 0.7777777777777778 C=0.046416\n",
      "accuracy: 0.7647058823529411 C=0.100000\n",
      "accuracy: 0.7647058823529411 C=0.215443\n",
      "accuracy: 0.7647058823529411 C=0.464159\n",
      "accuracy: 0.7647058823529411 C=1.000000\n",
      "accuracy: 0.7647058823529411 C=2.154435\n",
      "accuracy: 0.7712418300653595 C=4.641589\n",
      "accuracy: 0.7712418300653595 C=10.000000\n"
     ]
    },
    {
     "data": {
      "image/png": "[encoded data removed]",
      "text/plain": [
       "<matplotlib.figure.Figure at 0x150d5860>"
      ]
     },
     "metadata": {},
     "output_type": "display_data"
    }
   ],
   "source": [
    "#需要调优的参数\n",
    "C_s = np.logspace(-2, 1, 10)# logspace(a,b,N)把10的a次方到10的b次方区间分成N份  \n",
    "#penalty_s = ['l1','l2']\n",
    "\n",
    "accuracy_s = []\n",
    "for i, oneC in enumerate(C_s):\n",
    "#    for j, penalty in enumerate(penalty_s):\n",
    "    tmp = fit_grid_point_Linear(oneC, X_train, y_train, X_test, y_test)\n",
    "    accuracy_s.append(tmp)\n",
    "\n",
    "x_axis = np.log10(C_s)\n",
    "#for j, penalty in enumerate(penalty_s):\n",
    "plt.plot(x_axis, np.array(accuracy_s), 'b-')\n",
    "    \n",
    "plt.legend()\n",
    "plt.xlabel( 'log(C)' )                                                                                                      \n",
    "plt.ylabel( 'accuracy' )\n",
    "plt.savefig('SVM_Otto.png' )\n",
    "\n",
    "plt.show()"
   ]
  },
  {
   "cell_type": "markdown",
   "metadata": {},
   "source": [
    "### RBF核SVM正则参数调优\n",
    "\n",
    "RBF核是SVM最常用的核函数。\n",
    "RBF核SVM 的需要调整正则超参数包括C（正则系数，一般在log域（取log后的值）均匀设置候选参数）和核函数的宽度gamma\n",
    "C越小，决策边界越平滑； \n",
    "gamma越小，决策边界越平滑。\n",
    "\n",
    "采用交叉验证，网格搜索步骤与Logistic回归正则参数处理类似，在此略。\n",
    "\n",
    "这里我们用校验集（X_val、y_val）来估计模型性能"
   ]
  },
  {
   "cell_type": "code",
   "execution_count": 96,
   "metadata": {
    "collapsed": true
   },
   "outputs": [],
   "source": [
    "from sklearn.svm import SVC"
   ]
  },
  {
   "cell_type": "code",
   "execution_count": 97,
   "metadata": {
    "collapsed": true
   },
   "outputs": [],
   "source": [
    "def fit_grid_point_RBF(C, gamma, X_train, y_train, X_val, y_val):\n",
    "    \n",
    "    # 在训练集是那个利用SVC训练\n",
    "    SVC3 =  SVC( C = C, kernel='rbf', gamma = gamma)\n",
    "    SVC3 = SVC3.fit(X_train, y_train)\n",
    "    \n",
    "    # 在校验集上返回accuracy\n",
    "    accuracy = SVC3.score(X_val, y_val)\n",
    "    \n",
    "    print(\"accuracy: {}\".format(accuracy),\"C=%f\"%(C),\"gamma=%f\"%(gamma))\n",
    "    return accuracy"
   ]
  },
  {
   "cell_type": "code",
   "execution_count": 98,
   "metadata": {},
   "outputs": [
    {
     "name": "stdout",
     "output_type": "stream",
     "text": [
      "accuracy: 0.6601307189542484 C=0.010000 gamma=0.010000\n",
      "accuracy: 0.6601307189542484 C=0.010000 gamma=0.100000\n",
      "accuracy: 0.6601307189542484 C=0.010000 gamma=1.000000\n",
      "accuracy: 0.6601307189542484 C=0.010000 gamma=10.000000\n",
      "accuracy: 0.6601307189542484 C=0.010000 gamma=100.000000\n",
      "accuracy: 0.6601307189542484 C=0.021544 gamma=0.010000\n",
      "accuracy: 0.6601307189542484 C=0.021544 gamma=0.100000\n",
      "accuracy: 0.6601307189542484 C=0.021544 gamma=1.000000\n",
      "accuracy: 0.6601307189542484 C=0.021544 gamma=10.000000\n",
      "accuracy: 0.6601307189542484 C=0.021544 gamma=100.000000\n",
      "accuracy: 0.6601307189542484 C=0.046416 gamma=0.010000\n",
      "accuracy: 0.6666666666666666 C=0.046416 gamma=0.100000\n",
      "accuracy: 0.6601307189542484 C=0.046416 gamma=1.000000\n",
      "accuracy: 0.6601307189542484 C=0.046416 gamma=10.000000\n",
      "accuracy: 0.6601307189542484 C=0.046416 gamma=100.000000\n",
      "accuracy: 0.6601307189542484 C=0.100000 gamma=0.010000\n",
      "accuracy: 0.7581699346405228 C=0.100000 gamma=0.100000\n",
      "accuracy: 0.6601307189542484 C=0.100000 gamma=1.000000\n",
      "accuracy: 0.6601307189542484 C=0.100000 gamma=10.000000\n",
      "accuracy: 0.6601307189542484 C=0.100000 gamma=100.000000\n",
      "accuracy: 0.7581699346405228 C=0.215443 gamma=0.010000\n",
      "accuracy: 0.7712418300653595 C=0.215443 gamma=0.100000\n",
      "accuracy: 0.6601307189542484 C=0.215443 gamma=1.000000\n",
      "accuracy: 0.6601307189542484 C=0.215443 gamma=10.000000\n",
      "accuracy: 0.6601307189542484 C=0.215443 gamma=100.000000\n",
      "accuracy: 0.7712418300653595 C=0.464159 gamma=0.010000\n",
      "accuracy: 0.7712418300653595 C=0.464159 gamma=0.100000\n",
      "accuracy: 0.6601307189542484 C=0.464159 gamma=1.000000\n",
      "accuracy: 0.6601307189542484 C=0.464159 gamma=10.000000\n",
      "accuracy: 0.6601307189542484 C=0.464159 gamma=100.000000\n",
      "accuracy: 0.7647058823529411 C=1.000000 gamma=0.010000\n",
      "accuracy: 0.7581699346405228 C=1.000000 gamma=0.100000\n",
      "accuracy: 0.6797385620915033 C=1.000000 gamma=1.000000\n",
      "accuracy: 0.6601307189542484 C=1.000000 gamma=10.000000\n",
      "accuracy: 0.6601307189542484 C=1.000000 gamma=100.000000\n",
      "accuracy: 0.7712418300653595 C=2.154435 gamma=0.010000\n",
      "accuracy: 0.7581699346405228 C=2.154435 gamma=0.100000\n",
      "accuracy: 0.673202614379085 C=2.154435 gamma=1.000000\n",
      "accuracy: 0.6601307189542484 C=2.154435 gamma=10.000000\n",
      "accuracy: 0.6601307189542484 C=2.154435 gamma=100.000000\n",
      "accuracy: 0.7777777777777778 C=4.641589 gamma=0.010000\n",
      "accuracy: 0.7777777777777778 C=4.641589 gamma=0.100000\n",
      "accuracy: 0.6797385620915033 C=4.641589 gamma=1.000000\n",
      "accuracy: 0.6601307189542484 C=4.641589 gamma=10.000000\n",
      "accuracy: 0.6601307189542484 C=4.641589 gamma=100.000000\n",
      "accuracy: 0.7843137254901961 C=10.000000 gamma=0.010000\n",
      "accuracy: 0.7712418300653595 C=10.000000 gamma=0.100000\n",
      "accuracy: 0.6797385620915033 C=10.000000 gamma=1.000000\n",
      "accuracy: 0.6601307189542484 C=10.000000 gamma=10.000000\n",
      "accuracy: 0.6601307189542484 C=10.000000 gamma=100.000000\n"
     ]
    }
   ],
   "source": [
    "#需要调优的参数\n",
    "C_s = np.logspace(-2, 1, 10)# logspace(a,b,N)把10的a次方到10的b次方区间分成N份 \n",
    "gamma_s = np.logspace(-2, 2, 5)    \n",
    "\n",
    "accuracy_s = []\n",
    "for i, oneC in enumerate(C_s):\n",
    "    for j, gamma in enumerate(gamma_s):\n",
    "        tmp = fit_grid_point_RBF(oneC, gamma, X_train, y_train, X_test, y_test)\n",
    "        accuracy_s.append(tmp)"
   ]
  },
  {
   "cell_type": "markdown",
   "metadata": {},
   "source": [
    "从上述部分运行结果来看，gamma参数设置不合适（gamma越大，对应RBF核的sigma越小，决策边界更复杂，可能发生了过拟合）\n",
    "所以调小gamma值"
   ]
  },
  {
   "cell_type": "code",
   "execution_count": 99,
   "metadata": {},
   "outputs": [
    {
     "name": "stdout",
     "output_type": "stream",
     "text": [
      "accuracy: 0.6601307189542484 C=0.010000 gamma=0.010000\n",
      "accuracy: 0.6601307189542484 C=0.010000 gamma=0.017783\n",
      "accuracy: 0.6601307189542484 C=0.010000 gamma=0.031623\n",
      "accuracy: 0.6601307189542484 C=0.010000 gamma=0.056234\n",
      "accuracy: 0.6601307189542484 C=0.010000 gamma=0.100000\n",
      "accuracy: 0.6601307189542484 C=0.021544 gamma=0.010000\n",
      "accuracy: 0.6601307189542484 C=0.021544 gamma=0.017783\n",
      "accuracy: 0.6601307189542484 C=0.021544 gamma=0.031623\n",
      "accuracy: 0.6601307189542484 C=0.021544 gamma=0.056234\n",
      "accuracy: 0.6601307189542484 C=0.021544 gamma=0.100000\n",
      "accuracy: 0.6601307189542484 C=0.046416 gamma=0.010000\n",
      "accuracy: 0.6601307189542484 C=0.046416 gamma=0.017783\n",
      "accuracy: 0.6601307189542484 C=0.046416 gamma=0.031623\n",
      "accuracy: 0.673202614379085 C=0.046416 gamma=0.056234\n",
      "accuracy: 0.6666666666666666 C=0.046416 gamma=0.100000\n",
      "accuracy: 0.6601307189542484 C=0.100000 gamma=0.010000\n",
      "accuracy: 0.738562091503268 C=0.100000 gamma=0.017783\n",
      "accuracy: 0.7647058823529411 C=0.100000 gamma=0.031623\n",
      "accuracy: 0.7712418300653595 C=0.100000 gamma=0.056234\n",
      "accuracy: 0.7581699346405228 C=0.100000 gamma=0.100000\n",
      "accuracy: 0.7581699346405228 C=0.215443 gamma=0.010000\n",
      "accuracy: 0.7777777777777778 C=0.215443 gamma=0.017783\n",
      "accuracy: 0.7712418300653595 C=0.215443 gamma=0.031623\n",
      "accuracy: 0.7712418300653595 C=0.215443 gamma=0.056234\n",
      "accuracy: 0.7712418300653595 C=0.215443 gamma=0.100000\n",
      "accuracy: 0.7712418300653595 C=0.464159 gamma=0.010000\n",
      "accuracy: 0.7777777777777778 C=0.464159 gamma=0.017783\n",
      "accuracy: 0.7843137254901961 C=0.464159 gamma=0.031623\n",
      "accuracy: 0.7843137254901961 C=0.464159 gamma=0.056234\n",
      "accuracy: 0.7712418300653595 C=0.464159 gamma=0.100000\n",
      "accuracy: 0.7647058823529411 C=1.000000 gamma=0.010000\n",
      "accuracy: 0.7843137254901961 C=1.000000 gamma=0.017783\n",
      "accuracy: 0.7843137254901961 C=1.000000 gamma=0.031623\n",
      "accuracy: 0.7777777777777778 C=1.000000 gamma=0.056234\n",
      "accuracy: 0.7581699346405228 C=1.000000 gamma=0.100000\n",
      "accuracy: 0.7712418300653595 C=2.154435 gamma=0.010000\n",
      "accuracy: 0.7777777777777778 C=2.154435 gamma=0.017783\n",
      "accuracy: 0.7777777777777778 C=2.154435 gamma=0.031623\n",
      "accuracy: 0.7712418300653595 C=2.154435 gamma=0.056234\n",
      "accuracy: 0.7581699346405228 C=2.154435 gamma=0.100000\n",
      "accuracy: 0.7777777777777778 C=4.641589 gamma=0.010000\n",
      "accuracy: 0.7777777777777778 C=4.641589 gamma=0.017783\n",
      "accuracy: 0.7712418300653595 C=4.641589 gamma=0.031623\n",
      "accuracy: 0.7843137254901961 C=4.641589 gamma=0.056234\n",
      "accuracy: 0.7777777777777778 C=4.641589 gamma=0.100000\n",
      "accuracy: 0.7843137254901961 C=10.000000 gamma=0.010000\n",
      "accuracy: 0.7647058823529411 C=10.000000 gamma=0.017783\n",
      "accuracy: 0.7908496732026143 C=10.000000 gamma=0.031623\n",
      "accuracy: 0.7712418300653595 C=10.000000 gamma=0.056234\n",
      "accuracy: 0.7712418300653595 C=10.000000 gamma=0.100000\n"
     ]
    }
   ],
   "source": [
    "#需要调优的参数\n",
    "C_s = np.logspace(-2, 1, 10)# logspace(a,b,N)把10的a次方到10的b次方区间分成N份 \n",
    "gamma_s = np.logspace(-2, -1, 5)  \n",
    "\n",
    "accuracy_s = []\n",
    "for i, oneC in enumerate(C_s):\n",
    "    for j, gamma in enumerate(gamma_s):\n",
    "        tmp = fit_grid_point_RBF(oneC, gamma, X_train, y_train, X_test, y_test)\n",
    "        accuracy_s.append(tmp)"
   ]
  },
  {
   "cell_type": "code",
   "execution_count": 100,
   "metadata": {
    "scrolled": true
   },
   "outputs": [
    {
     "data": {
      "image/png": "[encoded data removed]",
      "text/plain": [
       "<matplotlib.figure.Figure at 0x14c0f320>"
      ]
     },
     "metadata": {},
     "output_type": "display_data"
    }
   ],
   "source": [
    "accuracy_s1 =np.array(accuracy_s).reshape(len(C_s),len(gamma_s))\n",
    "x_axis = np.log10(C_s)\n",
    "for j, gamma in enumerate(gamma_s):\n",
    "    plt.plot(x_axis, np.array(accuracy_s1[:,j]), label = ' Test - log(gamma)' + str(np.log10(gamma)))\n",
    "\n",
    "plt.legend()\n",
    "plt.xlabel( 'log(C)' )                                                                                                      \n",
    "plt.ylabel( 'accuracy' )\n",
    "plt.savefig('RBF_SVM_Otto.png' )\n",
    "\n",
    "plt.show()"
   ]
  },
  {
   "cell_type": "markdown",
   "metadata": {
    "collapsed": true
   },
   "source": [
    "accuracy: 0.7973856209150327 C=0.215443 gamma=0.100000 这个时候结果比较理想一点"
   ]
  },
  {
   "cell_type": "markdown",
   "metadata": {
    "collapsed": true
   },
   "source": [
    "现在将分割数据集改为随机，测试结果可能会发生差异"
   ]
  },
  {
   "cell_type": "code",
   "execution_count": null,
   "metadata": {
    "collapsed": true
   },
   "outputs": [],
   "source": []
  }
 ],
 "metadata": {
  "kernelspec": {
   "display_name": "Python 3",
   "language": "python",
   "name": "python3"
  },
  "language_info": {
   "codemirror_mode": {
    "name": "ipython",
    "version": 3
   },
   "file_extension": ".py",
   "mimetype": "text/x-python",
   "name": "python",
   "nbconvert_exporter": "python",
   "pygments_lexer": "ipython3",
   "version": "3.6.3"
  }
 },
 "nbformat": 4,
 "nbformat_minor": 2
}
